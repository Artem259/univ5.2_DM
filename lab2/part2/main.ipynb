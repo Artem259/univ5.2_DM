{
 "cells": [
  {
   "cell_type": "code",
   "id": "initial_id",
   "metadata": {
    "collapsed": true,
    "jupyter": {
     "outputs_hidden": true
    }
   },
   "source": [
    "import pandas as pd\n",
    "import sklearn\n",
    "from sklearn.metrics.cluster import adjusted_rand_score\n",
    "\n",
    "import service\n",
    "from clustering.KMeans import KMeans\n",
    "from clustering.KMedoids import KMedoids\n",
    "from clustering.DBSCAN import DBSCAN"
   ],
   "outputs": [],
   "execution_count": null
  },
  {
   "cell_type": "markdown",
   "id": "b54400ba6d61413e",
   "metadata": {},
   "source": [
    "### data_1"
   ]
  },
  {
   "cell_type": "code",
   "id": "62e6c2aaffd66347",
   "metadata": {},
   "source": [
    "df = pd.read_csv('data/data_1.csv')\n",
    "df.info()"
   ],
   "outputs": [],
   "execution_count": null
  },
  {
   "cell_type": "code",
   "id": "f78372ddc44c3e2c",
   "metadata": {},
   "source": [
    "X, labels = df.drop(columns='label'), df['label']\n",
    "X.shape, labels.shape"
   ],
   "outputs": [],
   "execution_count": null
  },
  {
   "cell_type": "code",
   "id": "5ff1a70a13ea4ed",
   "metadata": {},
   "source": [
    "X = X[['x', 'y']].to_numpy()"
   ],
   "outputs": [],
   "execution_count": null
  },
  {
   "cell_type": "code",
   "id": "5068e450fc7eb26a",
   "metadata": {},
   "source": "service.plot_raw_data(X, labels)",
   "outputs": [],
   "execution_count": null
  },
  {
   "cell_type": "markdown",
   "id": "1a973aca955f91ba",
   "metadata": {},
   "source": [
    "#### KMeans"
   ]
  },
  {
   "metadata": {},
   "cell_type": "code",
   "source": [
    "n_clusters = 3\n",
    "init = [[1, 5], [5, 5], [10, 6]]\n",
    "max_iter = 10\n",
    "random_state = 42"
   ],
   "id": "d4777013b2d9f135",
   "outputs": [],
   "execution_count": null
  },
  {
   "cell_type": "code",
   "id": "b7deada3d157ee48",
   "metadata": {},
   "source": [
    "clusterer = KMeans(\n",
    "    n_clusters=n_clusters,\n",
    "    init=init,\n",
    "    max_iter=max_iter,\n",
    "    random_state=random_state,\n",
    ")\n",
    "clusterer.fit(X);"
   ],
   "outputs": [],
   "execution_count": null
  },
  {
   "metadata": {},
   "cell_type": "code",
   "source": "clusterer.n_iter_",
   "id": "734cce9cbbaf3d25",
   "outputs": [],
   "execution_count": null
  },
  {
   "cell_type": "code",
   "id": "fc708e8fb8551ed9",
   "metadata": {},
   "source": [
    "service.plot_clusters(\n",
    "    X,\n",
    "    labels=labels,\n",
    "    cluster_labels=clusterer.labels_,\n",
    "    cluster_centers=clusterer.cluster_centers_,\n",
    ")"
   ],
   "outputs": [],
   "execution_count": null
  },
  {
   "metadata": {},
   "cell_type": "markdown",
   "source": "Compare with similar scikit-learn model",
   "id": "54230192714e47df"
  },
  {
   "metadata": {},
   "cell_type": "code",
   "source": [
    "sk_clusterer = sklearn.cluster.KMeans(\n",
    "    n_clusters=n_clusters,\n",
    "    init=init,\n",
    "    max_iter=max_iter,\n",
    "    random_state=random_state,\n",
    ")\n",
    "sk_clusterer.fit(X);"
   ],
   "id": "93960457d4227b0",
   "outputs": [],
   "execution_count": null
  },
  {
   "metadata": {},
   "cell_type": "code",
   "source": "sk_clusterer.n_iter_",
   "id": "2fc6dfe52f80dc42",
   "outputs": [],
   "execution_count": null
  },
  {
   "metadata": {},
   "cell_type": "code",
   "source": [
    "service.plot_clusters(\n",
    "    X,\n",
    "    labels=labels,\n",
    "    cluster_labels=sk_clusterer.labels_,\n",
    "    cluster_centers=sk_clusterer.cluster_centers_,\n",
    ")"
   ],
   "id": "172a8fd8f7ee84d5",
   "outputs": [],
   "execution_count": null
  },
  {
   "metadata": {},
   "cell_type": "code",
   "source": "assert adjusted_rand_score(clusterer.labels_, sk_clusterer.labels_) == 1.0",
   "id": "a2ac71d958d0ee15",
   "outputs": [],
   "execution_count": null
  },
  {
   "metadata": {},
   "cell_type": "markdown",
   "source": "#### KMedoids",
   "id": "801a8404e5b1db01"
  },
  {
   "metadata": {},
   "cell_type": "code",
   "source": [
    "n_clusters = 3\n",
    "init = [[5, 5], [5, 7], [6, 6]]\n",
    "max_iter = 10\n",
    "random_state = 42"
   ],
   "id": "70c4e91263ee8ad9",
   "outputs": [],
   "execution_count": null
  },
  {
   "metadata": {},
   "cell_type": "code",
   "source": [
    "clusterer = KMedoids(\n",
    "    n_clusters=n_clusters,\n",
    "    init=init,\n",
    "    max_iter=max_iter,\n",
    "    random_state=random_state,\n",
    ")\n",
    "clusterer.fit(X);"
   ],
   "id": "1791dc8778ffe521",
   "outputs": [],
   "execution_count": null
  },
  {
   "metadata": {},
   "cell_type": "code",
   "source": "clusterer.n_iter_",
   "id": "ae3616e109c14b62",
   "outputs": [],
   "execution_count": null
  },
  {
   "metadata": {},
   "cell_type": "code",
   "source": "clusterer.cluster_center_indices_",
   "id": "9f118114d486ad58",
   "outputs": [],
   "execution_count": null
  },
  {
   "metadata": {},
   "cell_type": "code",
   "source": [
    "service.plot_clusters(\n",
    "    X,\n",
    "    labels=labels,\n",
    "    cluster_labels=clusterer.labels_,\n",
    "    cluster_centers=clusterer.cluster_centers_,\n",
    ")"
   ],
   "id": "a163db5f9ad2a342",
   "outputs": [],
   "execution_count": null
  },
  {
   "metadata": {},
   "cell_type": "markdown",
   "source": "#### DBSCAN",
   "id": "8fdf1886b01f2f23"
  },
  {
   "metadata": {},
   "cell_type": "code",
   "source": [
    "eps = 2.5\n",
    "min_samples = 3"
   ],
   "id": "3e4f31bf7295b9eb",
   "outputs": [],
   "execution_count": null
  },
  {
   "metadata": {},
   "cell_type": "code",
   "source": [
    "clusterer = DBSCAN(\n",
    "    eps=eps,\n",
    "    min_samples=min_samples,\n",
    ")\n",
    "clusterer.fit(X);"
   ],
   "id": "8845981fd2191dd1",
   "outputs": [],
   "execution_count": null
  },
  {
   "metadata": {},
   "cell_type": "code",
   "source": "clusterer.core_sample_indices_",
   "id": "fa12b11c60440915",
   "outputs": [],
   "execution_count": null
  },
  {
   "metadata": {},
   "cell_type": "code",
   "source": [
    "service.plot_clusters(\n",
    "    X,\n",
    "    labels=labels,\n",
    "    cluster_labels=clusterer.labels_,\n",
    ")"
   ],
   "id": "929fae155281ef03",
   "outputs": [],
   "execution_count": null
  },
  {
   "metadata": {},
   "cell_type": "markdown",
   "source": "Compare with similar scikit-learn model",
   "id": "d6b8f17b22d639fd"
  },
  {
   "metadata": {},
   "cell_type": "code",
   "source": [
    "sk_clusterer = sklearn.cluster.DBSCAN(\n",
    "    eps=eps,\n",
    "    min_samples=min_samples,\n",
    ")\n",
    "sk_clusterer.fit(X);"
   ],
   "id": "d3536a1079ca3081",
   "outputs": [],
   "execution_count": null
  },
  {
   "metadata": {},
   "cell_type": "code",
   "source": "sk_clusterer.core_sample_indices_",
   "id": "3966fa80bd6ce26",
   "outputs": [],
   "execution_count": null
  },
  {
   "metadata": {},
   "cell_type": "code",
   "source": [
    "service.plot_clusters(\n",
    "    X,\n",
    "    labels=labels,\n",
    "    cluster_labels=sk_clusterer.labels_,\n",
    ")"
   ],
   "id": "aab92c04fdf9cce4",
   "outputs": [],
   "execution_count": null
  },
  {
   "metadata": {},
   "cell_type": "code",
   "source": "assert adjusted_rand_score(clusterer.labels_, sk_clusterer.labels_) == 1.0",
   "id": "8e0b63bba256c972",
   "outputs": [],
   "execution_count": null
  },
  {
   "metadata": {},
   "cell_type": "markdown",
   "source": "#### AgglomerativeClustering",
   "id": "86fb53e648d38673"
  },
  {
   "metadata": {},
   "cell_type": "code",
   "source": "n_clusters = 3",
   "id": "87489e667a4f3301",
   "outputs": [],
   "execution_count": null
  },
  {
   "metadata": {},
   "cell_type": "markdown",
   "source": "##### linkage='single'",
   "id": "68caa413298f66df"
  },
  {
   "metadata": {},
   "cell_type": "code",
   "source": "linkage='single'",
   "id": "6856ab8dfab5ad63",
   "outputs": [],
   "execution_count": null
  },
  {
   "metadata": {},
   "cell_type": "code",
   "source": "# TODO",
   "id": "ef29eeab45aac412",
   "outputs": [],
   "execution_count": null
  },
  {
   "metadata": {},
   "cell_type": "markdown",
   "source": "Compare with similar scikit-learn model",
   "id": "89332f32449a6e75"
  },
  {
   "metadata": {},
   "cell_type": "code",
   "source": [
    "sk_clusterer = sklearn.cluster.AgglomerativeClustering(\n",
    "    n_clusters=n_clusters,\n",
    "    linkage=linkage,\n",
    "    compute_distances=True,\n",
    ")\n",
    "sk_clusterer.fit(X);"
   ],
   "id": "5dfd092fea4dd91b",
   "outputs": [],
   "execution_count": null
  },
  {
   "metadata": {},
   "cell_type": "code",
   "source": [
    "service.plot_clusters(\n",
    "    X,\n",
    "    labels=labels,\n",
    "    cluster_labels=sk_clusterer.labels_,\n",
    ")"
   ],
   "id": "dd510a482c7c7e38",
   "outputs": [],
   "execution_count": null
  },
  {
   "metadata": {},
   "cell_type": "code",
   "source": [
    "service.plot_dendrogram(\n",
    "    children=sk_clusterer.children_,\n",
    "    distances=sk_clusterer.distances_,\n",
    "    labels=labels.to_numpy(),\n",
    "    title=f\"linkage='{linkage}'\",\n",
    ")"
   ],
   "id": "d71c4dbd2edc2279",
   "outputs": [],
   "execution_count": null
  },
  {
   "metadata": {},
   "cell_type": "code",
   "source": "# assert adjusted_rand_score(clusterer.labels_, sk_clusterer.labels_) == 1.0  # TODO",
   "id": "eb3000707103f808",
   "outputs": [],
   "execution_count": null
  },
  {
   "metadata": {},
   "cell_type": "markdown",
   "source": "##### linkage='complete'",
   "id": "4d86aa1180045728"
  },
  {
   "metadata": {},
   "cell_type": "code",
   "source": "linkage='complete'",
   "id": "4e9da88f198114c8",
   "outputs": [],
   "execution_count": null
  },
  {
   "metadata": {},
   "cell_type": "code",
   "source": "# TODO",
   "id": "5722ac6f8219355b",
   "outputs": [],
   "execution_count": null
  },
  {
   "metadata": {},
   "cell_type": "markdown",
   "source": "Compare with similar scikit-learn model",
   "id": "ec2d904048c564d7"
  },
  {
   "metadata": {},
   "cell_type": "code",
   "source": [
    "sk_clusterer = sklearn.cluster.AgglomerativeClustering(\n",
    "    n_clusters=n_clusters,\n",
    "    linkage=linkage,\n",
    "    compute_distances=True,\n",
    ")\n",
    "sk_clusterer.fit(X);"
   ],
   "id": "895f7ca586c29253",
   "outputs": [],
   "execution_count": null
  },
  {
   "metadata": {},
   "cell_type": "code",
   "source": [
    "service.plot_clusters(\n",
    "    X,\n",
    "    labels=labels,\n",
    "    cluster_labels=sk_clusterer.labels_,\n",
    ")"
   ],
   "id": "ab86ff4182bd8ddd",
   "outputs": [],
   "execution_count": null
  },
  {
   "metadata": {},
   "cell_type": "code",
   "source": [
    "service.plot_dendrogram(\n",
    "    children=sk_clusterer.children_,\n",
    "    distances=sk_clusterer.distances_,\n",
    "    labels=labels.to_numpy(),\n",
    "    title=f\"linkage='{linkage}'\",\n",
    ")"
   ],
   "id": "d58732868e9e55a6",
   "outputs": [],
   "execution_count": null
  },
  {
   "metadata": {},
   "cell_type": "code",
   "source": "# assert adjusted_rand_score(clusterer.labels_, sk_clusterer.labels_) == 1.0  # TODO",
   "id": "7be4fc41fd8402af",
   "outputs": [],
   "execution_count": null
  },
  {
   "metadata": {},
   "cell_type": "markdown",
   "source": "##### linkage='average'",
   "id": "617a24c8d7d21c30"
  },
  {
   "metadata": {},
   "cell_type": "code",
   "source": "linkage='average'",
   "id": "52e30b8310e1e3b7",
   "outputs": [],
   "execution_count": null
  },
  {
   "metadata": {},
   "cell_type": "code",
   "source": "# TODO",
   "id": "b18ef197c694395a",
   "outputs": [],
   "execution_count": null
  },
  {
   "metadata": {},
   "cell_type": "markdown",
   "source": "Compare with similar scikit-learn model",
   "id": "ac85893425e969ae"
  },
  {
   "metadata": {},
   "cell_type": "code",
   "source": [
    "sk_clusterer = sklearn.cluster.AgglomerativeClustering(\n",
    "    n_clusters=n_clusters,\n",
    "    linkage=linkage,\n",
    "    compute_distances=True,\n",
    ")\n",
    "sk_clusterer.fit(X);"
   ],
   "id": "832c88ccce6e2bd",
   "outputs": [],
   "execution_count": null
  },
  {
   "metadata": {},
   "cell_type": "code",
   "source": [
    "service.plot_clusters(\n",
    "    X,\n",
    "    labels=labels,\n",
    "    cluster_labels=sk_clusterer.labels_,\n",
    ")"
   ],
   "id": "e19676343962418a",
   "outputs": [],
   "execution_count": null
  },
  {
   "metadata": {},
   "cell_type": "code",
   "source": [
    "service.plot_dendrogram(\n",
    "    children=sk_clusterer.children_,\n",
    "    distances=sk_clusterer.distances_,\n",
    "    labels=labels.to_numpy(),\n",
    "    title=f\"linkage='{linkage}'\",\n",
    ")"
   ],
   "id": "f95663c0e9a9a15d",
   "outputs": [],
   "execution_count": null
  },
  {
   "metadata": {},
   "cell_type": "code",
   "source": "# assert adjusted_rand_score(clusterer.labels_, sk_clusterer.labels_) == 1.0  # TODO",
   "id": "e85d81c2a7f2dbf9",
   "outputs": [],
   "execution_count": null
  },
  {
   "metadata": {},
   "cell_type": "markdown",
   "source": "##### linkage='ward'",
   "id": "1ba3fb744890c4f9"
  },
  {
   "metadata": {},
   "cell_type": "code",
   "source": "linkage='ward'",
   "id": "26be67c94b01ab68",
   "outputs": [],
   "execution_count": null
  },
  {
   "metadata": {},
   "cell_type": "code",
   "source": "# TODO",
   "id": "9b4e3f64ed77bb3d",
   "outputs": [],
   "execution_count": null
  },
  {
   "metadata": {},
   "cell_type": "markdown",
   "source": "Compare with similar scikit-learn model",
   "id": "fda70a14cecd9094"
  },
  {
   "metadata": {},
   "cell_type": "code",
   "source": [
    "sk_clusterer = sklearn.cluster.AgglomerativeClustering(\n",
    "    n_clusters=n_clusters,\n",
    "    linkage=linkage,\n",
    "    compute_distances=True,\n",
    ")\n",
    "sk_clusterer.fit(X);"
   ],
   "id": "52970ab37a334e7a",
   "outputs": [],
   "execution_count": null
  },
  {
   "metadata": {},
   "cell_type": "code",
   "source": [
    "service.plot_clusters(\n",
    "    X,\n",
    "    labels=labels,\n",
    "    cluster_labels=sk_clusterer.labels_,\n",
    ")"
   ],
   "id": "595c5ae579ed7a2e",
   "outputs": [],
   "execution_count": null
  },
  {
   "metadata": {},
   "cell_type": "code",
   "source": [
    "service.plot_dendrogram(\n",
    "    children=sk_clusterer.children_,\n",
    "    distances=sk_clusterer.distances_,\n",
    "    labels=labels.to_numpy(),\n",
    "    title=f\"linkage='{linkage}'\",\n",
    ")"
   ],
   "id": "b46b8441766157cf",
   "outputs": [],
   "execution_count": null
  },
  {
   "metadata": {},
   "cell_type": "code",
   "source": "# assert adjusted_rand_score(clusterer.labels_, sk_clusterer.labels_) == 1.0  # TODO",
   "id": "e3bd5fd4e5ba17fc",
   "outputs": [],
   "execution_count": null
  },
  {
   "metadata": {},
   "cell_type": "markdown",
   "source": "### More datasets",
   "id": "d575f354436e0b3a"
  },
  {
   "metadata": {},
   "cell_type": "code",
   "source": [
    "import time\n",
    "import numpy as np\n",
    "import matplotlib.pyplot as plt\n",
    "from sklearn.preprocessing import StandardScaler\n",
    "\n",
    "np.random.seed(0)\n",
    "\n",
    "# Generate datasets\n",
    "n_samples = 1500\n",
    "datasets_list = [\n",
    "    (sklearn.datasets.make_circles(n_samples=n_samples, factor=.5, noise=.05), \"Noisy Circles\"),\n",
    "    (sklearn.datasets.make_moons(n_samples=n_samples, noise=.05), \"Noisy Moons\"),\n",
    "    (sklearn.datasets.make_blobs(n_samples=n_samples, random_state=8), \"Blobs\"),\n",
    "    ((np.random.rand(n_samples, 2), None), \"No Structure\")\n",
    "]\n",
    "\n",
    "# Define clusterers\n",
    "init = [[-1, -1], [1, 1]]\n",
    "clusterers = [\n",
    "    (\"KMeans\", KMeans(n_clusters=2, init=init)),\n",
    "    (\"sk_KMeans\", sklearn.cluster.KMeans(n_clusters=2, init=init)),\n",
    "    (\"KMedoids\", KMedoids(n_clusters=2, init=init)),\n",
    "    (\"DBSCAN\", DBSCAN(eps=0.2)),\n",
    "    (\"sk_DBSCAN\", sklearn.cluster.DBSCAN(eps=0.2, algorithm='brute')),\n",
    "]\n",
    "\n",
    "colors = np.array([x for x in 'bgrcmykbgrcmykbgrcmykbgrcmyk'])\n",
    "colors = np.hstack([colors] * 20)\n",
    "\n",
    "plt.figure(figsize=(17, 9.5))\n",
    "plt.subplots_adjust(left=0.001, right=0.999, bottom=0.001, top=0.96, wspace=0.05, hspace=0.01)\n",
    "\n",
    "plot_num = 1\n",
    "for dataset, dataset_name in datasets_list:\n",
    "    X, y = dataset\n",
    "    X = StandardScaler().fit_transform(X)\n",
    "\n",
    "    for name, algorithm in clusterers:\n",
    "        t0 = time.time()\n",
    "        algorithm.fit(X)\n",
    "        t1 = time.time()\n",
    "        y_pred = algorithm.labels_.astype(int)\n",
    "\n",
    "        plt.subplot(len(datasets_list), len(clusterers), plot_num)\n",
    "        if plot_num <= len(clusterers):\n",
    "            plt.title(name, size=18)\n",
    "\n",
    "        plt.scatter(X[:, 0], X[:, 1], color=colors[y_pred].tolist(), s=10)\n",
    "\n",
    "        if hasattr(algorithm, 'cluster_centers_'):\n",
    "            centers = algorithm.cluster_centers_\n",
    "            center_colors = colors[:len(centers)]\n",
    "            plt.scatter(centers[:, 0], centers[:, 1], s=100, c=center_colors)\n",
    "\n",
    "        plt.xlim(-2, 2)\n",
    "        plt.ylim(-2, 2)\n",
    "        plt.xticks(())\n",
    "        plt.yticks(())\n",
    "        plt.text(0.99, 0.01, ('%.2fs' % (t1 - t0)).lstrip('0'),\n",
    "                 transform=plt.gca().transAxes, size=15,\n",
    "                 horizontalalignment='right')\n",
    "        plot_num += 1\n",
    "\n",
    "plt.tight_layout()\n",
    "plt.show()"
   ],
   "id": "52b895f052b2cd3b",
   "outputs": [],
   "execution_count": null
  },
  {
   "metadata": {},
   "cell_type": "markdown",
   "source": "### Check clusterers (scikit-learn)",
   "id": "cdb71cb796da4b67"
  },
  {
   "metadata": {},
   "cell_type": "code",
   "source": [
    "clusterers = [\n",
    "    KMeans(),\n",
    "    KMedoids(),\n",
    "    DBSCAN(),\n",
    "]  # TODO"
   ],
   "id": "8ca273c7470184ed",
   "outputs": [],
   "execution_count": null
  },
  {
   "metadata": {},
   "cell_type": "code",
   "source": [
    "from sklearn.utils.estimator_checks import estimator_checks_generator\n",
    "\n",
    "for clusterer in clusterers:\n",
    "    total_checks = 0\n",
    "    skipped_checks = 0  # TODO remove?\n",
    "    for (estimator, check) in estimator_checks_generator(clusterer):\n",
    "        total_checks += 1\n",
    "        check(estimator)\n",
    "    skipped_percentage = skipped_checks / total_checks * 100\n",
    "    print(f\"{clusterer}: {skipped_checks} out of {total_checks} checks skipped ({skipped_percentage:.2f}%).\")"
   ],
   "id": "8835ab6fa6ff258f",
   "outputs": [],
   "execution_count": null
  }
 ],
 "metadata": {
  "kernelspec": {
   "display_name": "Python 3 (ipykernel)",
   "language": "python",
   "name": "python3"
  },
  "language_info": {
   "codemirror_mode": {
    "name": "ipython",
    "version": 3
   },
   "file_extension": ".py",
   "mimetype": "text/x-python",
   "name": "python",
   "nbconvert_exporter": "python",
   "pygments_lexer": "ipython3",
   "version": "3.9.13"
  }
 },
 "nbformat": 4,
 "nbformat_minor": 5
}
