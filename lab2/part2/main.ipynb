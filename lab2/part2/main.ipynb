{
 "cells": [
  {
   "cell_type": "code",
   "id": "initial_id",
   "metadata": {
    "collapsed": true,
    "jupyter": {
     "outputs_hidden": true
    },
    "ExecuteTime": {
     "end_time": "2025-03-05T21:21:12.765475Z",
     "start_time": "2025-03-05T21:21:11.933257Z"
    }
   },
   "source": [
    "import pandas as pd\n",
    "import sklearn\n",
    "from sklearn.metrics.cluster import adjusted_rand_score\n",
    "\n",
    "import service\n",
    "from clustering.KMeans import KMeans\n",
    "from clustering.KMedoids import KMedoids\n",
    "from clustering.DBSCAN import DBSCAN"
   ],
   "outputs": [],
   "execution_count": 1
  },
  {
   "cell_type": "markdown",
   "id": "b54400ba6d61413e",
   "metadata": {},
   "source": [
    "### data_1"
   ]
  },
  {
   "cell_type": "code",
   "id": "62e6c2aaffd66347",
   "metadata": {
    "ExecuteTime": {
     "end_time": "2025-03-05T21:21:12.781222Z",
     "start_time": "2025-03-05T21:21:12.769987Z"
    }
   },
   "source": [
    "df = pd.read_csv('data/data_1.csv')\n",
    "df.info()"
   ],
   "outputs": [
    {
     "name": "stdout",
     "output_type": "stream",
     "text": [
      "<class 'pandas.core.frame.DataFrame'>\n",
      "RangeIndex: 10 entries, 0 to 9\n",
      "Data columns (total 3 columns):\n",
      " #   Column  Non-Null Count  Dtype \n",
      "---  ------  --------------  ----- \n",
      " 0   x       10 non-null     int64 \n",
      " 1   y       10 non-null     int64 \n",
      " 2   label   10 non-null     object\n",
      "dtypes: int64(2), object(1)\n",
      "memory usage: 368.0+ bytes\n"
     ]
    }
   ],
   "execution_count": 2
  },
  {
   "cell_type": "code",
   "id": "f78372ddc44c3e2c",
   "metadata": {
    "ExecuteTime": {
     "end_time": "2025-03-05T21:21:12.952054Z",
     "start_time": "2025-03-05T21:21:12.937204Z"
    }
   },
   "source": [
    "X, labels = df.drop(columns='label'), df['label']\n",
    "X.shape, labels.shape"
   ],
   "outputs": [
    {
     "data": {
      "text/plain": [
       "((10, 2), (10,))"
      ]
     },
     "execution_count": 3,
     "metadata": {},
     "output_type": "execute_result"
    }
   ],
   "execution_count": 3
  },
  {
   "cell_type": "code",
   "id": "5ff1a70a13ea4ed",
   "metadata": {
    "ExecuteTime": {
     "end_time": "2025-03-05T21:21:12.982812Z",
     "start_time": "2025-03-05T21:21:12.967717Z"
    }
   },
   "source": [
    "X = X[['x', 'y']].to_numpy()"
   ],
   "outputs": [],
   "execution_count": 4
  },
  {
   "cell_type": "code",
   "id": "5068e450fc7eb26a",
   "metadata": {
    "ExecuteTime": {
     "end_time": "2025-03-05T21:21:13.075817Z",
     "start_time": "2025-03-05T21:21:12.999455Z"
    }
   },
   "source": [
    "service.plot_raw_data(X, labels)"
   ],
   "outputs": [
    {
     "data": {
      "text/plain": [
       "<Figure size 640x480 with 1 Axes>"
      ],
      "image/png": "[encoded data removed]"
     },
     "metadata": {},
     "output_type": "display_data"
    }
   ],
   "execution_count": 5
  },
  {
   "cell_type": "markdown",
   "id": "1a973aca955f91ba",
   "metadata": {},
   "source": [
    "#### KMeans"
   ]
  },
  {
   "metadata": {
    "ExecuteTime": {
     "end_time": "2025-03-05T21:21:13.107742Z",
     "start_time": "2025-03-05T21:21:13.092861Z"
    }
   },
   "cell_type": "code",
   "source": [
    "n_clusters = 3\n",
    "init = [[1, 5], [5, 5], [10, 6]]\n",
    "max_iter = 10\n",
    "random_state = 42"
   ],
   "id": "d4777013b2d9f135",
   "outputs": [],
   "execution_count": 6
  },
  {
   "cell_type": "code",
   "id": "b7deada3d157ee48",
   "metadata": {
    "ExecuteTime": {
     "end_time": "2025-03-05T21:21:13.137873Z",
     "start_time": "2025-03-05T21:21:13.123749Z"
    }
   },
   "source": [
    "clusterer = KMeans(\n",
    "    n_clusters=n_clusters,\n",
    "    init=init,\n",
    "    max_iter=max_iter,\n",
    "    random_state=random_state,\n",
    ")\n",
    "clusterer.fit(X);"
   ],
   "outputs": [],
   "execution_count": 7
  },
  {
   "metadata": {
    "ExecuteTime": {
     "end_time": "2025-03-05T21:21:13.169469Z",
     "start_time": "2025-03-05T21:21:13.154599Z"
    }
   },
   "cell_type": "code",
   "source": "clusterer.n_iter_",
   "id": "734cce9cbbaf3d25",
   "outputs": [
    {
     "data": {
      "text/plain": [
       "2"
      ]
     },
     "execution_count": 8,
     "metadata": {},
     "output_type": "execute_result"
    }
   ],
   "execution_count": 8
  },
  {
   "cell_type": "code",
   "id": "fc708e8fb8551ed9",
   "metadata": {
    "ExecuteTime": {
     "end_time": "2025-03-05T21:21:13.278934Z",
     "start_time": "2025-03-05T21:21:13.186501Z"
    }
   },
   "source": [
    "service.plot_clusters(\n",
    "    X,\n",
    "    labels=labels,\n",
    "    cluster_labels=clusterer.labels_,\n",
    "    cluster_centers=clusterer.cluster_centers_,\n",
    ")"
   ],
   "outputs": [
    {
     "data": {
      "text/plain": [
       "<Figure size 640x480 with 1 Axes>"
      ],
      "image/png": "[encoded data removed]"
     },
     "metadata": {},
     "output_type": "display_data"
    }
   ],
   "execution_count": 9
  },
  {
   "metadata": {},
   "cell_type": "markdown",
   "source": "Compare with similar scikit-learn model",
   "id": "54230192714e47df"
  },
  {
   "metadata": {
    "ExecuteTime": {
     "end_time": "2025-03-05T21:21:13.465723Z",
     "start_time": "2025-03-05T21:21:13.294974Z"
    }
   },
   "cell_type": "code",
   "source": [
    "sk_clusterer = sklearn.cluster.KMeans(\n",
    "    n_clusters=n_clusters,\n",
    "    init=init,\n",
    "    max_iter=max_iter,\n",
    "    random_state=random_state,\n",
    ")\n",
    "sk_clusterer.fit(X);"
   ],
   "id": "93960457d4227b0",
   "outputs": [],
   "execution_count": 10
  },
  {
   "metadata": {
    "ExecuteTime": {
     "end_time": "2025-03-05T21:21:13.496678Z",
     "start_time": "2025-03-05T21:21:13.482434Z"
    }
   },
   "cell_type": "code",
   "source": "sk_clusterer.n_iter_",
   "id": "2fc6dfe52f80dc42",
   "outputs": [
    {
     "data": {
      "text/plain": [
       "2"
      ]
     },
     "execution_count": 11,
     "metadata": {},
     "output_type": "execute_result"
    }
   ],
   "execution_count": 11
  },
  {
   "metadata": {
    "ExecuteTime": {
     "end_time": "2025-03-05T21:21:13.621167Z",
     "start_time": "2025-03-05T21:21:13.513375Z"
    }
   },
   "cell_type": "code",
   "source": [
    "service.plot_clusters(\n",
    "    X,\n",
    "    labels=labels,\n",
    "    cluster_labels=sk_clusterer.labels_,\n",
    "    cluster_centers=sk_clusterer.cluster_centers_,\n",
    ")"
   ],
   "id": "172a8fd8f7ee84d5",
   "outputs": [
    {
     "data": {
      "text/plain": [
       "<Figure size 640x480 with 1 Axes>"
      ],
      "image/png": "[encoded data removed]"
     },
     "metadata": {},
     "output_type": "display_data"
    }
   ],
   "execution_count": 12
  },
  {
   "metadata": {
    "ExecuteTime": {
     "end_time": "2025-03-05T21:21:13.652707Z",
     "start_time": "2025-03-05T21:21:13.638449Z"
    }
   },
   "cell_type": "code",
   "source": "adjusted_rand_score(clusterer.labels_, sk_clusterer.labels_)",
   "id": "a2ac71d958d0ee15",
   "outputs": [
    {
     "data": {
      "text/plain": [
       "1.0"
      ]
     },
     "execution_count": 13,
     "metadata": {},
     "output_type": "execute_result"
    }
   ],
   "execution_count": 13
  },
  {
   "metadata": {},
   "cell_type": "markdown",
   "source": "#### KMedoids",
   "id": "801a8404e5b1db01"
  },
  {
   "metadata": {
    "ExecuteTime": {
     "end_time": "2025-03-05T21:21:13.684334Z",
     "start_time": "2025-03-05T21:21:13.669727Z"
    }
   },
   "cell_type": "code",
   "source": [
    "n_clusters = 3\n",
    "init = [[5, 5], [5, 7], [6, 6]]\n",
    "max_iter = 10\n",
    "random_state = 42"
   ],
   "id": "70c4e91263ee8ad9",
   "outputs": [],
   "execution_count": 14
  },
  {
   "metadata": {
    "ExecuteTime": {
     "end_time": "2025-03-05T21:21:13.714971Z",
     "start_time": "2025-03-05T21:21:13.700726Z"
    }
   },
   "cell_type": "code",
   "source": [
    "clusterer = KMedoids(\n",
    "    n_clusters=n_clusters,\n",
    "    init=init,\n",
    "    max_iter=max_iter,\n",
    "    random_state=random_state,\n",
    ")\n",
    "clusterer.fit(X);"
   ],
   "id": "1791dc8778ffe521",
   "outputs": [],
   "execution_count": 15
  },
  {
   "metadata": {
    "ExecuteTime": {
     "end_time": "2025-03-05T21:21:13.746045Z",
     "start_time": "2025-03-05T21:21:13.732706Z"
    }
   },
   "cell_type": "code",
   "source": "clusterer.n_iter_",
   "id": "ae3616e109c14b62",
   "outputs": [
    {
     "data": {
      "text/plain": [
       "2"
      ]
     },
     "execution_count": 16,
     "metadata": {},
     "output_type": "execute_result"
    }
   ],
   "execution_count": 16
  },
  {
   "metadata": {
    "ExecuteTime": {
     "end_time": "2025-03-05T21:21:13.776578Z",
     "start_time": "2025-03-05T21:21:13.762691Z"
    }
   },
   "cell_type": "code",
   "source": "clusterer.cluster_center_indices_",
   "id": "9f118114d486ad58",
   "outputs": [
    {
     "data": {
      "text/plain": [
       "array([1, 2, 8])"
      ]
     },
     "execution_count": 17,
     "metadata": {},
     "output_type": "execute_result"
    }
   ],
   "execution_count": 17
  },
  {
   "metadata": {
    "ExecuteTime": {
     "end_time": "2025-03-05T21:21:13.885271Z",
     "start_time": "2025-03-05T21:21:13.793566Z"
    }
   },
   "cell_type": "code",
   "source": [
    "service.plot_clusters(\n",
    "    X,\n",
    "    labels=labels,\n",
    "    cluster_labels=clusterer.labels_,\n",
    "    cluster_centers=clusterer.cluster_centers_,\n",
    ")"
   ],
   "id": "a163db5f9ad2a342",
   "outputs": [
    {
     "data": {
      "text/plain": [
       "<Figure size 640x480 with 1 Axes>"
      ],
      "image/png": "[encoded data removed]"
     },
     "metadata": {},
     "output_type": "display_data"
    }
   ],
   "execution_count": 18
  },
  {
   "metadata": {},
   "cell_type": "markdown",
   "source": "#### DBSCAN",
   "id": "8fdf1886b01f2f23"
  },
  {
   "metadata": {
    "ExecuteTime": {
     "end_time": "2025-03-05T21:21:13.916137Z",
     "start_time": "2025-03-05T21:21:13.901908Z"
    }
   },
   "cell_type": "code",
   "source": [
    "eps = 2\n",
    "min_samples = 3"
   ],
   "id": "3e4f31bf7295b9eb",
   "outputs": [],
   "execution_count": 19
  },
  {
   "metadata": {
    "ExecuteTime": {
     "end_time": "2025-03-05T21:21:13.947034Z",
     "start_time": "2025-03-05T21:21:13.932515Z"
    }
   },
   "cell_type": "code",
   "source": [
    "clusterer = DBSCAN(\n",
    "    eps=eps,\n",
    "    min_samples=min_samples,\n",
    ")\n",
    "clusterer.fit(X);"
   ],
   "id": "8845981fd2191dd1",
   "outputs": [],
   "execution_count": 20
  },
  {
   "metadata": {
    "ExecuteTime": {
     "end_time": "2025-03-05T21:21:13.978521Z",
     "start_time": "2025-03-05T21:21:13.963998Z"
    }
   },
   "cell_type": "code",
   "source": "# clusterer.core_sample_indices_",
   "id": "fa12b11c60440915",
   "outputs": [],
   "execution_count": 21
  },
  {
   "metadata": {
    "ExecuteTime": {
     "end_time": "2025-03-05T21:21:14.009582Z",
     "start_time": "2025-03-05T21:21:13.995046Z"
    }
   },
   "cell_type": "code",
   "source": [
    "# service.plot_clusters(\n",
    "#     X,\n",
    "#     labels=labels,\n",
    "#     cluster_labels=clusterer.labels_,\n",
    "# )"
   ],
   "id": "929fae155281ef03",
   "outputs": [],
   "execution_count": 22
  },
  {
   "metadata": {},
   "cell_type": "markdown",
   "source": "Compare with similar scikit-learn model",
   "id": "d6b8f17b22d639fd"
  },
  {
   "metadata": {
    "ExecuteTime": {
     "end_time": "2025-03-05T21:21:14.040024Z",
     "start_time": "2025-03-05T21:21:14.025856Z"
    }
   },
   "cell_type": "code",
   "source": [
    "sk_clusterer = sklearn.cluster.DBSCAN(\n",
    "    eps=eps,\n",
    "    min_samples=min_samples,\n",
    ")\n",
    "sk_clusterer.fit(X);"
   ],
   "id": "d3536a1079ca3081",
   "outputs": [],
   "execution_count": 23
  },
  {
   "metadata": {
    "ExecuteTime": {
     "end_time": "2025-03-05T21:21:14.071802Z",
     "start_time": "2025-03-05T21:21:14.057058Z"
    }
   },
   "cell_type": "code",
   "source": "sk_clusterer.core_sample_indices_",
   "id": "3966fa80bd6ce26",
   "outputs": [
    {
     "data": {
      "text/plain": [
       "array([5, 6, 7])"
      ]
     },
     "execution_count": 24,
     "metadata": {},
     "output_type": "execute_result"
    }
   ],
   "execution_count": 24
  },
  {
   "metadata": {
    "ExecuteTime": {
     "end_time": "2025-03-05T21:21:14.181107Z",
     "start_time": "2025-03-05T21:21:14.088589Z"
    }
   },
   "cell_type": "code",
   "source": [
    "service.plot_clusters(\n",
    "    X,\n",
    "    labels=labels,\n",
    "    cluster_labels=sk_clusterer.labels_,\n",
    ")"
   ],
   "id": "aab92c04fdf9cce4",
   "outputs": [
    {
     "data": {
      "text/plain": [
       "<Figure size 640x480 with 1 Axes>"
      ],
      "image/png": "[encoded data removed]"
     },
     "metadata": {},
     "output_type": "display_data"
    }
   ],
   "execution_count": 25
  },
  {
   "metadata": {
    "ExecuteTime": {
     "end_time": "2025-03-05T21:21:14.479373Z",
     "start_time": "2025-03-05T21:21:14.198130Z"
    }
   },
   "cell_type": "code",
   "source": "adjusted_rand_score(clusterer.labels_, sk_clusterer.labels_)",
   "id": "8e0b63bba256c972",
   "outputs": [
    {
     "ename": "AttributeError",
     "evalue": "'DBSCAN' object has no attribute 'labels_'",
     "output_type": "error",
     "traceback": [
      "\u001B[1;31m---------------------------------------------------------------------------\u001B[0m",
      "\u001B[1;31mAttributeError\u001B[0m                            Traceback (most recent call last)",
      "Cell \u001B[1;32mIn[26], line 1\u001B[0m\n\u001B[1;32m----> 1\u001B[0m adjusted_rand_score(\u001B[43mclusterer\u001B[49m\u001B[38;5;241;43m.\u001B[39;49m\u001B[43mlabels_\u001B[49m, sk_clusterer\u001B[38;5;241m.\u001B[39mlabels_)\n",
      "\u001B[1;31mAttributeError\u001B[0m: 'DBSCAN' object has no attribute 'labels_'"
     ]
    }
   ],
   "execution_count": 26
  },
  {
   "metadata": {},
   "cell_type": "markdown",
   "source": "### Check clusterers (scikit-learn)",
   "id": "cdb71cb796da4b67"
  },
  {
   "metadata": {},
   "cell_type": "code",
   "source": [
    "clusterers = [\n",
    "    KMeans(),\n",
    "    KMedoids(),\n",
    "    DBSCAN(),\n",
    "]  # TODO"
   ],
   "id": "8ca273c7470184ed",
   "outputs": [],
   "execution_count": null
  },
  {
   "metadata": {},
   "cell_type": "code",
   "source": [
    "from sklearn.utils.estimator_checks import estimator_checks_generator\n",
    "\n",
    "for clusterer in clusterers:\n",
    "    total_checks = 0\n",
    "    skipped_checks = 0  # TODO remove?\n",
    "    for (estimator, check) in estimator_checks_generator(clusterer):\n",
    "        total_checks += 1\n",
    "        check(estimator)\n",
    "    skipped_percentage = skipped_checks / total_checks * 100\n",
    "    print(f\"{clusterer}: {skipped_checks} out of {total_checks} checks skipped ({skipped_percentage:.2f}%).\")"
   ],
   "id": "8835ab6fa6ff258f",
   "outputs": [],
   "execution_count": null
  }
 ],
 "metadata": {
  "kernelspec": {
   "display_name": "Python 3 (ipykernel)",
   "language": "python",
   "name": "python3"
  },
  "language_info": {
   "codemirror_mode": {
    "name": "ipython",
    "version": 3
   },
   "file_extension": ".py",
   "mimetype": "text/x-python",
   "name": "python",
   "nbconvert_exporter": "python",
   "pygments_lexer": "ipython3",
   "version": "3.9.13"
  }
 },
 "nbformat": 4,
 "nbformat_minor": 5
}
