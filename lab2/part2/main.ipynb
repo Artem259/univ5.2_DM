{
 "cells": [
  {
   "cell_type": "code",
   "id": "initial_id",
   "metadata": {
    "collapsed": true,
    "jupyter": {
     "outputs_hidden": true
    },
    "ExecuteTime": {
     "end_time": "2025-03-03T19:58:57.988055Z",
     "start_time": "2025-03-03T19:58:57.195608Z"
    }
   },
   "source": [
    "import pandas as pd\n",
    "import sklearn\n",
    "\n",
    "import service\n",
    "from clustering.KMeans import KMeans"
   ],
   "outputs": [],
   "execution_count": 1
  },
  {
   "cell_type": "markdown",
   "id": "b54400ba6d61413e",
   "metadata": {},
   "source": [
    "### data_1"
   ]
  },
  {
   "cell_type": "code",
   "id": "62e6c2aaffd66347",
   "metadata": {
    "ExecuteTime": {
     "end_time": "2025-03-03T19:58:58.003765Z",
     "start_time": "2025-03-03T19:58:57.992202Z"
    }
   },
   "source": [
    "df = pd.read_csv('data/data_1.csv')\n",
    "df.info()"
   ],
   "outputs": [
    {
     "name": "stdout",
     "output_type": "stream",
     "text": [
      "<class 'pandas.core.frame.DataFrame'>\n",
      "RangeIndex: 10 entries, 0 to 9\n",
      "Data columns (total 3 columns):\n",
      " #   Column  Non-Null Count  Dtype \n",
      "---  ------  --------------  ----- \n",
      " 0   x       10 non-null     int64 \n",
      " 1   y       10 non-null     int64 \n",
      " 2   label   10 non-null     object\n",
      "dtypes: int64(2), object(1)\n",
      "memory usage: 368.0+ bytes\n"
     ]
    }
   ],
   "execution_count": 2
  },
  {
   "cell_type": "code",
   "id": "f78372ddc44c3e2c",
   "metadata": {
    "ExecuteTime": {
     "end_time": "2025-03-03T19:58:58.129789Z",
     "start_time": "2025-03-03T19:58:58.115251Z"
    }
   },
   "source": [
    "X, labels = df.drop(columns='label'), df['label']\n",
    "X.shape, labels.shape"
   ],
   "outputs": [
    {
     "data": {
      "text/plain": [
       "((10, 2), (10,))"
      ]
     },
     "execution_count": 3,
     "metadata": {},
     "output_type": "execute_result"
    }
   ],
   "execution_count": 3
  },
  {
   "cell_type": "code",
   "id": "5ff1a70a13ea4ed",
   "metadata": {
    "ExecuteTime": {
     "end_time": "2025-03-03T19:58:58.160807Z",
     "start_time": "2025-03-03T19:58:58.146259Z"
    }
   },
   "source": [
    "X = X[['x', 'y']].to_numpy()"
   ],
   "outputs": [],
   "execution_count": 4
  },
  {
   "cell_type": "code",
   "id": "5068e450fc7eb26a",
   "metadata": {
    "ExecuteTime": {
     "end_time": "2025-03-03T19:58:58.301637Z",
     "start_time": "2025-03-03T19:58:58.177513Z"
    }
   },
   "source": [
    "service.plot_raw_data(X, labels)"
   ],
   "outputs": [
    {
     "data": {
      "text/plain": [
       "<Figure size 640x480 with 1 Axes>"
      ],
      "image/png": "[encoded data removed]"
     },
     "metadata": {},
     "output_type": "display_data"
    }
   ],
   "execution_count": 5
  },
  {
   "cell_type": "markdown",
   "id": "1a973aca955f91ba",
   "metadata": {},
   "source": [
    "#### KMeans"
   ]
  },
  {
   "metadata": {
    "ExecuteTime": {
     "end_time": "2025-03-03T19:58:58.331878Z",
     "start_time": "2025-03-03T19:58:58.318125Z"
    }
   },
   "cell_type": "code",
   "source": [
    "n_clusters = 3\n",
    "init = [[1, 5], [5, 5], [10, 6]]  # TODO"
   ],
   "id": "d4777013b2d9f135",
   "outputs": [],
   "execution_count": 6
  },
  {
   "cell_type": "code",
   "id": "b7deada3d157ee48",
   "metadata": {
    "ExecuteTime": {
     "end_time": "2025-03-03T19:58:58.363039Z",
     "start_time": "2025-03-03T19:58:58.348895Z"
    }
   },
   "source": [
    "estimator = KMeans(\n",
    "    n_clusters=n_clusters,\n",
    "    init=init,\n",
    ")\n",
    "estimator.fit(X);"
   ],
   "outputs": [],
   "execution_count": 7
  },
  {
   "cell_type": "code",
   "id": "fc708e8fb8551ed9",
   "metadata": {
    "ExecuteTime": {
     "end_time": "2025-03-03T19:58:58.393885Z",
     "start_time": "2025-03-03T19:58:58.378386Z"
    }
   },
   "source": [
    "# service.plot_clusters(\n",
    "#     X,\n",
    "#     labels=labels,\n",
    "#     cluster_labels=estimator.labels_,\n",
    "#     cluster_centers=estimator.cluster_centers_,\n",
    "# )"
   ],
   "outputs": [],
   "execution_count": 8
  },
  {
   "metadata": {},
   "cell_type": "markdown",
   "source": "Compare with similar scikit-learn model",
   "id": "54230192714e47df"
  },
  {
   "metadata": {
    "ExecuteTime": {
     "end_time": "2025-03-03T19:58:58.581965Z",
     "start_time": "2025-03-03T19:58:58.411205Z"
    }
   },
   "cell_type": "code",
   "source": [
    "sk_estimator = sklearn.cluster.KMeans(\n",
    "    n_clusters=n_clusters,\n",
    "    init=init,\n",
    "    verbose=1,\n",
    "    random_state=42,\n",
    ")\n",
    "sk_estimator.fit(X);"
   ],
   "id": "93960457d4227b0",
   "outputs": [
    {
     "name": "stdout",
     "output_type": "stream",
     "text": [
      "Initialization complete\n",
      "Iteration 0, inertia 55.0.\n",
      "Iteration 1, inertia 43.55.\n",
      "Converged at iteration 1: strict convergence.\n"
     ]
    }
   ],
   "execution_count": 9
  },
  {
   "metadata": {
    "ExecuteTime": {
     "end_time": "2025-03-03T19:58:58.706970Z",
     "start_time": "2025-03-03T19:58:58.598495Z"
    }
   },
   "cell_type": "code",
   "source": [
    "service.plot_clusters(\n",
    "    X,\n",
    "    labels=labels,\n",
    "    cluster_labels=sk_estimator.labels_,\n",
    "    cluster_centers=sk_estimator.cluster_centers_,\n",
    ")"
   ],
   "id": "172a8fd8f7ee84d5",
   "outputs": [
    {
     "data": {
      "text/plain": [
       "<Figure size 640x480 with 1 Axes>"
      ],
      "image/png": "[encoded data removed]"
     },
     "metadata": {},
     "output_type": "display_data"
    }
   ],
   "execution_count": 10
  }
 ],
 "metadata": {
  "kernelspec": {
   "display_name": "Python 3 (ipykernel)",
   "language": "python",
   "name": "python3"
  },
  "language_info": {
   "codemirror_mode": {
    "name": "ipython",
    "version": 3
   },
   "file_extension": ".py",
   "mimetype": "text/x-python",
   "name": "python",
   "nbconvert_exporter": "python",
   "pygments_lexer": "ipython3",
   "version": "3.9.13"
  }
 },
 "nbformat": 4,
 "nbformat_minor": 5
}
