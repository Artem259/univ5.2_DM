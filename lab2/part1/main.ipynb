{
 "cells": [
  {
   "cell_type": "code",
   "id": "8f049a4167baac5d",
   "metadata": {
    "ExecuteTime": {
     "end_time": "2025-03-17T02:13:09.327803Z",
     "start_time": "2025-03-17T02:13:08.723003Z"
    }
   },
   "source": [
    "import pandas as pd\n",
    "from mlxtend import frequent_patterns\n",
    "from mlxtend.preprocessing import TransactionEncoder\n",
    "\n",
    "import service\n",
    "from association import apriori"
   ],
   "outputs": [],
   "execution_count": 1
  },
  {
   "metadata": {},
   "cell_type": "markdown",
   "source": "### data_1",
   "id": "2582c533f270e1ae"
  },
  {
   "metadata": {
    "ExecuteTime": {
     "end_time": "2025-03-17T02:13:09.343381Z",
     "start_time": "2025-03-17T02:13:09.331207Z"
    }
   },
   "cell_type": "code",
   "source": [
    "df = pd.read_json(\"data/data_1.jsonl\", lines=True)\n",
    "df.head()"
   ],
   "id": "58c03e5595595816",
   "outputs": [
    {
     "data": {
      "text/plain": [
       "          Transaction\n",
       "0     [a, b, c, d, e]\n",
       "1        [a, c, d, f]\n",
       "2  [a, b, c, d, e, g]\n",
       "3        [c, d, e, f]\n",
       "4        [c, e, f, h]"
      ],
      "text/html": [
       "<div>\n",
       "<style scoped>\n",
       "    .dataframe tbody tr th:only-of-type {\n",
       "        vertical-align: middle;\n",
       "    }\n",
       "\n",
       "    .dataframe tbody tr th {\n",
       "        vertical-align: top;\n",
       "    }\n",
       "\n",
       "    .dataframe thead th {\n",
       "        text-align: right;\n",
       "    }\n",
       "</style>\n",
       "<table border=\"1\" class=\"dataframe\">\n",
       "  <thead>\n",
       "    <tr style=\"text-align: right;\">\n",
       "      <th></th>\n",
       "      <th>Transaction</th>\n",
       "    </tr>\n",
       "  </thead>\n",
       "  <tbody>\n",
       "    <tr>\n",
       "      <th>0</th>\n",
       "      <td>[a, b, c, d, e]</td>\n",
       "    </tr>\n",
       "    <tr>\n",
       "      <th>1</th>\n",
       "      <td>[a, c, d, f]</td>\n",
       "    </tr>\n",
       "    <tr>\n",
       "      <th>2</th>\n",
       "      <td>[a, b, c, d, e, g]</td>\n",
       "    </tr>\n",
       "    <tr>\n",
       "      <th>3</th>\n",
       "      <td>[c, d, e, f]</td>\n",
       "    </tr>\n",
       "    <tr>\n",
       "      <th>4</th>\n",
       "      <td>[c, e, f, h]</td>\n",
       "    </tr>\n",
       "  </tbody>\n",
       "</table>\n",
       "</div>"
      ]
     },
     "execution_count": 2,
     "metadata": {},
     "output_type": "execute_result"
    }
   ],
   "execution_count": 2
  },
  {
   "metadata": {
    "ExecuteTime": {
     "end_time": "2025-03-17T02:13:09.498091Z",
     "start_time": "2025-03-17T02:13:09.483290Z"
    }
   },
   "cell_type": "code",
   "source": [
    "transactions = df['Transaction'].to_list()\n",
    "num_transactions = len(transactions)"
   ],
   "id": "359b7f72bc91d38a",
   "outputs": [],
   "execution_count": 3
  },
  {
   "metadata": {},
   "cell_type": "markdown",
   "source": "#### Apriori algorithm",
   "id": "4e3a0e901f3ecc68"
  },
  {
   "metadata": {
    "ExecuteTime": {
     "end_time": "2025-03-17T02:13:09.544508Z",
     "start_time": "2025-03-17T02:13:09.529472Z"
    }
   },
   "cell_type": "code",
   "source": [
    "min_support = 0.4\n",
    "min_confidence = 0.75"
   ],
   "id": "8f42889f59a71f05",
   "outputs": [],
   "execution_count": 4
  },
  {
   "metadata": {
    "ExecuteTime": {
     "end_time": "2025-03-17T02:13:09.560539Z",
     "start_time": "2025-03-17T02:13:09.556829Z"
    }
   },
   "cell_type": "code",
   "source": [
    "frequent_itemsets = apriori.apriori_algorithm(transactions, min_support=min_support)\n",
    "\n",
    "for itemset, count in frequent_itemsets.items():\n",
    "    print(f\"{set(itemset)}: {count}\")"
   ],
   "id": "8a3e3d8f008e86bf",
   "outputs": [
    {
     "name": "stdout",
     "output_type": "stream",
     "text": [
      "{'a'}: 5\n",
      "{'c'}: 7\n",
      "{'d'}: 7\n",
      "{'e'}: 7\n",
      "{'f'}: 6\n",
      "{'a', 'c'}: 4\n",
      "{'c', 'd'}: 5\n",
      "{'c', 'e'}: 5\n",
      "{'c', 'f'}: 4\n",
      "{'d', 'e'}: 6\n",
      "{'c', 'd', 'e'}: 4\n"
     ]
    }
   ],
   "execution_count": 5
  },
  {
   "metadata": {
    "ExecuteTime": {
     "end_time": "2025-03-17T02:13:09.653169Z",
     "start_time": "2025-03-17T02:13:09.650449Z"
    }
   },
   "cell_type": "code",
   "source": [
    "rules = apriori.association_rules(frequent_itemsets, transactions, min_confidence=min_confidence)\n",
    "\n",
    "for antecedent, consequent, confidence in rules:\n",
    "    print(f\"{set(antecedent)} => {set(consequent)} ({confidence:.2f})\")"
   ],
   "id": "2c3ba2cdcfe29df5",
   "outputs": [
    {
     "name": "stdout",
     "output_type": "stream",
     "text": [
      "{'a'} => {'c'} (0.80)\n",
      "{'d'} => {'e'} (0.86)\n",
      "{'e'} => {'d'} (0.86)\n",
      "{'c', 'd'} => {'e'} (0.80)\n",
      "{'c', 'e'} => {'d'} (0.80)\n"
     ]
    }
   ],
   "execution_count": 6
  },
  {
   "metadata": {},
   "cell_type": "markdown",
   "source": "Compare with similar `mlxtend` algorithm",
   "id": "94b7c616dac7094a"
  },
  {
   "metadata": {
    "ExecuteTime": {
     "end_time": "2025-03-17T02:13:09.746924Z",
     "start_time": "2025-03-17T02:13:09.743620Z"
    }
   },
   "cell_type": "code",
   "source": [
    "encoder = TransactionEncoder()\n",
    "te_ary = encoder.fit_transform(transactions)\n",
    "mlxtend_df = pd.DataFrame(te_ary, columns=encoder.columns_)"
   ],
   "id": "51f3af67d7bdf686",
   "outputs": [],
   "execution_count": 7
  },
  {
   "metadata": {
    "ExecuteTime": {
     "end_time": "2025-03-17T02:13:09.777842Z",
     "start_time": "2025-03-17T02:13:09.763084Z"
    }
   },
   "cell_type": "code",
   "source": [
    "mlxtend_frequent_itemsets = frequent_patterns.apriori(\n",
    "    mlxtend_df, min_support=min_support, use_colnames=True\n",
    ")\n",
    "\n",
    "for _, (support, itemset) in mlxtend_frequent_itemsets.iterrows():\n",
    "    count = int(support * num_transactions)\n",
    "    print(f\"{set(itemset)}: {count}\")"
   ],
   "id": "2677ef44a9850d01",
   "outputs": [
    {
     "name": "stdout",
     "output_type": "stream",
     "text": [
      "{'a'}: 5\n",
      "{'c'}: 7\n",
      "{'d'}: 7\n",
      "{'e'}: 7\n",
      "{'f'}: 6\n",
      "{'a', 'c'}: 4\n",
      "{'c', 'd'}: 5\n",
      "{'c', 'e'}: 5\n",
      "{'c', 'f'}: 4\n",
      "{'d', 'e'}: 6\n",
      "{'c', 'd', 'e'}: 4\n"
     ]
    }
   ],
   "execution_count": 8
  },
  {
   "metadata": {
    "ExecuteTime": {
     "end_time": "2025-03-17T02:13:09.839160Z",
     "start_time": "2025-03-17T02:13:09.822871Z"
    }
   },
   "cell_type": "code",
   "source": [
    "mlxtend_rules = frequent_patterns.association_rules(\n",
    "    mlxtend_frequent_itemsets, metric=\"confidence\", min_threshold=min_confidence\n",
    ")[[\"antecedents\", \"consequents\", \"confidence\"]]\n",
    "\n",
    "mlxtend_rules"
   ],
   "id": "4651852895b0000a",
   "outputs": [
    {
     "data": {
      "text/plain": [
       "  antecedents consequents  confidence\n",
       "0         (a)         (c)    0.800000\n",
       "1         (d)         (e)    0.857143\n",
       "2         (e)         (d)    0.857143\n",
       "3      (c, d)         (e)    0.800000\n",
       "4      (c, e)         (d)    0.800000"
      ],
      "text/html": [
       "<div>\n",
       "<style scoped>\n",
       "    .dataframe tbody tr th:only-of-type {\n",
       "        vertical-align: middle;\n",
       "    }\n",
       "\n",
       "    .dataframe tbody tr th {\n",
       "        vertical-align: top;\n",
       "    }\n",
       "\n",
       "    .dataframe thead th {\n",
       "        text-align: right;\n",
       "    }\n",
       "</style>\n",
       "<table border=\"1\" class=\"dataframe\">\n",
       "  <thead>\n",
       "    <tr style=\"text-align: right;\">\n",
       "      <th></th>\n",
       "      <th>antecedents</th>\n",
       "      <th>consequents</th>\n",
       "      <th>confidence</th>\n",
       "    </tr>\n",
       "  </thead>\n",
       "  <tbody>\n",
       "    <tr>\n",
       "      <th>0</th>\n",
       "      <td>(a)</td>\n",
       "      <td>(c)</td>\n",
       "      <td>0.800000</td>\n",
       "    </tr>\n",
       "    <tr>\n",
       "      <th>1</th>\n",
       "      <td>(d)</td>\n",
       "      <td>(e)</td>\n",
       "      <td>0.857143</td>\n",
       "    </tr>\n",
       "    <tr>\n",
       "      <th>2</th>\n",
       "      <td>(e)</td>\n",
       "      <td>(d)</td>\n",
       "      <td>0.857143</td>\n",
       "    </tr>\n",
       "    <tr>\n",
       "      <th>3</th>\n",
       "      <td>(c, d)</td>\n",
       "      <td>(e)</td>\n",
       "      <td>0.800000</td>\n",
       "    </tr>\n",
       "    <tr>\n",
       "      <th>4</th>\n",
       "      <td>(c, e)</td>\n",
       "      <td>(d)</td>\n",
       "      <td>0.800000</td>\n",
       "    </tr>\n",
       "  </tbody>\n",
       "</table>\n",
       "</div>"
      ]
     },
     "execution_count": 9,
     "metadata": {},
     "output_type": "execute_result"
    }
   ],
   "execution_count": 9
  },
  {
   "metadata": {
    "ExecuteTime": {
     "end_time": "2025-03-17T02:13:09.900460Z",
     "start_time": "2025-03-17T02:13:09.886614Z"
    }
   },
   "cell_type": "code",
   "source": [
    "assert service.check_frequent_itemsets_equal(\n",
    "    frequent_itemsets, mlxtend_frequent_itemsets, num_transactions\n",
    ")\n",
    "# TODO rules assert"
   ],
   "id": "4e47e36f658793bf",
   "outputs": [],
   "execution_count": 10
  },
  {
   "metadata": {},
   "cell_type": "markdown",
   "source": "### More datasets (data_2)",
   "id": "cff9f1b2828c1eda"
  },
  {
   "metadata": {
    "ExecuteTime": {
     "end_time": "2025-03-17T02:13:09.962196Z",
     "start_time": "2025-03-17T02:13:09.947873Z"
    }
   },
   "cell_type": "code",
   "source": [
    "df = pd.read_json(\"data/data_2.jsonl\", lines=True)\n",
    "df.head()"
   ],
   "id": "c2e4d1fa36d46b6f",
   "outputs": [
    {
     "data": {
      "text/plain": [
       "   Dataset         Transaction\n",
       "0        1        [c, a, d, b]\n",
       "1        1           [b, c, d]\n",
       "2        1     [a, e, f, g, h]\n",
       "3        1  [e, d, c, g, j, b]\n",
       "4        1     [e, c, d, f, b]"
      ],
      "text/html": [
       "<div>\n",
       "<style scoped>\n",
       "    .dataframe tbody tr th:only-of-type {\n",
       "        vertical-align: middle;\n",
       "    }\n",
       "\n",
       "    .dataframe tbody tr th {\n",
       "        vertical-align: top;\n",
       "    }\n",
       "\n",
       "    .dataframe thead th {\n",
       "        text-align: right;\n",
       "    }\n",
       "</style>\n",
       "<table border=\"1\" class=\"dataframe\">\n",
       "  <thead>\n",
       "    <tr style=\"text-align: right;\">\n",
       "      <th></th>\n",
       "      <th>Dataset</th>\n",
       "      <th>Transaction</th>\n",
       "    </tr>\n",
       "  </thead>\n",
       "  <tbody>\n",
       "    <tr>\n",
       "      <th>0</th>\n",
       "      <td>1</td>\n",
       "      <td>[c, a, d, b]</td>\n",
       "    </tr>\n",
       "    <tr>\n",
       "      <th>1</th>\n",
       "      <td>1</td>\n",
       "      <td>[b, c, d]</td>\n",
       "    </tr>\n",
       "    <tr>\n",
       "      <th>2</th>\n",
       "      <td>1</td>\n",
       "      <td>[a, e, f, g, h]</td>\n",
       "    </tr>\n",
       "    <tr>\n",
       "      <th>3</th>\n",
       "      <td>1</td>\n",
       "      <td>[e, d, c, g, j, b]</td>\n",
       "    </tr>\n",
       "    <tr>\n",
       "      <th>4</th>\n",
       "      <td>1</td>\n",
       "      <td>[e, c, d, f, b]</td>\n",
       "    </tr>\n",
       "  </tbody>\n",
       "</table>\n",
       "</div>"
      ]
     },
     "execution_count": 11,
     "metadata": {},
     "output_type": "execute_result"
    }
   ],
   "execution_count": 11
  },
  {
   "metadata": {
    "ExecuteTime": {
     "end_time": "2025-03-17T02:13:10.023835Z",
     "start_time": "2025-03-17T02:13:10.009650Z"
    }
   },
   "cell_type": "code",
   "source": [
    "min_support = 0.4\n",
    "min_confidence = 0.75"
   ],
   "id": "faa38fa8a04c870a",
   "outputs": [],
   "execution_count": 12
  },
  {
   "metadata": {
    "ExecuteTime": {
     "end_time": "2025-03-17T02:13:10.087085Z",
     "start_time": "2025-03-17T02:13:10.068361Z"
    }
   },
   "cell_type": "code",
   "source": [
    "for dataset_id, df_v in df.groupby('Dataset'):\n",
    "    transactions = df_v['Transaction'].to_list()\n",
    "    num_transactions = len(transactions)\n",
    "\n",
    "    frequent_itemsets = apriori.apriori_algorithm(transactions, min_support=min_support)\n",
    "    rules = apriori.association_rules(frequent_itemsets, transactions, min_confidence=min_confidence)\n",
    "\n",
    "    encoder = TransactionEncoder()\n",
    "    te_ary = encoder.fit_transform(transactions)\n",
    "    mlxtend_df = pd.DataFrame(te_ary, columns=encoder.columns_)\n",
    "    mlxtend_frequent_itemsets = frequent_patterns.apriori(\n",
    "        mlxtend_df, min_support=min_support, use_colnames=True\n",
    "    )\n",
    "    mlxtend_rules = frequent_patterns.association_rules(\n",
    "        mlxtend_frequent_itemsets, metric=\"confidence\", min_threshold=min_confidence\n",
    "    )[[\"antecedents\", \"consequents\", \"confidence\"]]\n",
    "\n",
    "    assert service.check_frequent_itemsets_equal(\n",
    "        frequent_itemsets, mlxtend_frequent_itemsets, num_transactions\n",
    "    )\n",
    "    # TODO rules assert\n",
    "\n",
    "    print(f\"Dataset {dataset_id} checks passed.\")"
   ],
   "id": "66aa1280ec00bc73",
   "outputs": [
    {
     "name": "stdout",
     "output_type": "stream",
     "text": [
      "Dataset 1 checks passed.\n",
      "Dataset 2 checks passed.\n",
      "Dataset 3 checks passed.\n"
     ]
    }
   ],
   "execution_count": 13
  }
 ],
 "metadata": {
  "kernelspec": {
   "display_name": "Python 3",
   "language": "python",
   "name": "python3"
  },
  "language_info": {
   "codemirror_mode": {
    "name": "ipython",
    "version": 2
   },
   "file_extension": ".py",
   "mimetype": "text/x-python",
   "name": "python",
   "nbconvert_exporter": "python",
   "pygments_lexer": "ipython2",
   "version": "2.7.6"
  }
 },
 "nbformat": 4,
 "nbformat_minor": 5
}
