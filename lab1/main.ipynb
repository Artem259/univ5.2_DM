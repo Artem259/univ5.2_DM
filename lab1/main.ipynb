{
 "cells": [
  {
   "cell_type": "code",
   "id": "443b056ecc3e19fe",
   "metadata": {
    "ExecuteTime": {
     "end_time": "2025-02-02T21:13:50.757343Z",
     "start_time": "2025-02-02T21:13:50.191083Z"
    }
   },
   "source": [
    "import pandas as pd\n",
    "\n",
    "from classification.OneRClassifier import OneRClassifier\n",
    "from classification.NaiveBayesClassifier import NaiveBayesClassifier"
   ],
   "outputs": [],
   "execution_count": 1
  },
  {
   "cell_type": "code",
   "id": "f5b1d3450b87fbb8",
   "metadata": {
    "ExecuteTime": {
     "end_time": "2025-02-02T21:13:50.772814Z",
     "start_time": "2025-02-02T21:13:50.760721Z"
    }
   },
   "source": [
    "classifiers = [OneRClassifier()]  # TODO"
   ],
   "outputs": [],
   "execution_count": 2
  },
  {
   "cell_type": "markdown",
   "id": "2b82917d5186e047",
   "metadata": {},
   "source": [
    "#### Check classifiers (Sklearn)"
   ]
  },
  {
   "cell_type": "code",
   "id": "5f12df1257f4ec3a",
   "metadata": {
    "ExecuteTime": {
     "end_time": "2025-02-02T21:13:52.395459Z",
     "start_time": "2025-02-02T21:13:50.882628Z"
    }
   },
   "source": [
    "import warnings\n",
    "from sklearn.utils.estimator_checks import estimator_checks_generator\n",
    "\n",
    "for clf in classifiers:\n",
    "    for (estimator, check) in estimator_checks_generator(clf):\n",
    "        try:\n",
    "            check(estimator)\n",
    "        except KeyError as e:\n",
    "            if \"encountered an unknown value\" in str(e):\n",
    "                continue\n",
    "            warnings.warn(str(e))"
   ],
   "outputs": [],
   "execution_count": 3
  },
  {
   "cell_type": "markdown",
   "id": "5adade351cdd3c30",
   "metadata": {
    "jp-MarkdownHeadingCollapsed": true
   },
   "source": [
    "#### data_4x"
   ]
  },
  {
   "cell_type": "code",
   "id": "f1d2c882e1e6f0f8",
   "metadata": {
    "ExecuteTime": {
     "end_time": "2025-02-02T21:13:52.473815Z",
     "start_time": "2025-02-02T21:13:52.460046Z"
    }
   },
   "source": [
    "df = pd.read_csv('data/data_4x.csv')\n",
    "df.head()"
   ],
   "outputs": [
    {
     "data": {
      "text/plain": [
       "   x0  x1  x2  x3  y\n",
       "0   0   0   1   0  0\n",
       "1   1   0   0   1  1\n",
       "2   2   0   1   0  1\n",
       "3   0   1   0   0  1\n",
       "4   0   1   1   0  1"
      ],
      "text/html": [
       "<div>\n",
       "<style scoped>\n",
       "    .dataframe tbody tr th:only-of-type {\n",
       "        vertical-align: middle;\n",
       "    }\n",
       "\n",
       "    .dataframe tbody tr th {\n",
       "        vertical-align: top;\n",
       "    }\n",
       "\n",
       "    .dataframe thead th {\n",
       "        text-align: right;\n",
       "    }\n",
       "</style>\n",
       "<table border=\"1\" class=\"dataframe\">\n",
       "  <thead>\n",
       "    <tr style=\"text-align: right;\">\n",
       "      <th></th>\n",
       "      <th>x0</th>\n",
       "      <th>x1</th>\n",
       "      <th>x2</th>\n",
       "      <th>x3</th>\n",
       "      <th>y</th>\n",
       "    </tr>\n",
       "  </thead>\n",
       "  <tbody>\n",
       "    <tr>\n",
       "      <th>0</th>\n",
       "      <td>0</td>\n",
       "      <td>0</td>\n",
       "      <td>1</td>\n",
       "      <td>0</td>\n",
       "      <td>0</td>\n",
       "    </tr>\n",
       "    <tr>\n",
       "      <th>1</th>\n",
       "      <td>1</td>\n",
       "      <td>0</td>\n",
       "      <td>0</td>\n",
       "      <td>1</td>\n",
       "      <td>1</td>\n",
       "    </tr>\n",
       "    <tr>\n",
       "      <th>2</th>\n",
       "      <td>2</td>\n",
       "      <td>0</td>\n",
       "      <td>1</td>\n",
       "      <td>0</td>\n",
       "      <td>1</td>\n",
       "    </tr>\n",
       "    <tr>\n",
       "      <th>3</th>\n",
       "      <td>0</td>\n",
       "      <td>1</td>\n",
       "      <td>0</td>\n",
       "      <td>0</td>\n",
       "      <td>1</td>\n",
       "    </tr>\n",
       "    <tr>\n",
       "      <th>4</th>\n",
       "      <td>0</td>\n",
       "      <td>1</td>\n",
       "      <td>1</td>\n",
       "      <td>0</td>\n",
       "      <td>1</td>\n",
       "    </tr>\n",
       "  </tbody>\n",
       "</table>\n",
       "</div>"
      ]
     },
     "execution_count": 4,
     "metadata": {},
     "output_type": "execute_result"
    }
   ],
   "execution_count": 4
  },
  {
   "cell_type": "code",
   "id": "db81a109b0573614",
   "metadata": {
    "ExecuteTime": {
     "end_time": "2025-02-02T21:13:52.581752Z",
     "start_time": "2025-02-02T21:13:52.567715Z"
    }
   },
   "source": [
    "X, y = df.drop(columns='y'), df['y']\n",
    "X.shape, y.shape"
   ],
   "outputs": [
    {
     "data": {
      "text/plain": [
       "((10, 4), (10,))"
      ]
     },
     "execution_count": 5,
     "metadata": {},
     "output_type": "execute_result"
    }
   ],
   "execution_count": 5
  },
  {
   "cell_type": "code",
   "id": "383832b7ce424205",
   "metadata": {
    "ExecuteTime": {
     "end_time": "2025-02-02T21:13:52.628161Z",
     "start_time": "2025-02-02T21:13:52.613580Z"
    }
   },
   "source": [
    "y.replace(0, 'class_0', inplace=True)\n",
    "y.replace(1, 'class_1', inplace=True)\n",
    "y = list(y)"
   ],
   "outputs": [],
   "execution_count": 6
  },
  {
   "cell_type": "markdown",
   "id": "771fb7d05d925e51",
   "metadata": {},
   "source": [
    "##### OneRClassifier"
   ]
  },
  {
   "cell_type": "code",
   "id": "b24d64a57bb6053a",
   "metadata": {
    "ExecuteTime": {
     "end_time": "2025-02-02T21:13:52.673861Z",
     "start_time": "2025-02-02T21:13:52.661670Z"
    }
   },
   "source": [
    "model = OneRClassifier()\n",
    "model.fit(X, y);"
   ],
   "outputs": [],
   "execution_count": 7
  },
  {
   "cell_type": "code",
   "id": "e72fd2c428c20ede",
   "metadata": {
    "ExecuteTime": {
     "end_time": "2025-02-02T21:13:52.705081Z",
     "start_time": "2025-02-02T21:13:52.690862Z"
    }
   },
   "source": [
    "model.predict(pd.DataFrame({'x0': [2], 'x1': [1], 'x2': [1], 'x3': [1]}))"
   ],
   "outputs": [
    {
     "data": {
      "text/plain": [
       "array(['class_0'], dtype='<U7')"
      ]
     },
     "execution_count": 8,
     "metadata": {},
     "output_type": "execute_result"
    }
   ],
   "execution_count": 8
  },
  {
   "cell_type": "markdown",
   "id": "512d0ee0fb0fb702",
   "metadata": {},
   "source": [
    "##### NaiveBayesClassifier"
   ]
  },
  {
   "cell_type": "code",
   "id": "df48f442ed1f4111",
   "metadata": {
    "ExecuteTime": {
     "end_time": "2025-02-02T21:13:52.753339Z",
     "start_time": "2025-02-02T21:13:52.734818Z"
    }
   },
   "source": [
    "model = NaiveBayesClassifier()\n",
    "model.fit(X, y);"
   ],
   "outputs": [
    {
     "name": "stdout",
     "output_type": "stream",
     "text": [
      "[y   \n",
      "0  0    3\n",
      "   1    1\n",
      "1  2    3\n",
      "   0    2\n",
      "   1    1\n",
      "Name: attr, dtype: int64, y  0\n",
      "0  0    2\n",
      "   1    2\n",
      "1  0    3\n",
      "   1    3\n",
      "Name: attr, dtype: int64, y   \n",
      "0  1    3\n",
      "   0    1\n",
      "1  0    3\n",
      "   1    3\n",
      "Name: attr, dtype: int64, y   \n",
      "0  1    3\n",
      "   0    1\n",
      "1  0    5\n",
      "   1    1\n",
      "Name: attr, dtype: int64]\n",
      "[0.3333333333333333, 0.5, 0.5, 0.5]\n"
     ]
    }
   ],
   "execution_count": 9
  },
  {
   "cell_type": "code",
   "id": "e15feb35d520309c",
   "metadata": {
    "ExecuteTime": {
     "end_time": "2025-02-02T21:13:52.784537Z",
     "start_time": "2025-02-02T21:13:52.769980Z"
    }
   },
   "source": [
    "model.predict(pd.DataFrame({'x0': [2], 'x1': [1], 'x2': [1], 'x3': [1]}))"
   ],
   "outputs": [
    {
     "data": {
      "text/plain": [
       "array(Ellipsis, dtype=object)"
      ]
     },
     "execution_count": 10,
     "metadata": {},
     "output_type": "execute_result"
    }
   ],
   "execution_count": 10
  },
  {
   "cell_type": "markdown",
   "id": "b4e2317535c53e6f",
   "metadata": {},
   "source": [
    "##### DecisionTreeClassifier"
   ]
  },
  {
   "cell_type": "code",
   "id": "52c90241a1a7077a",
   "metadata": {
    "ExecuteTime": {
     "end_time": "2025-02-02T21:13:52.831304Z",
     "start_time": "2025-02-02T21:13:52.814428Z"
    }
   },
   "source": [
    "# TODO"
   ],
   "outputs": [],
   "execution_count": 11
  },
  {
   "cell_type": "markdown",
   "id": "72249da8e1afa44d",
   "metadata": {},
   "source": [
    "##### KNeighborsClassifier"
   ]
  },
  {
   "cell_type": "code",
   "id": "70324d732b5407a2",
   "metadata": {
    "ExecuteTime": {
     "end_time": "2025-02-02T21:13:52.877972Z",
     "start_time": "2025-02-02T21:13:52.862959Z"
    }
   },
   "source": [
    "# TODO"
   ],
   "outputs": [],
   "execution_count": 12
  },
  {
   "cell_type": "markdown",
   "id": "7f0b9183e2a5f6fb",
   "metadata": {},
   "source": [
    "#### data_3x"
   ]
  },
  {
   "cell_type": "code",
   "id": "66c94c8c8a27a670",
   "metadata": {
    "ExecuteTime": {
     "end_time": "2025-02-02T21:13:52.893988Z",
     "start_time": "2025-02-02T21:13:52.880976Z"
    }
   },
   "source": [
    "df = pd.read_csv('data/data_3x.csv')\n",
    "df.head()"
   ],
   "outputs": [
    {
     "data": {
      "text/plain": [
       "   dataset  x0  x1  x2  y\n",
       "0        1   0   1   2  1\n",
       "1        1   1   0   1  1\n",
       "2        1   0   1   1  0\n",
       "3        1   0   0   1  1\n",
       "4        1   0   0   2  1"
      ],
      "text/html": [
       "<div>\n",
       "<style scoped>\n",
       "    .dataframe tbody tr th:only-of-type {\n",
       "        vertical-align: middle;\n",
       "    }\n",
       "\n",
       "    .dataframe tbody tr th {\n",
       "        vertical-align: top;\n",
       "    }\n",
       "\n",
       "    .dataframe thead th {\n",
       "        text-align: right;\n",
       "    }\n",
       "</style>\n",
       "<table border=\"1\" class=\"dataframe\">\n",
       "  <thead>\n",
       "    <tr style=\"text-align: right;\">\n",
       "      <th></th>\n",
       "      <th>dataset</th>\n",
       "      <th>x0</th>\n",
       "      <th>x1</th>\n",
       "      <th>x2</th>\n",
       "      <th>y</th>\n",
       "    </tr>\n",
       "  </thead>\n",
       "  <tbody>\n",
       "    <tr>\n",
       "      <th>0</th>\n",
       "      <td>1</td>\n",
       "      <td>0</td>\n",
       "      <td>1</td>\n",
       "      <td>2</td>\n",
       "      <td>1</td>\n",
       "    </tr>\n",
       "    <tr>\n",
       "      <th>1</th>\n",
       "      <td>1</td>\n",
       "      <td>1</td>\n",
       "      <td>0</td>\n",
       "      <td>1</td>\n",
       "      <td>1</td>\n",
       "    </tr>\n",
       "    <tr>\n",
       "      <th>2</th>\n",
       "      <td>1</td>\n",
       "      <td>0</td>\n",
       "      <td>1</td>\n",
       "      <td>1</td>\n",
       "      <td>0</td>\n",
       "    </tr>\n",
       "    <tr>\n",
       "      <th>3</th>\n",
       "      <td>1</td>\n",
       "      <td>0</td>\n",
       "      <td>0</td>\n",
       "      <td>1</td>\n",
       "      <td>1</td>\n",
       "    </tr>\n",
       "    <tr>\n",
       "      <th>4</th>\n",
       "      <td>1</td>\n",
       "      <td>0</td>\n",
       "      <td>0</td>\n",
       "      <td>2</td>\n",
       "      <td>1</td>\n",
       "    </tr>\n",
       "  </tbody>\n",
       "</table>\n",
       "</div>"
      ]
     },
     "execution_count": 13,
     "metadata": {},
     "output_type": "execute_result"
    }
   ],
   "execution_count": 13
  },
  {
   "cell_type": "code",
   "id": "260d58b6081d062e",
   "metadata": {
    "ExecuteTime": {
     "end_time": "2025-02-02T21:13:52.972270Z",
     "start_time": "2025-02-02T21:13:52.942245Z"
    }
   },
   "source": [
    "res_df = pd.DataFrame(\n",
    "    index=[str(clf) for clf in classifiers],\n",
    "    columns=df['dataset'].unique()\n",
    ")\n",
    "\n",
    "X_pred = pd.DataFrame({'x0': [1], 'x1': [1], 'x2': [1]})\n",
    "for clf in classifiers:\n",
    "    for df_i, df_v in df.groupby('dataset'):\n",
    "        df_v = df_v.drop(columns=['dataset'])\n",
    "        X, y = df_v.drop(columns='y'), df_v['y']\n",
    "        clf.fit(X, y)\n",
    "        y_pred = clf.predict(X_pred)[0]\n",
    "        res_df.loc[str(clf), df_i] = y_pred\n",
    "\n",
    "res_df"
   ],
   "outputs": [
    {
     "data": {
      "text/plain": [
       "                  1  2  3  4\n",
       "OneRClassifier()  1  1  1  1"
      ],
      "text/html": [
       "<div>\n",
       "<style scoped>\n",
       "    .dataframe tbody tr th:only-of-type {\n",
       "        vertical-align: middle;\n",
       "    }\n",
       "\n",
       "    .dataframe tbody tr th {\n",
       "        vertical-align: top;\n",
       "    }\n",
       "\n",
       "    .dataframe thead th {\n",
       "        text-align: right;\n",
       "    }\n",
       "</style>\n",
       "<table border=\"1\" class=\"dataframe\">\n",
       "  <thead>\n",
       "    <tr style=\"text-align: right;\">\n",
       "      <th></th>\n",
       "      <th>1</th>\n",
       "      <th>2</th>\n",
       "      <th>3</th>\n",
       "      <th>4</th>\n",
       "    </tr>\n",
       "  </thead>\n",
       "  <tbody>\n",
       "    <tr>\n",
       "      <th>OneRClassifier()</th>\n",
       "      <td>1</td>\n",
       "      <td>1</td>\n",
       "      <td>1</td>\n",
       "      <td>1</td>\n",
       "    </tr>\n",
       "  </tbody>\n",
       "</table>\n",
       "</div>"
      ]
     },
     "execution_count": 14,
     "metadata": {},
     "output_type": "execute_result"
    }
   ],
   "execution_count": 14
  }
 ],
 "metadata": {
  "kernelspec": {
   "display_name": "Python 3 (ipykernel)",
   "language": "python",
   "name": "python3"
  },
  "language_info": {
   "codemirror_mode": {
    "name": "ipython",
    "version": 3
   },
   "file_extension": ".py",
   "mimetype": "text/x-python",
   "name": "python",
   "nbconvert_exporter": "python",
   "pygments_lexer": "ipython3",
   "version": "3.9.13"
  }
 },
 "nbformat": 4,
 "nbformat_minor": 5
}
