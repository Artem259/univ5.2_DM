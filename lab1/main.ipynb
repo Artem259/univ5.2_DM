{
 "cells": [
  {
   "cell_type": "code",
   "id": "443b056ecc3e19fe",
   "metadata": {
    "ExecuteTime": {
     "end_time": "2025-02-16T21:40:16.730320Z",
     "start_time": "2025-02-16T21:40:16.073195Z"
    }
   },
   "source": [
    "import pandas as pd\n",
    "import sklearn\n",
    "\n",
    "import service\n",
    "from classification.OneRClassifier import OneRClassifier\n",
    "from classification.NaiveBayesClassifier import NaiveBayesClassifier\n",
    "from classification.KNeighborsClassifier import KNeighborsClassifier"
   ],
   "outputs": [],
   "execution_count": 1
  },
  {
   "cell_type": "code",
   "id": "f5b1d3450b87fbb8",
   "metadata": {
    "ExecuteTime": {
     "end_time": "2025-02-16T21:40:16.746147Z",
     "start_time": "2025-02-16T21:40:16.732888Z"
    }
   },
   "source": [
    "classifiers = [OneRClassifier(), NaiveBayesClassifier(), KNeighborsClassifier()]  # TODO"
   ],
   "outputs": [],
   "execution_count": 2
  },
  {
   "cell_type": "markdown",
   "id": "5adade351cdd3c30",
   "metadata": {},
   "source": [
    "#### data_4x"
   ]
  },
  {
   "cell_type": "code",
   "id": "f1d2c882e1e6f0f8",
   "metadata": {
    "ExecuteTime": {
     "end_time": "2025-02-16T21:40:16.871596Z",
     "start_time": "2025-02-16T21:40:16.857083Z"
    }
   },
   "source": [
    "df = pd.read_csv('data/data_4x.csv')\n",
    "df.head()"
   ],
   "outputs": [
    {
     "data": {
      "text/plain": [
       "   x0  x1  x2  x3  y\n",
       "0   0   0   1   0  0\n",
       "1   1   0   0   1  1\n",
       "2   2   0   1   0  1\n",
       "3   0   1   0   0  1\n",
       "4   0   1   1   0  1"
      ],
      "text/html": [
       "<div>\n",
       "<style scoped>\n",
       "    .dataframe tbody tr th:only-of-type {\n",
       "        vertical-align: middle;\n",
       "    }\n",
       "\n",
       "    .dataframe tbody tr th {\n",
       "        vertical-align: top;\n",
       "    }\n",
       "\n",
       "    .dataframe thead th {\n",
       "        text-align: right;\n",
       "    }\n",
       "</style>\n",
       "<table border=\"1\" class=\"dataframe\">\n",
       "  <thead>\n",
       "    <tr style=\"text-align: right;\">\n",
       "      <th></th>\n",
       "      <th>x0</th>\n",
       "      <th>x1</th>\n",
       "      <th>x2</th>\n",
       "      <th>x3</th>\n",
       "      <th>y</th>\n",
       "    </tr>\n",
       "  </thead>\n",
       "  <tbody>\n",
       "    <tr>\n",
       "      <th>0</th>\n",
       "      <td>0</td>\n",
       "      <td>0</td>\n",
       "      <td>1</td>\n",
       "      <td>0</td>\n",
       "      <td>0</td>\n",
       "    </tr>\n",
       "    <tr>\n",
       "      <th>1</th>\n",
       "      <td>1</td>\n",
       "      <td>0</td>\n",
       "      <td>0</td>\n",
       "      <td>1</td>\n",
       "      <td>1</td>\n",
       "    </tr>\n",
       "    <tr>\n",
       "      <th>2</th>\n",
       "      <td>2</td>\n",
       "      <td>0</td>\n",
       "      <td>1</td>\n",
       "      <td>0</td>\n",
       "      <td>1</td>\n",
       "    </tr>\n",
       "    <tr>\n",
       "      <th>3</th>\n",
       "      <td>0</td>\n",
       "      <td>1</td>\n",
       "      <td>0</td>\n",
       "      <td>0</td>\n",
       "      <td>1</td>\n",
       "    </tr>\n",
       "    <tr>\n",
       "      <th>4</th>\n",
       "      <td>0</td>\n",
       "      <td>1</td>\n",
       "      <td>1</td>\n",
       "      <td>0</td>\n",
       "      <td>1</td>\n",
       "    </tr>\n",
       "  </tbody>\n",
       "</table>\n",
       "</div>"
      ]
     },
     "execution_count": 3,
     "metadata": {},
     "output_type": "execute_result"
    }
   ],
   "execution_count": 3
  },
  {
   "cell_type": "code",
   "id": "db81a109b0573614",
   "metadata": {
    "ExecuteTime": {
     "end_time": "2025-02-16T21:40:16.933536Z",
     "start_time": "2025-02-16T21:40:16.918743Z"
    }
   },
   "source": [
    "X, y = df.drop(columns='y'), df['y']\n",
    "X.shape, y.shape"
   ],
   "outputs": [
    {
     "data": {
      "text/plain": [
       "((10, 4), (10,))"
      ]
     },
     "execution_count": 4,
     "metadata": {},
     "output_type": "execute_result"
    }
   ],
   "execution_count": 4
  },
  {
   "cell_type": "code",
   "id": "383832b7ce424205",
   "metadata": {
    "ExecuteTime": {
     "end_time": "2025-02-16T21:40:16.994984Z",
     "start_time": "2025-02-16T21:40:16.980905Z"
    }
   },
   "source": [
    "y.replace(0, 'y0', inplace=True)\n",
    "y.replace(1, 'y1', inplace=True)\n",
    "y = list(y)"
   ],
   "outputs": [],
   "execution_count": 5
  },
  {
   "cell_type": "code",
   "id": "ccaeb1b950f68667",
   "metadata": {
    "ExecuteTime": {
     "end_time": "2025-02-16T21:40:17.072214Z",
     "start_time": "2025-02-16T21:40:17.058193Z"
    }
   },
   "source": "X_pred = pd.DataFrame({'x0': [2], 'x1': [1], 'x2': [1], 'x3': [1]})",
   "outputs": [],
   "execution_count": 6
  },
  {
   "cell_type": "markdown",
   "id": "771fb7d05d925e51",
   "metadata": {},
   "source": [
    "##### OneRClassifier"
   ]
  },
  {
   "cell_type": "code",
   "id": "b24d64a57bb6053a",
   "metadata": {
    "ExecuteTime": {
     "end_time": "2025-02-16T21:40:17.118913Z",
     "start_time": "2025-02-16T21:40:17.104630Z"
    }
   },
   "source": [
    "clf = OneRClassifier()\n",
    "clf.fit(X, y);"
   ],
   "outputs": [],
   "execution_count": 7
  },
  {
   "cell_type": "code",
   "id": "3f6eef5fd803398f",
   "metadata": {
    "ExecuteTime": {
     "end_time": "2025-02-16T21:40:17.134428Z",
     "start_time": "2025-02-16T21:40:17.121920Z"
    }
   },
   "source": [
    "service.OneRClassifier_info(clf)"
   ],
   "outputs": [
    {
     "name": "stdout",
     "output_type": "stream",
     "text": [
      "x[3] == 0: y = y1\n",
      "x[3] == 1: y = y0\n"
     ]
    }
   ],
   "execution_count": 8
  },
  {
   "cell_type": "code",
   "id": "3eb2789f7796d84f",
   "metadata": {
    "ExecuteTime": {
     "end_time": "2025-02-16T21:40:17.165446Z",
     "start_time": "2025-02-16T21:40:17.150764Z"
    }
   },
   "source": [
    "clf.predict(X_pred)"
   ],
   "outputs": [
    {
     "data": {
      "text/plain": [
       "array(['y0'], dtype='<U2')"
      ]
     },
     "execution_count": 9,
     "metadata": {},
     "output_type": "execute_result"
    }
   ],
   "execution_count": 9
  },
  {
   "cell_type": "code",
   "id": "18cddcb671bf3074",
   "metadata": {
    "ExecuteTime": {
     "end_time": "2025-02-16T21:40:17.196227Z",
     "start_time": "2025-02-16T21:40:17.181629Z"
    }
   },
   "source": [
    "clf.feature_names_in_"
   ],
   "outputs": [
    {
     "data": {
      "text/plain": [
       "array(['x0', 'x1', 'x2', 'x3'], dtype=object)"
      ]
     },
     "execution_count": 10,
     "metadata": {},
     "output_type": "execute_result"
    }
   ],
   "execution_count": 10
  },
  {
   "cell_type": "markdown",
   "id": "4e69f6cf7a75402b",
   "metadata": {},
   "source": [
    "Compare with similar scikit-learn model"
   ]
  },
  {
   "cell_type": "code",
   "id": "9850633b536330d3",
   "metadata": {
    "ExecuteTime": {
     "end_time": "2025-02-16T21:40:17.226969Z",
     "start_time": "2025-02-16T21:40:17.212682Z"
    }
   },
   "source": [
    "sk_clf = sklearn.tree.DecisionTreeClassifier(max_depth=1)\n",
    "sk_clf.fit(X, y);"
   ],
   "outputs": [],
   "execution_count": 11
  },
  {
   "cell_type": "code",
   "id": "49414f85bb667d97",
   "metadata": {
    "ExecuteTime": {
     "end_time": "2025-02-16T21:40:17.258223Z",
     "start_time": "2025-02-16T21:40:17.244087Z"
    }
   },
   "source": [
    "service.sklearn_DecisionTreeClassifier_info(sk_clf)"
   ],
   "outputs": [
    {
     "name": "stdout",
     "output_type": "stream",
     "text": [
      "x[3] <= 0.5: y = y1\n",
      "x[3] > 0.5: y = y0\n"
     ]
    }
   ],
   "execution_count": 12
  },
  {
   "cell_type": "code",
   "id": "f64e4b1656655881",
   "metadata": {
    "ExecuteTime": {
     "end_time": "2025-02-16T21:40:17.289070Z",
     "start_time": "2025-02-16T21:40:17.274905Z"
    }
   },
   "source": [
    "sk_clf.predict(X_pred)"
   ],
   "outputs": [
    {
     "data": {
      "text/plain": [
       "array(['y0'], dtype='<U2')"
      ]
     },
     "execution_count": 13,
     "metadata": {},
     "output_type": "execute_result"
    }
   ],
   "execution_count": 13
  },
  {
   "cell_type": "markdown",
   "id": "512d0ee0fb0fb702",
   "metadata": {},
   "source": [
    "##### NaiveBayesClassifier"
   ]
  },
  {
   "cell_type": "code",
   "id": "df48f442ed1f4111",
   "metadata": {
    "ExecuteTime": {
     "end_time": "2025-02-16T21:40:17.320345Z",
     "start_time": "2025-02-16T21:40:17.306061Z"
    }
   },
   "source": [
    "clf = NaiveBayesClassifier()\n",
    "clf.fit(X, y);"
   ],
   "outputs": [],
   "execution_count": 14
  },
  {
   "cell_type": "code",
   "id": "19c3bc2bb46912cd",
   "metadata": {
    "ExecuteTime": {
     "end_time": "2025-02-16T21:40:17.351319Z",
     "start_time": "2025-02-16T21:40:17.336789Z"
    }
   },
   "source": [
    "service.NaiveBayesClassifier_info(clf)"
   ],
   "outputs": [
    {
     "name": "stdout",
     "output_type": "stream",
     "text": [
      "class_log_probs_:\n",
      "-0.916290731874155 -0.5108256237659907 \n",
      "\n",
      "feature_log_probs_:\n",
      "y  feat_v\n",
      "0  0        -0.559616\n",
      "   1        -1.252763\n",
      "1  2        -0.810930\n",
      "   0        -1.098612\n",
      "   1        -1.504077\n",
      "Name: count, dtype: float64 y  feat_v\n",
      "0  0        -0.693147\n",
      "   1        -0.693147\n",
      "1  0        -0.693147\n",
      "   1        -0.693147\n",
      "Name: count, dtype: float64 y  feat_v\n",
      "0  1        -0.405465\n",
      "   0        -1.098612\n",
      "1  0        -0.693147\n",
      "   1        -0.693147\n",
      "Name: count, dtype: float64 y  feat_v\n",
      "0  1        -0.405465\n",
      "   0        -1.098612\n",
      "1  0        -0.287682\n",
      "   1        -1.386294\n",
      "Name: count, dtype: float64 \n",
      "\n",
      "feature_missing_log_probs_:\n",
      "y\n",
      "0   -1.945910\n",
      "1   -2.197225\n",
      "Name: feat_v, dtype: float64 y\n",
      "0   -1.791759\n",
      "1   -2.079442\n",
      "Name: feat_v, dtype: float64 y\n",
      "0   -1.791759\n",
      "1   -2.079442\n",
      "Name: feat_v, dtype: float64 y\n",
      "0   -1.791759\n",
      "1   -2.079442\n",
      "Name: feat_v, dtype: float64 \n",
      "\n"
     ]
    }
   ],
   "execution_count": 15
  },
  {
   "cell_type": "code",
   "id": "e15feb35d520309c",
   "metadata": {
    "ExecuteTime": {
     "end_time": "2025-02-16T21:40:17.381448Z",
     "start_time": "2025-02-16T21:40:17.367256Z"
    }
   },
   "source": [
    "clf.predict(X_pred)"
   ],
   "outputs": [
    {
     "data": {
      "text/plain": [
       "array(['y1'], dtype='<U2')"
      ]
     },
     "execution_count": 16,
     "metadata": {},
     "output_type": "execute_result"
    }
   ],
   "execution_count": 16
  },
  {
   "cell_type": "markdown",
   "id": "b0e9cd8c255712dd",
   "metadata": {},
   "source": [
    "Compare with similar scikit-learn model"
   ]
  },
  {
   "cell_type": "code",
   "id": "70b833e24743fae6",
   "metadata": {
    "ExecuteTime": {
     "end_time": "2025-02-16T21:40:17.411635Z",
     "start_time": "2025-02-16T21:40:17.397752Z"
    }
   },
   "source": [
    "sk_clf = sklearn.naive_bayes.CategoricalNB()\n",
    "sk_clf.fit(X, y);"
   ],
   "outputs": [],
   "execution_count": 17
  },
  {
   "cell_type": "code",
   "id": "755ed1927bb0ca71",
   "metadata": {
    "ExecuteTime": {
     "end_time": "2025-02-16T21:40:17.442839Z",
     "start_time": "2025-02-16T21:40:17.428833Z"
    }
   },
   "source": [
    "service.sklearn_CategoricalNB_info(sk_clf)"
   ],
   "outputs": [
    {
     "name": "stdout",
     "output_type": "stream",
     "text": [
      "class_log_prior_:\n",
      "-0.9162907318741553 -0.5108256237659909 \n",
      "\n",
      "feature_log_prob_:\n",
      "[[-0.55961579 -1.25276297 -1.94591015]\n",
      " [-1.09861229 -1.5040774  -0.81093022]] [[-0.69314718 -0.69314718]\n",
      " [-0.69314718 -0.69314718]] [[-1.09861229 -0.40546511]\n",
      " [-0.69314718 -0.69314718]] [[-1.09861229 -0.40546511]\n",
      " [-0.28768207 -1.38629436]] \n",
      "\n"
     ]
    }
   ],
   "execution_count": 18
  },
  {
   "cell_type": "code",
   "id": "6f4d5f5342731ec0",
   "metadata": {
    "ExecuteTime": {
     "end_time": "2025-02-16T21:40:17.473714Z",
     "start_time": "2025-02-16T21:40:17.459184Z"
    }
   },
   "source": [
    "sk_clf.predict(X_pred)"
   ],
   "outputs": [
    {
     "data": {
      "text/plain": [
       "array(['y1'], dtype='<U2')"
      ]
     },
     "execution_count": 19,
     "metadata": {},
     "output_type": "execute_result"
    }
   ],
   "execution_count": 19
  },
  {
   "cell_type": "markdown",
   "id": "392225109893aacf",
   "metadata": {},
   "source": [
    "##### DecisionTreeClassifier"
   ]
  },
  {
   "cell_type": "code",
   "id": "121902b0a763da40",
   "metadata": {
    "ExecuteTime": {
     "end_time": "2025-02-16T21:40:17.503909Z",
     "start_time": "2025-02-16T21:40:17.489995Z"
    }
   },
   "source": [
    "# TODO"
   ],
   "outputs": [],
   "execution_count": 20
  },
  {
   "cell_type": "markdown",
   "id": "b4e2317535c53e6f",
   "metadata": {},
   "source": [
    "##### KNeighborsClassifier"
   ]
  },
  {
   "metadata": {
    "ExecuteTime": {
     "end_time": "2025-02-16T21:40:17.550169Z",
     "start_time": "2025-02-16T21:40:17.535821Z"
    }
   },
   "cell_type": "code",
   "source": "n_neighbors = 5",
   "id": "cacac7601c3e52f3",
   "outputs": [],
   "execution_count": 21
  },
  {
   "cell_type": "code",
   "id": "52c90241a1a7077a",
   "metadata": {
    "ExecuteTime": {
     "end_time": "2025-02-16T21:40:17.565631Z",
     "start_time": "2025-02-16T21:40:17.553082Z"
    }
   },
   "source": [
    "clf = KNeighborsClassifier(n_neighbors=n_neighbors)\n",
    "clf.fit(X, y);"
   ],
   "outputs": [],
   "execution_count": 22
  },
  {
   "cell_type": "code",
   "id": "1f936563b35c4f3b",
   "metadata": {
    "ExecuteTime": {
     "end_time": "2025-02-16T21:40:17.596720Z",
     "start_time": "2025-02-16T21:40:17.582634Z"
    }
   },
   "source": "service.KNeighborsClassifier_info(clf, X_pred)",
   "outputs": [
    {
     "name": "stdout",
     "output_type": "stream",
     "text": [
      "neighbors_dist:\n",
      "[1.         1.41421356 1.73205081 1.73205081 1.73205081] \n",
      "\n",
      "neighbors_indices:\n",
      "[8 2 1 6 7] \n",
      "\n"
     ]
    }
   ],
   "execution_count": 23
  },
  {
   "cell_type": "code",
   "id": "2dc08d385348f7b8",
   "metadata": {
    "ExecuteTime": {
     "end_time": "2025-02-16T21:40:17.628154Z",
     "start_time": "2025-02-16T21:40:17.614148Z"
    }
   },
   "source": [
    "clf.predict(X_pred)"
   ],
   "outputs": [
    {
     "data": {
      "text/plain": [
       "Ellipsis"
      ]
     },
     "execution_count": 24,
     "metadata": {},
     "output_type": "execute_result"
    }
   ],
   "execution_count": 24
  },
  {
   "cell_type": "markdown",
   "id": "68214bb5feb6ac65",
   "metadata": {},
   "source": [
    "Compare with similar scikit-learn model"
   ]
  },
  {
   "cell_type": "code",
   "id": "62a4c52cbd3a4170",
   "metadata": {
    "ExecuteTime": {
     "end_time": "2025-02-16T21:40:17.658980Z",
     "start_time": "2025-02-16T21:40:17.645884Z"
    }
   },
   "source": [
    "sk_clf = sklearn.neighbors.KNeighborsClassifier(n_neighbors=n_neighbors)\n",
    "sk_clf.fit(X, y);"
   ],
   "outputs": [],
   "execution_count": 25
  },
  {
   "cell_type": "code",
   "id": "f14d821e167bdcb2",
   "metadata": {
    "ExecuteTime": {
     "end_time": "2025-02-16T21:40:17.689951Z",
     "start_time": "2025-02-16T21:40:17.675995Z"
    }
   },
   "source": "service.sklearn_KNeighborsClassifier_info(sk_clf, X_pred)",
   "outputs": [
    {
     "name": "stdout",
     "output_type": "stream",
     "text": [
      "neighbors_dist:\n",
      "[1.         1.41421356 1.73205081 1.73205081 1.73205081] \n",
      "\n",
      "neighbors_indices:\n",
      "[8 2 6 1 7] \n",
      "\n"
     ]
    }
   ],
   "execution_count": 26
  },
  {
   "cell_type": "code",
   "id": "9fb3de8d77fbd4fd",
   "metadata": {
    "ExecuteTime": {
     "end_time": "2025-02-16T21:40:17.720470Z",
     "start_time": "2025-02-16T21:40:17.705953Z"
    }
   },
   "source": [
    "sk_clf.predict(X_pred)"
   ],
   "outputs": [
    {
     "data": {
      "text/plain": [
       "array(['y1'], dtype='<U2')"
      ]
     },
     "execution_count": 27,
     "metadata": {},
     "output_type": "execute_result"
    }
   ],
   "execution_count": 27
  },
  {
   "cell_type": "markdown",
   "id": "7f0b9183e2a5f6fb",
   "metadata": {},
   "source": [
    "#### More datasets (data_3x)"
   ]
  },
  {
   "cell_type": "code",
   "id": "66c94c8c8a27a670",
   "metadata": {
    "ExecuteTime": {
     "end_time": "2025-02-16T21:40:17.751750Z",
     "start_time": "2025-02-16T21:40:17.737658Z"
    }
   },
   "source": [
    "df = pd.read_csv('data/data_3x.csv')\n",
    "df.head()"
   ],
   "outputs": [
    {
     "data": {
      "text/plain": [
       "   dataset  x0  x1  x2  y\n",
       "0        1   0   1   2  1\n",
       "1        1   1   0   1  1\n",
       "2        1   0   1   1  0\n",
       "3        1   0   0   1  1\n",
       "4        1   0   0   2  1"
      ],
      "text/html": [
       "<div>\n",
       "<style scoped>\n",
       "    .dataframe tbody tr th:only-of-type {\n",
       "        vertical-align: middle;\n",
       "    }\n",
       "\n",
       "    .dataframe tbody tr th {\n",
       "        vertical-align: top;\n",
       "    }\n",
       "\n",
       "    .dataframe thead th {\n",
       "        text-align: right;\n",
       "    }\n",
       "</style>\n",
       "<table border=\"1\" class=\"dataframe\">\n",
       "  <thead>\n",
       "    <tr style=\"text-align: right;\">\n",
       "      <th></th>\n",
       "      <th>dataset</th>\n",
       "      <th>x0</th>\n",
       "      <th>x1</th>\n",
       "      <th>x2</th>\n",
       "      <th>y</th>\n",
       "    </tr>\n",
       "  </thead>\n",
       "  <tbody>\n",
       "    <tr>\n",
       "      <th>0</th>\n",
       "      <td>1</td>\n",
       "      <td>0</td>\n",
       "      <td>1</td>\n",
       "      <td>2</td>\n",
       "      <td>1</td>\n",
       "    </tr>\n",
       "    <tr>\n",
       "      <th>1</th>\n",
       "      <td>1</td>\n",
       "      <td>1</td>\n",
       "      <td>0</td>\n",
       "      <td>1</td>\n",
       "      <td>1</td>\n",
       "    </tr>\n",
       "    <tr>\n",
       "      <th>2</th>\n",
       "      <td>1</td>\n",
       "      <td>0</td>\n",
       "      <td>1</td>\n",
       "      <td>1</td>\n",
       "      <td>0</td>\n",
       "    </tr>\n",
       "    <tr>\n",
       "      <th>3</th>\n",
       "      <td>1</td>\n",
       "      <td>0</td>\n",
       "      <td>0</td>\n",
       "      <td>1</td>\n",
       "      <td>1</td>\n",
       "    </tr>\n",
       "    <tr>\n",
       "      <th>4</th>\n",
       "      <td>1</td>\n",
       "      <td>0</td>\n",
       "      <td>0</td>\n",
       "      <td>2</td>\n",
       "      <td>1</td>\n",
       "    </tr>\n",
       "  </tbody>\n",
       "</table>\n",
       "</div>"
      ]
     },
     "execution_count": 28,
     "metadata": {},
     "output_type": "execute_result"
    }
   ],
   "execution_count": 28
  },
  {
   "cell_type": "code",
   "id": "260d58b6081d062e",
   "metadata": {
    "ExecuteTime": {
     "end_time": "2025-02-16T21:40:18.188518Z",
     "start_time": "2025-02-16T21:40:17.799905Z"
    }
   },
   "source": [
    "res_df = pd.DataFrame(\n",
    "    index=[str(clf) for clf in classifiers],\n",
    "    columns=df['dataset'].unique()\n",
    ")\n",
    "\n",
    "X_pred = pd.DataFrame({'x0': [1], 'x1': [1], 'x2': [1]})\n",
    "for clf in classifiers:\n",
    "    for df_i, df_v in df.groupby('dataset'):\n",
    "        df_v = df_v.drop(columns=['dataset'])\n",
    "        X, y = df_v.drop(columns='y'), df_v['y']\n",
    "        clf.fit(X, y)\n",
    "        y_pred = clf.predict(X_pred)[0]\n",
    "        res_df.loc[str(clf), df_i] = y_pred\n",
    "\n",
    "res_df"
   ],
   "outputs": [
    {
     "ename": "TypeError",
     "evalue": "'ellipsis' object is not subscriptable",
     "output_type": "error",
     "traceback": [
      "\u001B[1;31m---------------------------------------------------------------------------\u001B[0m",
      "\u001B[1;31mTypeError\u001B[0m                                 Traceback (most recent call last)",
      "Cell \u001B[1;32mIn[29], line 12\u001B[0m\n\u001B[0;32m     10\u001B[0m         X, y \u001B[38;5;241m=\u001B[39m df_v\u001B[38;5;241m.\u001B[39mdrop(columns\u001B[38;5;241m=\u001B[39m\u001B[38;5;124m'\u001B[39m\u001B[38;5;124my\u001B[39m\u001B[38;5;124m'\u001B[39m), df_v[\u001B[38;5;124m'\u001B[39m\u001B[38;5;124my\u001B[39m\u001B[38;5;124m'\u001B[39m]\n\u001B[0;32m     11\u001B[0m         clf\u001B[38;5;241m.\u001B[39mfit(X, y)\n\u001B[1;32m---> 12\u001B[0m         y_pred \u001B[38;5;241m=\u001B[39m \u001B[43mclf\u001B[49m\u001B[38;5;241;43m.\u001B[39;49m\u001B[43mpredict\u001B[49m\u001B[43m(\u001B[49m\u001B[43mX_pred\u001B[49m\u001B[43m)\u001B[49m\u001B[43m[\u001B[49m\u001B[38;5;241;43m0\u001B[39;49m\u001B[43m]\u001B[49m\n\u001B[0;32m     13\u001B[0m         res_df\u001B[38;5;241m.\u001B[39mloc[\u001B[38;5;28mstr\u001B[39m(clf), df_i] \u001B[38;5;241m=\u001B[39m y_pred\n\u001B[0;32m     15\u001B[0m res_df\n",
      "\u001B[1;31mTypeError\u001B[0m: 'ellipsis' object is not subscriptable"
     ]
    }
   ],
   "execution_count": 29
  },
  {
   "cell_type": "markdown",
   "id": "ce5a4a6d11ea0d32",
   "metadata": {},
   "source": [
    "#### Check classifiers (scikit-learn)"
   ]
  },
  {
   "cell_type": "code",
   "id": "33f10e80ae459b89",
   "metadata": {},
   "source": [
    "from sklearn.utils.estimator_checks import estimator_checks_generator\n",
    "\n",
    "for clf in classifiers:\n",
    "    for (estimator, check) in estimator_checks_generator(clf):\n",
    "        try:\n",
    "            check(estimator)\n",
    "        except KeyError as e:\n",
    "            if \"encountered an unknown value\" in str(e):\n",
    "                continue\n",
    "            raise"
   ],
   "outputs": [],
   "execution_count": null
  }
 ],
 "metadata": {
  "kernelspec": {
   "display_name": "Python 3 (ipykernel)",
   "language": "python",
   "name": "python3"
  },
  "language_info": {
   "codemirror_mode": {
    "name": "ipython",
    "version": 3
   },
   "file_extension": ".py",
   "mimetype": "text/x-python",
   "name": "python",
   "nbconvert_exporter": "python",
   "pygments_lexer": "ipython3",
   "version": "3.9.13"
  }
 },
 "nbformat": 4,
 "nbformat_minor": 5
}
