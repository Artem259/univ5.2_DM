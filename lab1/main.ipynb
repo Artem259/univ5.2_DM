{
 "cells": [
  {
   "cell_type": "code",
   "id": "443b056ecc3e19fe",
   "metadata": {
    "ExecuteTime": {
     "end_time": "2025-02-24T00:46:46.607705Z",
     "start_time": "2025-02-24T00:46:45.933429Z"
    }
   },
   "source": [
    "import pandas as pd\n",
    "import sklearn\n",
    "\n",
    "import service\n",
    "from classification.OneRClassifier import OneRClassifier\n",
    "from classification.NaiveBayesClassifier import NaiveBayesClassifier\n",
    "from classification.DecisionTreeClassifier import DecisionTreeClassifier\n",
    "from classification.KNeighborsClassifier import KNeighborsClassifier"
   ],
   "outputs": [],
   "execution_count": 1
  },
  {
   "cell_type": "markdown",
   "id": "5adade351cdd3c30",
   "metadata": {},
   "source": [
    "### data_4x"
   ]
  },
  {
   "cell_type": "code",
   "id": "f1d2c882e1e6f0f8",
   "metadata": {
    "ExecuteTime": {
     "end_time": "2025-02-24T00:46:46.622891Z",
     "start_time": "2025-02-24T00:46:46.612193Z"
    }
   },
   "source": [
    "df = pd.read_csv('data/data_4x.csv')\n",
    "df.info()"
   ],
   "outputs": [
    {
     "name": "stdout",
     "output_type": "stream",
     "text": [
      "<class 'pandas.core.frame.DataFrame'>\n",
      "RangeIndex: 10 entries, 0 to 9\n",
      "Data columns (total 5 columns):\n",
      " #   Column  Non-Null Count  Dtype\n",
      "---  ------  --------------  -----\n",
      " 0   x0      10 non-null     int64\n",
      " 1   x1      10 non-null     int64\n",
      " 2   x2      10 non-null     int64\n",
      " 3   x3      10 non-null     int64\n",
      " 4   y       10 non-null     int64\n",
      "dtypes: int64(5)\n",
      "memory usage: 528.0 bytes\n"
     ]
    }
   ],
   "execution_count": 2
  },
  {
   "cell_type": "code",
   "id": "db81a109b0573614",
   "metadata": {
    "ExecuteTime": {
     "end_time": "2025-02-24T00:46:46.748307Z",
     "start_time": "2025-02-24T00:46:46.734361Z"
    }
   },
   "source": [
    "X, y = df.drop(columns='y'), df['y']\n",
    "X.shape, y.shape"
   ],
   "outputs": [
    {
     "data": {
      "text/plain": [
       "((10, 4), (10,))"
      ]
     },
     "execution_count": 3,
     "metadata": {},
     "output_type": "execute_result"
    }
   ],
   "execution_count": 3
  },
  {
   "cell_type": "code",
   "id": "383832b7ce424205",
   "metadata": {
    "ExecuteTime": {
     "end_time": "2025-02-24T00:46:46.794607Z",
     "start_time": "2025-02-24T00:46:46.777561Z"
    }
   },
   "source": [
    "y.replace(0, 'y0', inplace=True)\n",
    "y.replace(1, 'y1', inplace=True)\n",
    "y = list(y)"
   ],
   "outputs": [],
   "execution_count": 4
  },
  {
   "cell_type": "code",
   "id": "ccaeb1b950f68667",
   "metadata": {
    "ExecuteTime": {
     "end_time": "2025-02-24T00:46:46.825115Z",
     "start_time": "2025-02-24T00:46:46.813089Z"
    }
   },
   "source": [
    "X_pred = pd.DataFrame({'x0': [2], 'x1': [1], 'x2': [1], 'x3': [1]})"
   ],
   "outputs": [],
   "execution_count": 5
  },
  {
   "cell_type": "markdown",
   "id": "771fb7d05d925e51",
   "metadata": {},
   "source": [
    "#### OneRClassifier"
   ]
  },
  {
   "cell_type": "code",
   "id": "b24d64a57bb6053a",
   "metadata": {
    "ExecuteTime": {
     "end_time": "2025-02-24T00:46:46.857590Z",
     "start_time": "2025-02-24T00:46:46.844222Z"
    }
   },
   "source": [
    "clf = OneRClassifier()\n",
    "clf.fit(X, y);"
   ],
   "outputs": [],
   "execution_count": 6
  },
  {
   "cell_type": "code",
   "id": "3f6eef5fd803398f",
   "metadata": {
    "ExecuteTime": {
     "end_time": "2025-02-24T00:46:46.905265Z",
     "start_time": "2025-02-24T00:46:46.892377Z"
    }
   },
   "source": [
    "service.OneRClassifier_info(clf)"
   ],
   "outputs": [
    {
     "name": "stdout",
     "output_type": "stream",
     "text": [
      "x[3] == 0: y = y1\n",
      "x[3] == 1: y = y0\n"
     ]
    }
   ],
   "execution_count": 7
  },
  {
   "cell_type": "code",
   "id": "3eb2789f7796d84f",
   "metadata": {
    "ExecuteTime": {
     "end_time": "2025-02-24T00:46:46.951413Z",
     "start_time": "2025-02-24T00:46:46.937688Z"
    }
   },
   "source": [
    "clf.predict(X_pred)"
   ],
   "outputs": [
    {
     "data": {
      "text/plain": [
       "array(['y0'], dtype='<U2')"
      ]
     },
     "execution_count": 8,
     "metadata": {},
     "output_type": "execute_result"
    }
   ],
   "execution_count": 8
  },
  {
   "cell_type": "markdown",
   "id": "512d0ee0fb0fb702",
   "metadata": {},
   "source": [
    "#### NaiveBayesClassifier"
   ]
  },
  {
   "cell_type": "code",
   "id": "df48f442ed1f4111",
   "metadata": {
    "ExecuteTime": {
     "end_time": "2025-02-24T00:46:46.998489Z",
     "start_time": "2025-02-24T00:46:46.972242Z"
    }
   },
   "source": [
    "clf = NaiveBayesClassifier()\n",
    "clf.fit(X, y);"
   ],
   "outputs": [],
   "execution_count": 9
  },
  {
   "cell_type": "code",
   "id": "19c3bc2bb46912cd",
   "metadata": {
    "ExecuteTime": {
     "end_time": "2025-02-24T00:46:47.030026Z",
     "start_time": "2025-02-24T00:46:47.015954Z"
    }
   },
   "source": [
    "service.NaiveBayesClassifier_info(clf)"
   ],
   "outputs": [
    {
     "name": "stdout",
     "output_type": "stream",
     "text": [
      "class_log_probs_:\n",
      "-0.916290731874155 -0.5108256237659907 \n",
      "\n",
      "feature_log_probs_:\n",
      "y  feat_v\n",
      "0  0        -0.559616\n",
      "   1        -1.252763\n",
      "1  2        -0.810930\n",
      "   0        -1.098612\n",
      "   1        -1.504077\n",
      "Name: count, dtype: float64 y  feat_v\n",
      "0  0        -0.693147\n",
      "   1        -0.693147\n",
      "1  0        -0.693147\n",
      "   1        -0.693147\n",
      "Name: count, dtype: float64 y  feat_v\n",
      "0  1        -0.405465\n",
      "   0        -1.098612\n",
      "1  0        -0.693147\n",
      "   1        -0.693147\n",
      "Name: count, dtype: float64 y  feat_v\n",
      "0  1        -0.405465\n",
      "   0        -1.098612\n",
      "1  0        -0.287682\n",
      "   1        -1.386294\n",
      "Name: count, dtype: float64 \n",
      "\n",
      "feature_missing_log_probs_:\n",
      "y\n",
      "0   -1.945910\n",
      "1   -2.197225\n",
      "Name: feat_v, dtype: float64 y\n",
      "0   -1.791759\n",
      "1   -2.079442\n",
      "Name: feat_v, dtype: float64 y\n",
      "0   -1.791759\n",
      "1   -2.079442\n",
      "Name: feat_v, dtype: float64 y\n",
      "0   -1.791759\n",
      "1   -2.079442\n",
      "Name: feat_v, dtype: float64 \n",
      "\n"
     ]
    }
   ],
   "execution_count": 10
  },
  {
   "cell_type": "code",
   "id": "e15feb35d520309c",
   "metadata": {
    "ExecuteTime": {
     "end_time": "2025-02-24T00:46:47.093325Z",
     "start_time": "2025-02-24T00:46:47.064629Z"
    }
   },
   "source": [
    "clf.predict(X_pred)"
   ],
   "outputs": [
    {
     "data": {
      "text/plain": [
       "array(['y1'], dtype='<U2')"
      ]
     },
     "execution_count": 11,
     "metadata": {},
     "output_type": "execute_result"
    }
   ],
   "execution_count": 11
  },
  {
   "cell_type": "markdown",
   "id": "b0e9cd8c255712dd",
   "metadata": {},
   "source": [
    "Compare with similar scikit-learn model"
   ]
  },
  {
   "cell_type": "code",
   "id": "70b833e24743fae6",
   "metadata": {
    "ExecuteTime": {
     "end_time": "2025-02-24T00:46:47.139489Z",
     "start_time": "2025-02-24T00:46:47.131360Z"
    }
   },
   "source": [
    "sk_clf = sklearn.naive_bayes.CategoricalNB()\n",
    "sk_clf.fit(X, y);"
   ],
   "outputs": [],
   "execution_count": 12
  },
  {
   "cell_type": "code",
   "id": "755ed1927bb0ca71",
   "metadata": {
    "ExecuteTime": {
     "end_time": "2025-02-24T00:46:47.171035Z",
     "start_time": "2025-02-24T00:46:47.155951Z"
    }
   },
   "source": [
    "service.sklearn_CategoricalNB_info(sk_clf)"
   ],
   "outputs": [
    {
     "name": "stdout",
     "output_type": "stream",
     "text": [
      "class_log_prior_:\n",
      "-0.9162907318741553 -0.5108256237659909 \n",
      "\n",
      "feature_log_prob_:\n",
      "[[-0.55961579 -1.25276297 -1.94591015]\n",
      " [-1.09861229 -1.5040774  -0.81093022]] [[-0.69314718 -0.69314718]\n",
      " [-0.69314718 -0.69314718]] [[-1.09861229 -0.40546511]\n",
      " [-0.69314718 -0.69314718]] [[-1.09861229 -0.40546511]\n",
      " [-0.28768207 -1.38629436]] \n",
      "\n"
     ]
    }
   ],
   "execution_count": 13
  },
  {
   "cell_type": "code",
   "id": "6f4d5f5342731ec0",
   "metadata": {
    "ExecuteTime": {
     "end_time": "2025-02-24T00:46:47.201725Z",
     "start_time": "2025-02-24T00:46:47.193123Z"
    }
   },
   "source": [
    "sk_clf.predict(X_pred)"
   ],
   "outputs": [
    {
     "data": {
      "text/plain": [
       "array(['y1'], dtype='<U2')"
      ]
     },
     "execution_count": 14,
     "metadata": {},
     "output_type": "execute_result"
    }
   ],
   "execution_count": 14
  },
  {
   "cell_type": "markdown",
   "id": "392225109893aacf",
   "metadata": {},
   "source": [
    "#### DecisionTreeClassifier"
   ]
  },
  {
   "cell_type": "code",
   "id": "121902b0a763da40",
   "metadata": {
    "ExecuteTime": {
     "end_time": "2025-02-24T00:46:47.264022Z",
     "start_time": "2025-02-24T00:46:47.222315Z"
    }
   },
   "source": [
    "clf = DecisionTreeClassifier()\n",
    "clf.fit(X, y);"
   ],
   "outputs": [],
   "execution_count": 15
  },
  {
   "cell_type": "code",
   "id": "ad5ca1083eb79c00",
   "metadata": {
    "ExecuteTime": {
     "end_time": "2025-02-24T00:46:47.295458Z",
     "start_time": "2025-02-24T00:46:47.281538Z"
    }
   },
   "source": [
    "service.DecisionTreeClassifier_info(clf)"
   ],
   "outputs": [
    {
     "name": "stdout",
     "output_type": "stream",
     "text": [
      "└── Feature[1]\n",
      "    (0)\n",
      "    ├── Feature[4]\n",
      "    │   (0)\n",
      "    │   ├── Feature[2]\n",
      "    │   │   (0)\n",
      "    │   │   ├── Label: 0\n",
      "    │   │   (1)\n",
      "    │   │   └── Label: 1\n",
      "    │   (1)\n",
      "    │   └── Label: 0\n",
      "    (1)\n",
      "    ├── Feature[2]\n",
      "    │   (0)\n",
      "    │   ├── Feature[3]\n",
      "    │   │   (0)\n",
      "    │   │   ├── Feature[4]\n",
      "    │   │   │   (1)\n",
      "    │   │   │   ├── Label: 1\n",
      "    │   │   │   (0)\n",
      "    │   │   │   └── Label: 1\n",
      "    │   │   (1)\n",
      "    │   │   └── Label: 1\n",
      "    │   (1)\n",
      "    │   └── Label: 1\n",
      "    (2)\n",
      "    └── Label: 1\n"
     ]
    }
   ],
   "execution_count": 16
  },
  {
   "cell_type": "code",
   "id": "a616c019ad87b34c",
   "metadata": {
    "ExecuteTime": {
     "end_time": "2025-02-24T00:46:47.325950Z",
     "start_time": "2025-02-24T00:46:47.312510Z"
    }
   },
   "source": [
    "clf.predict(X_pred)"
   ],
   "outputs": [
    {
     "data": {
      "text/plain": [
       "array(['y1'], dtype='<U2')"
      ]
     },
     "execution_count": 17,
     "metadata": {},
     "output_type": "execute_result"
    }
   ],
   "execution_count": 17
  },
  {
   "cell_type": "markdown",
   "id": "b4e2317535c53e6f",
   "metadata": {},
   "source": [
    "#### KNeighborsClassifier"
   ]
  },
  {
   "cell_type": "code",
   "id": "cacac7601c3e52f3",
   "metadata": {
    "ExecuteTime": {
     "end_time": "2025-02-24T00:46:47.357533Z",
     "start_time": "2025-02-24T00:46:47.347788Z"
    }
   },
   "source": [
    "n_neighbors = 3"
   ],
   "outputs": [],
   "execution_count": 18
  },
  {
   "cell_type": "markdown",
   "id": "cfc9ca70d5e497f5",
   "metadata": {},
   "source": [
    "##### weights='uniform'"
   ]
  },
  {
   "cell_type": "code",
   "id": "358b6aa24a8a9502",
   "metadata": {
    "ExecuteTime": {
     "end_time": "2025-02-24T00:46:47.404402Z",
     "start_time": "2025-02-24T00:46:47.390731Z"
    }
   },
   "source": [
    "clf = KNeighborsClassifier(n_neighbors=n_neighbors)\n",
    "clf.fit(X, y);"
   ],
   "outputs": [],
   "execution_count": 19
  },
  {
   "cell_type": "code",
   "id": "c9177cc4072eaeaa",
   "metadata": {
    "ExecuteTime": {
     "end_time": "2025-02-24T00:46:47.435004Z",
     "start_time": "2025-02-24T00:46:47.415918Z"
    }
   },
   "source": [
    "service.KNeighborsClassifier_info(clf, X_pred)"
   ],
   "outputs": [
    {
     "name": "stdout",
     "output_type": "stream",
     "text": [
      "neighbors_dist:\n",
      "[1.         1.41421356 1.73205081] \n",
      "\n",
      "neighbors_indices:\n",
      "[8 2 1] \n",
      "\n"
     ]
    }
   ],
   "execution_count": 20
  },
  {
   "cell_type": "code",
   "id": "475b1653dc55b181",
   "metadata": {
    "ExecuteTime": {
     "end_time": "2025-02-24T00:46:47.465895Z",
     "start_time": "2025-02-24T00:46:47.451563Z"
    }
   },
   "source": [
    "clf.predict(X_pred)"
   ],
   "outputs": [
    {
     "data": {
      "text/plain": [
       "array(['y1'], dtype='<U2')"
      ]
     },
     "execution_count": 21,
     "metadata": {},
     "output_type": "execute_result"
    }
   ],
   "execution_count": 21
  },
  {
   "cell_type": "markdown",
   "id": "68214bb5feb6ac65",
   "metadata": {},
   "source": [
    "Compare with similar scikit-learn model"
   ]
  },
  {
   "cell_type": "code",
   "id": "62a4c52cbd3a4170",
   "metadata": {
    "ExecuteTime": {
     "end_time": "2025-02-24T00:46:47.497841Z",
     "start_time": "2025-02-24T00:46:47.482761Z"
    }
   },
   "source": [
    "sk_clf = sklearn.neighbors.KNeighborsClassifier(n_neighbors=n_neighbors)\n",
    "sk_clf.fit(X, y);"
   ],
   "outputs": [],
   "execution_count": 22
  },
  {
   "cell_type": "code",
   "id": "f14d821e167bdcb2",
   "metadata": {
    "ExecuteTime": {
     "end_time": "2025-02-24T00:46:47.529361Z",
     "start_time": "2025-02-24T00:46:47.514278Z"
    }
   },
   "source": [
    "service.sklearn_KNeighborsClassifier_info(sk_clf, X_pred)"
   ],
   "outputs": [
    {
     "name": "stdout",
     "output_type": "stream",
     "text": [
      "neighbors_dist:\n",
      "[1.         1.41421356 1.73205081] \n",
      "\n",
      "neighbors_indices:\n",
      "[8 2 1] \n",
      "\n"
     ]
    }
   ],
   "execution_count": 23
  },
  {
   "cell_type": "code",
   "id": "9fb3de8d77fbd4fd",
   "metadata": {
    "ExecuteTime": {
     "end_time": "2025-02-24T00:46:47.559643Z",
     "start_time": "2025-02-24T00:46:47.545601Z"
    }
   },
   "source": [
    "sk_clf.predict(X_pred)"
   ],
   "outputs": [
    {
     "data": {
      "text/plain": [
       "array(['y1'], dtype='<U2')"
      ]
     },
     "execution_count": 24,
     "metadata": {},
     "output_type": "execute_result"
    }
   ],
   "execution_count": 24
  },
  {
   "cell_type": "markdown",
   "id": "14db95620770a98b",
   "metadata": {},
   "source": [
    "##### weights='distance'"
   ]
  },
  {
   "cell_type": "code",
   "id": "2d2bdcef3d958db6",
   "metadata": {
    "ExecuteTime": {
     "end_time": "2025-02-24T00:46:47.590606Z",
     "start_time": "2025-02-24T00:46:47.575908Z"
    }
   },
   "source": [
    "clf = KNeighborsClassifier(n_neighbors=n_neighbors, weights='distance')\n",
    "clf.fit(X, y);"
   ],
   "outputs": [],
   "execution_count": 25
  },
  {
   "cell_type": "code",
   "id": "a906a24dc75b45cb",
   "metadata": {
    "ExecuteTime": {
     "end_time": "2025-02-24T00:46:47.621705Z",
     "start_time": "2025-02-24T00:46:47.607640Z"
    }
   },
   "source": [
    "clf.predict(X_pred)"
   ],
   "outputs": [
    {
     "data": {
      "text/plain": [
       "array(['y1'], dtype='<U2')"
      ]
     },
     "execution_count": 26,
     "metadata": {},
     "output_type": "execute_result"
    }
   ],
   "execution_count": 26
  },
  {
   "cell_type": "markdown",
   "id": "c121814822e08432",
   "metadata": {},
   "source": [
    "##### weights='distance_squared'"
   ]
  },
  {
   "cell_type": "code",
   "id": "8ee0e547c741fc80",
   "metadata": {
    "ExecuteTime": {
     "end_time": "2025-02-24T00:46:47.653771Z",
     "start_time": "2025-02-24T00:46:47.638744Z"
    }
   },
   "source": [
    "clf = KNeighborsClassifier(n_neighbors=n_neighbors, weights='distance_squared')\n",
    "clf.fit(X, y);"
   ],
   "outputs": [],
   "execution_count": 27
  },
  {
   "cell_type": "code",
   "id": "aa67586dc88e5500",
   "metadata": {
    "ExecuteTime": {
     "end_time": "2025-02-24T00:46:47.684738Z",
     "start_time": "2025-02-24T00:46:47.670851Z"
    }
   },
   "source": [
    "clf.predict(X_pred)"
   ],
   "outputs": [
    {
     "data": {
      "text/plain": [
       "array(['y1'], dtype='<U2')"
      ]
     },
     "execution_count": 28,
     "metadata": {},
     "output_type": "execute_result"
    }
   ],
   "execution_count": 28
  },
  {
   "cell_type": "markdown",
   "id": "7f0b9183e2a5f6fb",
   "metadata": {},
   "source": [
    "### More datasets (data_3x)"
   ]
  },
  {
   "cell_type": "code",
   "id": "59ae3bae6c6bb364",
   "metadata": {
    "ExecuteTime": {
     "end_time": "2025-02-24T00:46:47.716657Z",
     "start_time": "2025-02-24T00:46:47.702246Z"
    }
   },
   "source": [
    "classifiers = [\n",
    "    OneRClassifier(),\n",
    "    NaiveBayesClassifier(),\n",
    "    DecisionTreeClassifier(),\n",
    "    KNeighborsClassifier(weights='uniform'),\n",
    "    KNeighborsClassifier(weights='distance'),\n",
    "    KNeighborsClassifier(weights='distance_squared'),\n",
    "]\n",
    "sk_classifiers = [\n",
    "    sklearn.naive_bayes.CategoricalNB(),\n",
    "    sklearn.tree.DecisionTreeClassifier(criterion='entropy', random_state=42),\n",
    "    sklearn.neighbors.KNeighborsClassifier(weights='uniform'),\n",
    "    sklearn.neighbors.KNeighborsClassifier(weights='distance'),\n",
    "\n",
    "    sklearn.dummy.DummyClassifier(),\n",
    "]"
   ],
   "outputs": [],
   "execution_count": 29
  },
  {
   "cell_type": "code",
   "id": "66c94c8c8a27a670",
   "metadata": {
    "ExecuteTime": {
     "end_time": "2025-02-24T00:46:47.747497Z",
     "start_time": "2025-02-24T00:46:47.733482Z"
    }
   },
   "source": [
    "df = pd.read_csv('data/data_3x.csv')\n",
    "df.info()"
   ],
   "outputs": [
    {
     "name": "stdout",
     "output_type": "stream",
     "text": [
      "<class 'pandas.core.frame.DataFrame'>\n",
      "RangeIndex: 40 entries, 0 to 39\n",
      "Data columns (total 5 columns):\n",
      " #   Column   Non-Null Count  Dtype\n",
      "---  ------   --------------  -----\n",
      " 0   dataset  40 non-null     int64\n",
      " 1   x0       40 non-null     int64\n",
      " 2   x1       40 non-null     int64\n",
      " 3   x2       40 non-null     int64\n",
      " 4   y        40 non-null     int64\n",
      "dtypes: int64(5)\n",
      "memory usage: 1.7 KB\n"
     ]
    }
   ],
   "execution_count": 30
  },
  {
   "cell_type": "code",
   "id": "260d58b6081d062e",
   "metadata": {
    "ExecuteTime": {
     "end_time": "2025-02-24T00:46:47.890442Z",
     "start_time": "2025-02-24T00:46:47.763436Z"
    }
   },
   "source": [
    "res_df = pd.DataFrame()\n",
    "X_pred = pd.DataFrame({'x0': [1], 'x1': [1], 'x2': [1]})\n",
    "for clf in classifiers:\n",
    "    for df_i, df_v in df.groupby('dataset'):\n",
    "        df_v = df_v.drop(columns=['dataset'])\n",
    "        X, y = df_v.drop(columns='y'), df_v['y']\n",
    "        clf.fit(X, y)\n",
    "        y_pred = clf.predict(X_pred)[0]\n",
    "        res_df.loc[str(clf), df_i] = y_pred\n",
    "\n",
    "res_df.astype(int)"
   ],
   "outputs": [
    {
     "data": {
      "text/plain": [
       "                                                  1  2  3  4\n",
       "OneRClassifier()                                  1  1  1  1\n",
       "NaiveBayesClassifier()                            0  1  0  1\n",
       "DecisionTreeClassifier()                          0  1  0  1\n",
       "KNeighborsClassifier()                            1  1  0  1\n",
       "KNeighborsClassifier(weights='distance')          1  1  0  1\n",
       "KNeighborsClassifier(weights='distance_squared')  1  1  0  1"
      ],
      "text/html": [
       "<div>\n",
       "<style scoped>\n",
       "    .dataframe tbody tr th:only-of-type {\n",
       "        vertical-align: middle;\n",
       "    }\n",
       "\n",
       "    .dataframe tbody tr th {\n",
       "        vertical-align: top;\n",
       "    }\n",
       "\n",
       "    .dataframe thead th {\n",
       "        text-align: right;\n",
       "    }\n",
       "</style>\n",
       "<table border=\"1\" class=\"dataframe\">\n",
       "  <thead>\n",
       "    <tr style=\"text-align: right;\">\n",
       "      <th></th>\n",
       "      <th>1</th>\n",
       "      <th>2</th>\n",
       "      <th>3</th>\n",
       "      <th>4</th>\n",
       "    </tr>\n",
       "  </thead>\n",
       "  <tbody>\n",
       "    <tr>\n",
       "      <th>OneRClassifier()</th>\n",
       "      <td>1</td>\n",
       "      <td>1</td>\n",
       "      <td>1</td>\n",
       "      <td>1</td>\n",
       "    </tr>\n",
       "    <tr>\n",
       "      <th>NaiveBayesClassifier()</th>\n",
       "      <td>0</td>\n",
       "      <td>1</td>\n",
       "      <td>0</td>\n",
       "      <td>1</td>\n",
       "    </tr>\n",
       "    <tr>\n",
       "      <th>DecisionTreeClassifier()</th>\n",
       "      <td>0</td>\n",
       "      <td>1</td>\n",
       "      <td>0</td>\n",
       "      <td>1</td>\n",
       "    </tr>\n",
       "    <tr>\n",
       "      <th>KNeighborsClassifier()</th>\n",
       "      <td>1</td>\n",
       "      <td>1</td>\n",
       "      <td>0</td>\n",
       "      <td>1</td>\n",
       "    </tr>\n",
       "    <tr>\n",
       "      <th>KNeighborsClassifier(weights='distance')</th>\n",
       "      <td>1</td>\n",
       "      <td>1</td>\n",
       "      <td>0</td>\n",
       "      <td>1</td>\n",
       "    </tr>\n",
       "    <tr>\n",
       "      <th>KNeighborsClassifier(weights='distance_squared')</th>\n",
       "      <td>1</td>\n",
       "      <td>1</td>\n",
       "      <td>0</td>\n",
       "      <td>1</td>\n",
       "    </tr>\n",
       "  </tbody>\n",
       "</table>\n",
       "</div>"
      ]
     },
     "execution_count": 31,
     "metadata": {},
     "output_type": "execute_result"
    }
   ],
   "execution_count": 31
  },
  {
   "cell_type": "markdown",
   "id": "ad8855b271e1541e",
   "metadata": {},
   "source": [
    "### Student performance"
   ]
  },
  {
   "cell_type": "code",
   "id": "a3352e7919618284",
   "metadata": {
    "ExecuteTime": {
     "end_time": "2025-02-24T00:46:47.953578Z",
     "start_time": "2025-02-24T00:46:47.938522Z"
    }
   },
   "source": [
    "df = pd.read_csv('data/student_performance.csv')\n",
    "df.info()"
   ],
   "outputs": [
    {
     "name": "stdout",
     "output_type": "stream",
     "text": [
      "<class 'pandas.core.frame.DataFrame'>\n",
      "RangeIndex: 2392 entries, 0 to 2391\n",
      "Data columns (total 15 columns):\n",
      " #   Column             Non-Null Count  Dtype  \n",
      "---  ------             --------------  -----  \n",
      " 0   StudentID          2392 non-null   int64  \n",
      " 1   Age                2392 non-null   int64  \n",
      " 2   Gender             2392 non-null   int64  \n",
      " 3   Ethnicity          2392 non-null   int64  \n",
      " 4   ParentalEducation  2392 non-null   int64  \n",
      " 5   StudyTimeWeekly    2392 non-null   float64\n",
      " 6   Absences           2392 non-null   int64  \n",
      " 7   Tutoring           2392 non-null   int64  \n",
      " 8   ParentalSupport    2392 non-null   int64  \n",
      " 9   Extracurricular    2392 non-null   int64  \n",
      " 10  Sports             2392 non-null   int64  \n",
      " 11  Music              2392 non-null   int64  \n",
      " 12  Volunteering       2392 non-null   int64  \n",
      " 13  GPA                2392 non-null   float64\n",
      " 14  GradeClass         2392 non-null   float64\n",
      "dtypes: float64(3), int64(12)\n",
      "memory usage: 280.4 KB\n"
     ]
    }
   ],
   "execution_count": 32
  },
  {
   "cell_type": "code",
   "id": "db26912ddbbc5fdf",
   "metadata": {
    "ExecuteTime": {
     "end_time": "2025-02-24T00:46:48.014357Z",
     "start_time": "2025-02-24T00:46:47.998246Z"
    }
   },
   "source": [
    "X = df[[\n",
    "    'Age', 'Gender', 'Ethnicity', 'ParentalEducation', 'Absences', 'Tutoring',\n",
    "    'ParentalSupport', 'Extracurricular', 'Sports', 'Music', 'Volunteering'\n",
    "]]\n",
    "y = df['GradeClass']\n",
    "X.shape, y.shape"
   ],
   "outputs": [
    {
     "data": {
      "text/plain": [
       "((2392, 11), (2392,))"
      ]
     },
     "execution_count": 33,
     "metadata": {},
     "output_type": "execute_result"
    }
   ],
   "execution_count": 33
  },
  {
   "cell_type": "code",
   "id": "d5455ff90ebe33ce",
   "metadata": {
    "ExecuteTime": {
     "end_time": "2025-02-24T00:46:48.045010Z",
     "start_time": "2025-02-24T00:46:48.030695Z"
    }
   },
   "source": [
    "from sklearn.model_selection import train_test_split\n",
    "\n",
    "test_size_ratio = 0.2\n",
    "X_train, X_test, y_train, y_test = train_test_split(\n",
    "    X, y,\n",
    "    test_size=test_size_ratio,\n",
    "    stratify=y,\n",
    "    random_state=42\n",
    ")\n",
    "\n",
    "print(f\"Train: X={X_train.shape} y={y_train.shape}\")\n",
    "print(f\"Test: X={X_test.shape} y={y_test.shape}\")"
   ],
   "outputs": [
    {
     "name": "stdout",
     "output_type": "stream",
     "text": [
      "Train: X=(1913, 11) y=(1913,)\n",
      "Test: X=(479, 11) y=(479,)\n"
     ]
    }
   ],
   "execution_count": 34
  },
  {
   "cell_type": "code",
   "id": "74b8cd03d3cb2379",
   "metadata": {
    "ExecuteTime": {
     "end_time": "2025-02-24T00:46:48.091606Z",
     "start_time": "2025-02-24T00:46:48.072571Z"
    }
   },
   "source": [
    "from sklearn.preprocessing import OrdinalEncoder\n",
    "\n",
    "encoder = OrdinalEncoder()\n",
    "X_train = encoder.fit_transform(X_train)\n",
    "X_test = encoder.transform(X_test)"
   ],
   "outputs": [],
   "execution_count": 35
  },
  {
   "cell_type": "code",
   "id": "dfd23a91bedd6107",
   "metadata": {
    "ExecuteTime": {
     "end_time": "2025-02-24T00:46:55.601552Z",
     "start_time": "2025-02-24T00:46:48.108250Z"
    }
   },
   "source": [
    "from sklearn.metrics import accuracy_score\n",
    "\n",
    "res_df = pd.DataFrame()\n",
    "for i, clf in enumerate(classifiers + sk_classifiers):\n",
    "    res_df.loc[i, 'clf'] = str(clf)\n",
    "    res_df.loc[i, 'impl'] = 'custom' if i < len(classifiers) else 'sklearn'\n",
    "    clf.fit(X_train, y_train)\n",
    "    y_pred = clf.predict(X_test)\n",
    "    accuracy = accuracy_score(y_test, y_pred)\n",
    "    res_df.loc[i, 'accuracy'] = accuracy\n",
    "res_df.sort_values(by=['accuracy'], ascending=False, inplace=True)\n",
    "\n",
    "res_df"
   ],
   "outputs": [
    {
     "data": {
      "text/plain": [
       "                                                  clf     impl  accuracy\n",
       "1                              NaiveBayesClassifier()   custom  0.680585\n",
       "6                                     CategoricalNB()  sklearn  0.680585\n",
       "3                              KNeighborsClassifier()   custom  0.665971\n",
       "4            KNeighborsClassifier(weights='distance')   custom  0.661795\n",
       "8                              KNeighborsClassifier()  sklearn  0.661795\n",
       "5    KNeighborsClassifier(weights='distance_squared')   custom  0.659708\n",
       "9            KNeighborsClassifier(weights='distance')  sklearn  0.659708\n",
       "0                                    OneRClassifier()   custom  0.640919\n",
       "7   DecisionTreeClassifier(criterion='entropy', ra...  sklearn  0.582463\n",
       "2                            DecisionTreeClassifier()   custom  0.576200\n",
       "10                                  DummyClassifier()  sklearn  0.507307"
      ],
      "text/html": [
       "<div>\n",
       "<style scoped>\n",
       "    .dataframe tbody tr th:only-of-type {\n",
       "        vertical-align: middle;\n",
       "    }\n",
       "\n",
       "    .dataframe tbody tr th {\n",
       "        vertical-align: top;\n",
       "    }\n",
       "\n",
       "    .dataframe thead th {\n",
       "        text-align: right;\n",
       "    }\n",
       "</style>\n",
       "<table border=\"1\" class=\"dataframe\">\n",
       "  <thead>\n",
       "    <tr style=\"text-align: right;\">\n",
       "      <th></th>\n",
       "      <th>clf</th>\n",
       "      <th>impl</th>\n",
       "      <th>accuracy</th>\n",
       "    </tr>\n",
       "  </thead>\n",
       "  <tbody>\n",
       "    <tr>\n",
       "      <th>1</th>\n",
       "      <td>NaiveBayesClassifier()</td>\n",
       "      <td>custom</td>\n",
       "      <td>0.680585</td>\n",
       "    </tr>\n",
       "    <tr>\n",
       "      <th>6</th>\n",
       "      <td>CategoricalNB()</td>\n",
       "      <td>sklearn</td>\n",
       "      <td>0.680585</td>\n",
       "    </tr>\n",
       "    <tr>\n",
       "      <th>3</th>\n",
       "      <td>KNeighborsClassifier()</td>\n",
       "      <td>custom</td>\n",
       "      <td>0.665971</td>\n",
       "    </tr>\n",
       "    <tr>\n",
       "      <th>4</th>\n",
       "      <td>KNeighborsClassifier(weights='distance')</td>\n",
       "      <td>custom</td>\n",
       "      <td>0.661795</td>\n",
       "    </tr>\n",
       "    <tr>\n",
       "      <th>8</th>\n",
       "      <td>KNeighborsClassifier()</td>\n",
       "      <td>sklearn</td>\n",
       "      <td>0.661795</td>\n",
       "    </tr>\n",
       "    <tr>\n",
       "      <th>5</th>\n",
       "      <td>KNeighborsClassifier(weights='distance_squared')</td>\n",
       "      <td>custom</td>\n",
       "      <td>0.659708</td>\n",
       "    </tr>\n",
       "    <tr>\n",
       "      <th>9</th>\n",
       "      <td>KNeighborsClassifier(weights='distance')</td>\n",
       "      <td>sklearn</td>\n",
       "      <td>0.659708</td>\n",
       "    </tr>\n",
       "    <tr>\n",
       "      <th>0</th>\n",
       "      <td>OneRClassifier()</td>\n",
       "      <td>custom</td>\n",
       "      <td>0.640919</td>\n",
       "    </tr>\n",
       "    <tr>\n",
       "      <th>7</th>\n",
       "      <td>DecisionTreeClassifier(criterion='entropy', ra...</td>\n",
       "      <td>sklearn</td>\n",
       "      <td>0.582463</td>\n",
       "    </tr>\n",
       "    <tr>\n",
       "      <th>2</th>\n",
       "      <td>DecisionTreeClassifier()</td>\n",
       "      <td>custom</td>\n",
       "      <td>0.576200</td>\n",
       "    </tr>\n",
       "    <tr>\n",
       "      <th>10</th>\n",
       "      <td>DummyClassifier()</td>\n",
       "      <td>sklearn</td>\n",
       "      <td>0.507307</td>\n",
       "    </tr>\n",
       "  </tbody>\n",
       "</table>\n",
       "</div>"
      ]
     },
     "execution_count": 36,
     "metadata": {},
     "output_type": "execute_result"
    }
   ],
   "execution_count": 36
  },
  {
   "cell_type": "markdown",
   "id": "ce5a4a6d11ea0d32",
   "metadata": {},
   "source": [
    "### Check classifiers (scikit-learn)"
   ]
  },
  {
   "cell_type": "code",
   "id": "32306e3be426182",
   "metadata": {
    "ExecuteTime": {
     "end_time": "2025-02-24T00:46:55.663350Z",
     "start_time": "2025-02-24T00:46:55.649187Z"
    }
   },
   "source": [
    "classifiers = [\n",
    "    OneRClassifier(),\n",
    "    NaiveBayesClassifier(),\n",
    "    DecisionTreeClassifier(),\n",
    "    KNeighborsClassifier(),\n",
    "]"
   ],
   "outputs": [],
   "execution_count": 37
  },
  {
   "cell_type": "code",
   "id": "33f10e80ae459b89",
   "metadata": {
    "ExecuteTime": {
     "end_time": "2025-02-24T00:47:03.662624Z",
     "start_time": "2025-02-24T00:46:55.696041Z"
    }
   },
   "source": [
    "from sklearn.utils.estimator_checks import estimator_checks_generator\n",
    "\n",
    "for clf in classifiers:\n",
    "    total_checks = 0\n",
    "    skipped_checks = 0\n",
    "    for (estimator, check) in estimator_checks_generator(clf):\n",
    "        total_checks += 1\n",
    "        try:\n",
    "            check(estimator)\n",
    "        except KeyError as e:\n",
    "            if \"Ensure that all input values were seen during training.\" in str(e):\n",
    "                skipped_checks += 1\n",
    "                continue\n",
    "            raise\n",
    "    skipped_percentage = skipped_checks / total_checks * 100\n",
    "    print(f\"{clf}: {skipped_checks} out of {total_checks} checks skipped ({skipped_percentage:.2f}%).\")"
   ],
   "outputs": [
    {
     "name": "stdout",
     "output_type": "stream",
     "text": [
      "OneRClassifier(): 2 out of 55 checks skipped (3.64%).\n",
      "NaiveBayesClassifier(): 2 out of 55 checks skipped (3.64%).\n",
      "DecisionTreeClassifier(): 1 out of 55 checks skipped (1.82%).\n",
      "KNeighborsClassifier(): 0 out of 55 checks skipped (0.00%).\n"
     ]
    }
   ],
   "execution_count": 38
  }
 ],
 "metadata": {
  "kernelspec": {
   "display_name": "Python 3 (ipykernel)",
   "language": "python",
   "name": "python3"
  },
  "language_info": {
   "codemirror_mode": {
    "name": "ipython",
    "version": 3
   },
   "file_extension": ".py",
   "mimetype": "text/x-python",
   "name": "python",
   "nbconvert_exporter": "python",
   "pygments_lexer": "ipython3",
   "version": "3.9.13"
  }
 },
 "nbformat": 4,
 "nbformat_minor": 5
}
