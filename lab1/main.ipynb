{
 "cells": [
  {
   "cell_type": "code",
   "id": "443b056ecc3e19fe",
   "metadata": {
    "ExecuteTime": {
     "end_time": "2025-02-18T22:34:40.200253Z",
     "start_time": "2025-02-18T22:34:39.563378Z"
    }
   },
   "source": [
    "import pandas as pd\n",
    "import sklearn\n",
    "\n",
    "import service\n",
    "from classification.OneRClassifier import OneRClassifier\n",
    "from classification.NaiveBayesClassifier import NaiveBayesClassifier\n",
    "from classification.KNeighborsClassifier import KNeighborsClassifier"
   ],
   "outputs": [],
   "execution_count": 1
  },
  {
   "cell_type": "markdown",
   "id": "5adade351cdd3c30",
   "metadata": {},
   "source": "### data_4x"
  },
  {
   "cell_type": "code",
   "id": "f1d2c882e1e6f0f8",
   "metadata": {
    "ExecuteTime": {
     "end_time": "2025-02-18T22:34:40.215780Z",
     "start_time": "2025-02-18T22:34:40.202258Z"
    }
   },
   "source": [
    "df = pd.read_csv('data/data_4x.csv')\n",
    "df.info()"
   ],
   "outputs": [
    {
     "name": "stdout",
     "output_type": "stream",
     "text": [
      "<class 'pandas.core.frame.DataFrame'>\n",
      "RangeIndex: 10 entries, 0 to 9\n",
      "Data columns (total 5 columns):\n",
      " #   Column  Non-Null Count  Dtype\n",
      "---  ------  --------------  -----\n",
      " 0   x0      10 non-null     int64\n",
      " 1   x1      10 non-null     int64\n",
      " 2   x2      10 non-null     int64\n",
      " 3   x3      10 non-null     int64\n",
      " 4   y       10 non-null     int64\n",
      "dtypes: int64(5)\n",
      "memory usage: 528.0 bytes\n"
     ]
    }
   ],
   "execution_count": 2
  },
  {
   "cell_type": "code",
   "id": "db81a109b0573614",
   "metadata": {
    "ExecuteTime": {
     "end_time": "2025-02-18T22:34:40.324733Z",
     "start_time": "2025-02-18T22:34:40.310253Z"
    }
   },
   "source": [
    "X, y = df.drop(columns='y'), df['y']\n",
    "X.shape, y.shape"
   ],
   "outputs": [
    {
     "data": {
      "text/plain": [
       "((10, 4), (10,))"
      ]
     },
     "execution_count": 3,
     "metadata": {},
     "output_type": "execute_result"
    }
   ],
   "execution_count": 3
  },
  {
   "cell_type": "code",
   "id": "383832b7ce424205",
   "metadata": {
    "ExecuteTime": {
     "end_time": "2025-02-18T22:34:40.356257Z",
     "start_time": "2025-02-18T22:34:40.341238Z"
    }
   },
   "source": [
    "y.replace(0, 'y0', inplace=True)\n",
    "y.replace(1, 'y1', inplace=True)\n",
    "y = list(y)"
   ],
   "outputs": [],
   "execution_count": 4
  },
  {
   "cell_type": "code",
   "id": "ccaeb1b950f68667",
   "metadata": {
    "ExecuteTime": {
     "end_time": "2025-02-18T22:34:40.387405Z",
     "start_time": "2025-02-18T22:34:40.373380Z"
    }
   },
   "source": "X_pred = pd.DataFrame({'x0': [2], 'x1': [1], 'x2': [1], 'x3': [1]})",
   "outputs": [],
   "execution_count": 5
  },
  {
   "cell_type": "markdown",
   "id": "771fb7d05d925e51",
   "metadata": {},
   "source": "#### OneRClassifier"
  },
  {
   "cell_type": "code",
   "id": "b24d64a57bb6053a",
   "metadata": {
    "ExecuteTime": {
     "end_time": "2025-02-18T22:34:40.418852Z",
     "start_time": "2025-02-18T22:34:40.404261Z"
    }
   },
   "source": [
    "clf = OneRClassifier()\n",
    "clf.fit(X, y);"
   ],
   "outputs": [],
   "execution_count": 6
  },
  {
   "cell_type": "code",
   "id": "3f6eef5fd803398f",
   "metadata": {
    "ExecuteTime": {
     "end_time": "2025-02-18T22:34:40.449678Z",
     "start_time": "2025-02-18T22:34:40.435369Z"
    }
   },
   "source": [
    "service.OneRClassifier_info(clf)"
   ],
   "outputs": [
    {
     "name": "stdout",
     "output_type": "stream",
     "text": [
      "x[3] == 0: y = y1\n",
      "x[3] == 1: y = y0\n"
     ]
    }
   ],
   "execution_count": 7
  },
  {
   "cell_type": "code",
   "id": "3eb2789f7796d84f",
   "metadata": {
    "ExecuteTime": {
     "end_time": "2025-02-18T22:34:40.480666Z",
     "start_time": "2025-02-18T22:34:40.466146Z"
    }
   },
   "source": [
    "clf.predict(X_pred)"
   ],
   "outputs": [
    {
     "data": {
      "text/plain": [
       "array(['y0'], dtype='<U2')"
      ]
     },
     "execution_count": 8,
     "metadata": {},
     "output_type": "execute_result"
    }
   ],
   "execution_count": 8
  },
  {
   "cell_type": "markdown",
   "id": "512d0ee0fb0fb702",
   "metadata": {},
   "source": "#### NaiveBayesClassifier"
  },
  {
   "cell_type": "code",
   "id": "df48f442ed1f4111",
   "metadata": {
    "ExecuteTime": {
     "end_time": "2025-02-18T22:34:40.512330Z",
     "start_time": "2025-02-18T22:34:40.497195Z"
    }
   },
   "source": [
    "clf = NaiveBayesClassifier()\n",
    "clf.fit(X, y);"
   ],
   "outputs": [],
   "execution_count": 9
  },
  {
   "cell_type": "code",
   "id": "19c3bc2bb46912cd",
   "metadata": {
    "ExecuteTime": {
     "end_time": "2025-02-18T22:34:40.543494Z",
     "start_time": "2025-02-18T22:34:40.529415Z"
    }
   },
   "source": [
    "service.NaiveBayesClassifier_info(clf)"
   ],
   "outputs": [
    {
     "name": "stdout",
     "output_type": "stream",
     "text": [
      "class_log_probs_:\n",
      "-0.916290731874155 -0.5108256237659907 \n",
      "\n",
      "feature_log_probs_:\n",
      "y  feat_v\n",
      "0  0        -0.559616\n",
      "   1        -1.252763\n",
      "1  2        -0.810930\n",
      "   0        -1.098612\n",
      "   1        -1.504077\n",
      "Name: count, dtype: float64 y  feat_v\n",
      "0  0        -0.693147\n",
      "   1        -0.693147\n",
      "1  0        -0.693147\n",
      "   1        -0.693147\n",
      "Name: count, dtype: float64 y  feat_v\n",
      "0  1        -0.405465\n",
      "   0        -1.098612\n",
      "1  0        -0.693147\n",
      "   1        -0.693147\n",
      "Name: count, dtype: float64 y  feat_v\n",
      "0  1        -0.405465\n",
      "   0        -1.098612\n",
      "1  0        -0.287682\n",
      "   1        -1.386294\n",
      "Name: count, dtype: float64 \n",
      "\n",
      "feature_missing_log_probs_:\n",
      "y\n",
      "0   -1.945910\n",
      "1   -2.197225\n",
      "Name: feat_v, dtype: float64 y\n",
      "0   -1.791759\n",
      "1   -2.079442\n",
      "Name: feat_v, dtype: float64 y\n",
      "0   -1.791759\n",
      "1   -2.079442\n",
      "Name: feat_v, dtype: float64 y\n",
      "0   -1.791759\n",
      "1   -2.079442\n",
      "Name: feat_v, dtype: float64 \n",
      "\n"
     ]
    }
   ],
   "execution_count": 10
  },
  {
   "cell_type": "code",
   "id": "e15feb35d520309c",
   "metadata": {
    "ExecuteTime": {
     "end_time": "2025-02-18T22:34:40.574293Z",
     "start_time": "2025-02-18T22:34:40.560260Z"
    }
   },
   "source": [
    "clf.predict(X_pred)"
   ],
   "outputs": [
    {
     "data": {
      "text/plain": [
       "array(['y1'], dtype='<U2')"
      ]
     },
     "execution_count": 11,
     "metadata": {},
     "output_type": "execute_result"
    }
   ],
   "execution_count": 11
  },
  {
   "cell_type": "markdown",
   "id": "b0e9cd8c255712dd",
   "metadata": {},
   "source": "Compare with similar scikit-learn model"
  },
  {
   "cell_type": "code",
   "id": "70b833e24743fae6",
   "metadata": {
    "ExecuteTime": {
     "end_time": "2025-02-18T22:34:40.604998Z",
     "start_time": "2025-02-18T22:34:40.590314Z"
    }
   },
   "source": [
    "sk_clf = sklearn.naive_bayes.CategoricalNB()\n",
    "sk_clf.fit(X, y);"
   ],
   "outputs": [],
   "execution_count": 12
  },
  {
   "cell_type": "code",
   "id": "755ed1927bb0ca71",
   "metadata": {
    "ExecuteTime": {
     "end_time": "2025-02-18T22:34:40.636362Z",
     "start_time": "2025-02-18T22:34:40.621353Z"
    }
   },
   "source": [
    "service.sklearn_CategoricalNB_info(sk_clf)"
   ],
   "outputs": [
    {
     "name": "stdout",
     "output_type": "stream",
     "text": [
      "class_log_prior_:\n",
      "-0.9162907318741553 -0.5108256237659909 \n",
      "\n",
      "feature_log_prob_:\n",
      "[[-0.55961579 -1.25276297 -1.94591015]\n",
      " [-1.09861229 -1.5040774  -0.81093022]] [[-0.69314718 -0.69314718]\n",
      " [-0.69314718 -0.69314718]] [[-1.09861229 -0.40546511]\n",
      " [-0.69314718 -0.69314718]] [[-1.09861229 -0.40546511]\n",
      " [-0.28768207 -1.38629436]] \n",
      "\n"
     ]
    }
   ],
   "execution_count": 13
  },
  {
   "cell_type": "code",
   "id": "6f4d5f5342731ec0",
   "metadata": {
    "ExecuteTime": {
     "end_time": "2025-02-18T22:34:40.668461Z",
     "start_time": "2025-02-18T22:34:40.653644Z"
    }
   },
   "source": [
    "sk_clf.predict(X_pred)"
   ],
   "outputs": [
    {
     "data": {
      "text/plain": [
       "array(['y1'], dtype='<U2')"
      ]
     },
     "execution_count": 14,
     "metadata": {},
     "output_type": "execute_result"
    }
   ],
   "execution_count": 14
  },
  {
   "cell_type": "markdown",
   "id": "392225109893aacf",
   "metadata": {},
   "source": "#### DecisionTreeClassifier"
  },
  {
   "cell_type": "code",
   "id": "121902b0a763da40",
   "metadata": {
    "ExecuteTime": {
     "end_time": "2025-02-18T22:34:40.699305Z",
     "start_time": "2025-02-18T22:34:40.684510Z"
    }
   },
   "source": [
    "# TODO"
   ],
   "outputs": [],
   "execution_count": 15
  },
  {
   "cell_type": "markdown",
   "id": "b4e2317535c53e6f",
   "metadata": {},
   "source": "#### KNeighborsClassifier"
  },
  {
   "metadata": {
    "ExecuteTime": {
     "end_time": "2025-02-18T22:34:40.730107Z",
     "start_time": "2025-02-18T22:34:40.715717Z"
    }
   },
   "cell_type": "code",
   "source": "n_neighbors = 3",
   "id": "cacac7601c3e52f3",
   "outputs": [],
   "execution_count": 16
  },
  {
   "metadata": {},
   "cell_type": "markdown",
   "source": "##### weights='uniform'",
   "id": "6e167644fc89a42c"
  },
  {
   "cell_type": "code",
   "id": "52c90241a1a7077a",
   "metadata": {
    "ExecuteTime": {
     "end_time": "2025-02-18T22:34:40.761065Z",
     "start_time": "2025-02-18T22:34:40.746071Z"
    }
   },
   "source": [
    "clf = KNeighborsClassifier(n_neighbors=n_neighbors, weights='uniform')\n",
    "clf.fit(X, y);"
   ],
   "outputs": [],
   "execution_count": 17
  },
  {
   "cell_type": "code",
   "id": "1f936563b35c4f3b",
   "metadata": {
    "ExecuteTime": {
     "end_time": "2025-02-18T22:34:40.792392Z",
     "start_time": "2025-02-18T22:34:40.778361Z"
    }
   },
   "source": "service.KNeighborsClassifier_info(clf, X_pred)",
   "outputs": [
    {
     "name": "stdout",
     "output_type": "stream",
     "text": [
      "neighbors_dist:\n",
      "[1.         1.41421356 1.73205081] \n",
      "\n",
      "neighbors_indices:\n",
      "[8 2 1] \n",
      "\n"
     ]
    }
   ],
   "execution_count": 18
  },
  {
   "cell_type": "code",
   "id": "2dc08d385348f7b8",
   "metadata": {
    "ExecuteTime": {
     "end_time": "2025-02-18T22:34:40.823492Z",
     "start_time": "2025-02-18T22:34:40.808213Z"
    }
   },
   "source": [
    "clf.predict(X_pred)"
   ],
   "outputs": [
    {
     "data": {
      "text/plain": [
       "array(['y1'], dtype='<U2')"
      ]
     },
     "execution_count": 19,
     "metadata": {},
     "output_type": "execute_result"
    }
   ],
   "execution_count": 19
  },
  {
   "metadata": {},
   "cell_type": "markdown",
   "source": "##### weights='distance'",
   "id": "dc155a98d587af67"
  },
  {
   "metadata": {
    "ExecuteTime": {
     "end_time": "2025-02-18T22:34:40.854247Z",
     "start_time": "2025-02-18T22:34:40.840231Z"
    }
   },
   "cell_type": "code",
   "source": [
    "clf = KNeighborsClassifier(n_neighbors=n_neighbors, weights='distance')\n",
    "clf.fit(X, y);"
   ],
   "id": "2d2bdcef3d958db6",
   "outputs": [],
   "execution_count": 20
  },
  {
   "metadata": {
    "ExecuteTime": {
     "end_time": "2025-02-18T22:34:40.885434Z",
     "start_time": "2025-02-18T22:34:40.870422Z"
    }
   },
   "cell_type": "code",
   "source": "clf.predict(X_pred)",
   "id": "532c69e3dd3c800",
   "outputs": [
    {
     "data": {
      "text/plain": [
       "array(['y1'], dtype='<U2')"
      ]
     },
     "execution_count": 21,
     "metadata": {},
     "output_type": "execute_result"
    }
   ],
   "execution_count": 21
  },
  {
   "cell_type": "markdown",
   "id": "68214bb5feb6ac65",
   "metadata": {},
   "source": "Compare with similar scikit-learn model"
  },
  {
   "cell_type": "code",
   "id": "62a4c52cbd3a4170",
   "metadata": {
    "ExecuteTime": {
     "end_time": "2025-02-18T22:34:40.916215Z",
     "start_time": "2025-02-18T22:34:40.902446Z"
    }
   },
   "source": [
    "sk_clf = sklearn.neighbors.KNeighborsClassifier(n_neighbors=n_neighbors)\n",
    "sk_clf.fit(X, y);"
   ],
   "outputs": [],
   "execution_count": 22
  },
  {
   "cell_type": "code",
   "id": "f14d821e167bdcb2",
   "metadata": {
    "ExecuteTime": {
     "end_time": "2025-02-18T22:34:40.946289Z",
     "start_time": "2025-02-18T22:34:40.932261Z"
    }
   },
   "source": "service.sklearn_KNeighborsClassifier_info(sk_clf, X_pred)",
   "outputs": [
    {
     "name": "stdout",
     "output_type": "stream",
     "text": [
      "neighbors_dist:\n",
      "[1.         1.41421356 1.73205081] \n",
      "\n",
      "neighbors_indices:\n",
      "[8 2 1] \n",
      "\n"
     ]
    }
   ],
   "execution_count": 23
  },
  {
   "cell_type": "code",
   "id": "9fb3de8d77fbd4fd",
   "metadata": {
    "ExecuteTime": {
     "end_time": "2025-02-18T22:34:40.977642Z",
     "start_time": "2025-02-18T22:34:40.963133Z"
    }
   },
   "source": [
    "sk_clf.predict(X_pred)"
   ],
   "outputs": [
    {
     "data": {
      "text/plain": [
       "array(['y1'], dtype='<U2')"
      ]
     },
     "execution_count": 24,
     "metadata": {},
     "output_type": "execute_result"
    }
   ],
   "execution_count": 24
  },
  {
   "metadata": {},
   "cell_type": "markdown",
   "source": "##### weights='distance_squared'",
   "id": "543310b87e89067"
  },
  {
   "metadata": {
    "ExecuteTime": {
     "end_time": "2025-02-18T22:34:41.008937Z",
     "start_time": "2025-02-18T22:34:40.994540Z"
    }
   },
   "cell_type": "code",
   "source": [
    "clf = KNeighborsClassifier(n_neighbors=n_neighbors, weights='distance_squared')\n",
    "clf.fit(X, y);"
   ],
   "id": "8ee0e547c741fc80",
   "outputs": [],
   "execution_count": 25
  },
  {
   "metadata": {
    "ExecuteTime": {
     "end_time": "2025-02-18T22:34:41.039307Z",
     "start_time": "2025-02-18T22:34:41.025485Z"
    }
   },
   "cell_type": "code",
   "source": "clf.predict(X_pred)",
   "id": "aa67586dc88e5500",
   "outputs": [
    {
     "data": {
      "text/plain": [
       "array(['y1'], dtype='<U2')"
      ]
     },
     "execution_count": 26,
     "metadata": {},
     "output_type": "execute_result"
    }
   ],
   "execution_count": 26
  },
  {
   "cell_type": "markdown",
   "id": "7f0b9183e2a5f6fb",
   "metadata": {},
   "source": "### More datasets (data_3x)"
  },
  {
   "metadata": {
    "ExecuteTime": {
     "end_time": "2025-02-18T22:34:41.070041Z",
     "start_time": "2025-02-18T22:34:41.056427Z"
    }
   },
   "cell_type": "code",
   "source": [
    "classifiers = [\n",
    "    OneRClassifier(),\n",
    "    NaiveBayesClassifier(),\n",
    "    KNeighborsClassifier(weights='uniform'),\n",
    "    KNeighborsClassifier(weights='distance'),\n",
    "    KNeighborsClassifier(weights='distance_squared'),\n",
    "]  # TODO\n",
    "sk_classifiers = [\n",
    "    sklearn.neighbors.KNeighborsClassifier(weights='uniform'),\n",
    "    sklearn.neighbors.KNeighborsClassifier(weights='distance'),\n",
    "]"
   ],
   "id": "59ae3bae6c6bb364",
   "outputs": [],
   "execution_count": 27
  },
  {
   "cell_type": "code",
   "id": "66c94c8c8a27a670",
   "metadata": {
    "ExecuteTime": {
     "end_time": "2025-02-18T22:34:41.100729Z",
     "start_time": "2025-02-18T22:34:41.086522Z"
    }
   },
   "source": [
    "df = pd.read_csv('data/data_3x.csv')\n",
    "df.info()"
   ],
   "outputs": [
    {
     "name": "stdout",
     "output_type": "stream",
     "text": [
      "<class 'pandas.core.frame.DataFrame'>\n",
      "RangeIndex: 40 entries, 0 to 39\n",
      "Data columns (total 5 columns):\n",
      " #   Column   Non-Null Count  Dtype\n",
      "---  ------   --------------  -----\n",
      " 0   dataset  40 non-null     int64\n",
      " 1   x0       40 non-null     int64\n",
      " 2   x1       40 non-null     int64\n",
      " 3   x2       40 non-null     int64\n",
      " 4   y        40 non-null     int64\n",
      "dtypes: int64(5)\n",
      "memory usage: 1.7 KB\n"
     ]
    }
   ],
   "execution_count": 28
  },
  {
   "cell_type": "code",
   "id": "260d58b6081d062e",
   "metadata": {
    "ExecuteTime": {
     "end_time": "2025-02-18T22:34:41.193390Z",
     "start_time": "2025-02-18T22:34:41.117142Z"
    }
   },
   "source": [
    "res_df = pd.DataFrame()\n",
    "X_pred = pd.DataFrame({'x0': [1], 'x1': [1], 'x2': [1]})\n",
    "for clf in classifiers:\n",
    "    for df_i, df_v in df.groupby('dataset'):\n",
    "        df_v = df_v.drop(columns=['dataset'])\n",
    "        X, y = df_v.drop(columns='y'), df_v['y']\n",
    "        clf.fit(X, y)\n",
    "        y_pred = clf.predict(X_pred)[0]\n",
    "        res_df.loc[str(clf), df_i] = y_pred\n",
    "\n",
    "res_df.astype(int)"
   ],
   "outputs": [
    {
     "data": {
      "text/plain": [
       "                                                  1  2  3  4\n",
       "OneRClassifier()                                  1  1  1  1\n",
       "NaiveBayesClassifier()                            0  1  0  1\n",
       "KNeighborsClassifier()                            1  1  0  1\n",
       "KNeighborsClassifier(weights='distance')          1  1  0  1\n",
       "KNeighborsClassifier(weights='distance_squared')  1  1  0  1"
      ],
      "text/html": [
       "<div>\n",
       "<style scoped>\n",
       "    .dataframe tbody tr th:only-of-type {\n",
       "        vertical-align: middle;\n",
       "    }\n",
       "\n",
       "    .dataframe tbody tr th {\n",
       "        vertical-align: top;\n",
       "    }\n",
       "\n",
       "    .dataframe thead th {\n",
       "        text-align: right;\n",
       "    }\n",
       "</style>\n",
       "<table border=\"1\" class=\"dataframe\">\n",
       "  <thead>\n",
       "    <tr style=\"text-align: right;\">\n",
       "      <th></th>\n",
       "      <th>1</th>\n",
       "      <th>2</th>\n",
       "      <th>3</th>\n",
       "      <th>4</th>\n",
       "    </tr>\n",
       "  </thead>\n",
       "  <tbody>\n",
       "    <tr>\n",
       "      <th>OneRClassifier()</th>\n",
       "      <td>1</td>\n",
       "      <td>1</td>\n",
       "      <td>1</td>\n",
       "      <td>1</td>\n",
       "    </tr>\n",
       "    <tr>\n",
       "      <th>NaiveBayesClassifier()</th>\n",
       "      <td>0</td>\n",
       "      <td>1</td>\n",
       "      <td>0</td>\n",
       "      <td>1</td>\n",
       "    </tr>\n",
       "    <tr>\n",
       "      <th>KNeighborsClassifier()</th>\n",
       "      <td>1</td>\n",
       "      <td>1</td>\n",
       "      <td>0</td>\n",
       "      <td>1</td>\n",
       "    </tr>\n",
       "    <tr>\n",
       "      <th>KNeighborsClassifier(weights='distance')</th>\n",
       "      <td>1</td>\n",
       "      <td>1</td>\n",
       "      <td>0</td>\n",
       "      <td>1</td>\n",
       "    </tr>\n",
       "    <tr>\n",
       "      <th>KNeighborsClassifier(weights='distance_squared')</th>\n",
       "      <td>1</td>\n",
       "      <td>1</td>\n",
       "      <td>0</td>\n",
       "      <td>1</td>\n",
       "    </tr>\n",
       "  </tbody>\n",
       "</table>\n",
       "</div>"
      ]
     },
     "execution_count": 29,
     "metadata": {},
     "output_type": "execute_result"
    }
   ],
   "execution_count": 29
  },
  {
   "metadata": {},
   "cell_type": "markdown",
   "source": "### Student performance",
   "id": "ad8855b271e1541e"
  },
  {
   "metadata": {
    "ExecuteTime": {
     "end_time": "2025-02-18T22:34:41.255080Z",
     "start_time": "2025-02-18T22:34:41.239970Z"
    }
   },
   "cell_type": "code",
   "source": [
    "df = pd.read_csv('data/student_performance.csv')\n",
    "df.info()"
   ],
   "id": "a3352e7919618284",
   "outputs": [
    {
     "name": "stdout",
     "output_type": "stream",
     "text": [
      "<class 'pandas.core.frame.DataFrame'>\n",
      "RangeIndex: 2392 entries, 0 to 2391\n",
      "Data columns (total 15 columns):\n",
      " #   Column             Non-Null Count  Dtype  \n",
      "---  ------             --------------  -----  \n",
      " 0   StudentID          2392 non-null   int64  \n",
      " 1   Age                2392 non-null   int64  \n",
      " 2   Gender             2392 non-null   int64  \n",
      " 3   Ethnicity          2392 non-null   int64  \n",
      " 4   ParentalEducation  2392 non-null   int64  \n",
      " 5   StudyTimeWeekly    2392 non-null   float64\n",
      " 6   Absences           2392 non-null   int64  \n",
      " 7   Tutoring           2392 non-null   int64  \n",
      " 8   ParentalSupport    2392 non-null   int64  \n",
      " 9   Extracurricular    2392 non-null   int64  \n",
      " 10  Sports             2392 non-null   int64  \n",
      " 11  Music              2392 non-null   int64  \n",
      " 12  Volunteering       2392 non-null   int64  \n",
      " 13  GPA                2392 non-null   float64\n",
      " 14  GradeClass         2392 non-null   float64\n",
      "dtypes: float64(3), int64(12)\n",
      "memory usage: 280.4 KB\n"
     ]
    }
   ],
   "execution_count": 30
  },
  {
   "metadata": {
    "ExecuteTime": {
     "end_time": "2025-02-18T22:34:41.317786Z",
     "start_time": "2025-02-18T22:34:41.299742Z"
    }
   },
   "cell_type": "code",
   "source": [
    "X = df[[\n",
    "    'Age', 'Gender', 'Ethnicity', 'ParentalEducation', 'Absences', 'Tutoring',\n",
    "    'ParentalSupport', 'Extracurricular', 'Sports', 'Music', 'Volunteering'\n",
    "]]\n",
    "y = df['GradeClass']\n",
    "X.shape, y.shape"
   ],
   "id": "db26912ddbbc5fdf",
   "outputs": [
    {
     "data": {
      "text/plain": [
       "((2392, 11), (2392,))"
      ]
     },
     "execution_count": 31,
     "metadata": {},
     "output_type": "execute_result"
    }
   ],
   "execution_count": 31
  },
  {
   "metadata": {
    "ExecuteTime": {
     "end_time": "2025-02-18T22:34:41.348673Z",
     "start_time": "2025-02-18T22:34:41.335353Z"
    }
   },
   "cell_type": "code",
   "source": [
    "from sklearn.model_selection import train_test_split\n",
    "\n",
    "test_size_ratio = 0.2\n",
    "X_train, X_test, y_train, y_test = train_test_split(\n",
    "    X, y,\n",
    "    test_size=test_size_ratio,\n",
    "    stratify=y,\n",
    "    random_state=42\n",
    ")\n",
    "\n",
    "print(f\"Train: X={X_train.shape} y={y_train.shape}\")\n",
    "print(f\"Test: X={X_test.shape} y={y_test.shape}\")"
   ],
   "id": "d5455ff90ebe33ce",
   "outputs": [
    {
     "name": "stdout",
     "output_type": "stream",
     "text": [
      "Train: X=(1913, 11) y=(1913,)\n",
      "Test: X=(479, 11) y=(479,)\n"
     ]
    }
   ],
   "execution_count": 32
  },
  {
   "metadata": {
    "ExecuteTime": {
     "end_time": "2025-02-18T22:34:45.445055Z",
     "start_time": "2025-02-18T22:34:41.365457Z"
    }
   },
   "cell_type": "code",
   "source": [
    "from sklearn.metrics import accuracy_score\n",
    "\n",
    "res_df = pd.DataFrame()\n",
    "for i, clf in enumerate(classifiers + sk_classifiers):\n",
    "    res_df.loc[i, 'clf'] = str(clf)\n",
    "    res_df.loc[i, 'impl'] = 'custom' if i < len(classifiers) else 'sklearn'\n",
    "    clf.fit(X, y)\n",
    "    y_pred = clf.predict(X_test)\n",
    "    accuracy = accuracy_score(y_test, y_pred)\n",
    "    res_df.loc[i, 'accuracy'] = accuracy\n",
    "res_df.sort_values(by=['accuracy'], ascending=False, inplace=True)\n",
    "\n",
    "res_df"
   ],
   "id": "dfd23a91bedd6107",
   "outputs": [
    {
     "data": {
      "text/plain": [
       "                                                clf     impl  accuracy\n",
       "6          KNeighborsClassifier(weights='distance')  sklearn  0.989562\n",
       "4  KNeighborsClassifier(weights='distance_squared')   custom  0.989562\n",
       "3          KNeighborsClassifier(weights='distance')   custom  0.989562\n",
       "5                            KNeighborsClassifier()  sklearn  0.772443\n",
       "2                            KNeighborsClassifier()   custom  0.768267\n",
       "1                            NaiveBayesClassifier()   custom  0.699374\n",
       "0                                  OneRClassifier()   custom  0.655532"
      ],
      "text/html": [
       "<div>\n",
       "<style scoped>\n",
       "    .dataframe tbody tr th:only-of-type {\n",
       "        vertical-align: middle;\n",
       "    }\n",
       "\n",
       "    .dataframe tbody tr th {\n",
       "        vertical-align: top;\n",
       "    }\n",
       "\n",
       "    .dataframe thead th {\n",
       "        text-align: right;\n",
       "    }\n",
       "</style>\n",
       "<table border=\"1\" class=\"dataframe\">\n",
       "  <thead>\n",
       "    <tr style=\"text-align: right;\">\n",
       "      <th></th>\n",
       "      <th>clf</th>\n",
       "      <th>impl</th>\n",
       "      <th>accuracy</th>\n",
       "    </tr>\n",
       "  </thead>\n",
       "  <tbody>\n",
       "    <tr>\n",
       "      <th>6</th>\n",
       "      <td>KNeighborsClassifier(weights='distance')</td>\n",
       "      <td>sklearn</td>\n",
       "      <td>0.989562</td>\n",
       "    </tr>\n",
       "    <tr>\n",
       "      <th>4</th>\n",
       "      <td>KNeighborsClassifier(weights='distance_squared')</td>\n",
       "      <td>custom</td>\n",
       "      <td>0.989562</td>\n",
       "    </tr>\n",
       "    <tr>\n",
       "      <th>3</th>\n",
       "      <td>KNeighborsClassifier(weights='distance')</td>\n",
       "      <td>custom</td>\n",
       "      <td>0.989562</td>\n",
       "    </tr>\n",
       "    <tr>\n",
       "      <th>5</th>\n",
       "      <td>KNeighborsClassifier()</td>\n",
       "      <td>sklearn</td>\n",
       "      <td>0.772443</td>\n",
       "    </tr>\n",
       "    <tr>\n",
       "      <th>2</th>\n",
       "      <td>KNeighborsClassifier()</td>\n",
       "      <td>custom</td>\n",
       "      <td>0.768267</td>\n",
       "    </tr>\n",
       "    <tr>\n",
       "      <th>1</th>\n",
       "      <td>NaiveBayesClassifier()</td>\n",
       "      <td>custom</td>\n",
       "      <td>0.699374</td>\n",
       "    </tr>\n",
       "    <tr>\n",
       "      <th>0</th>\n",
       "      <td>OneRClassifier()</td>\n",
       "      <td>custom</td>\n",
       "      <td>0.655532</td>\n",
       "    </tr>\n",
       "  </tbody>\n",
       "</table>\n",
       "</div>"
      ]
     },
     "execution_count": 33,
     "metadata": {},
     "output_type": "execute_result"
    }
   ],
   "execution_count": 33
  },
  {
   "cell_type": "markdown",
   "id": "ce5a4a6d11ea0d32",
   "metadata": {},
   "source": "### Check classifiers (scikit-learn)"
  },
  {
   "cell_type": "code",
   "id": "33f10e80ae459b89",
   "metadata": {
    "ExecuteTime": {
     "end_time": "2025-02-18T22:34:50.571247Z",
     "start_time": "2025-02-18T22:34:45.492349Z"
    }
   },
   "source": [
    "from sklearn.utils.estimator_checks import estimator_checks_generator\n",
    "\n",
    "for clf in classifiers:\n",
    "    for (estimator, check) in estimator_checks_generator(clf):\n",
    "        try:\n",
    "            check(estimator)\n",
    "        except KeyError as e:\n",
    "            if \"encountered an unknown value\" in str(e):\n",
    "                continue\n",
    "            raise"
   ],
   "outputs": [],
   "execution_count": 34
  }
 ],
 "metadata": {
  "kernelspec": {
   "display_name": "Python 3 (ipykernel)",
   "language": "python",
   "name": "python3"
  },
  "language_info": {
   "codemirror_mode": {
    "name": "ipython",
    "version": 3
   },
   "file_extension": ".py",
   "mimetype": "text/x-python",
   "name": "python",
   "nbconvert_exporter": "python",
   "pygments_lexer": "ipython3",
   "version": "3.9.13"
  }
 },
 "nbformat": 4,
 "nbformat_minor": 5
}
