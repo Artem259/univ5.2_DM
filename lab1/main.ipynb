{
 "cells": [
  {
   "cell_type": "code",
   "id": "443b056ecc3e19fe",
   "metadata": {
    "ExecuteTime": {
     "end_time": "2025-02-22T20:49:34.048416Z",
     "start_time": "2025-02-22T20:49:33.402681Z"
    }
   },
   "source": [
    "import pandas as pd\n",
    "import sklearn\n",
    "\n",
    "import service\n",
    "from classification.OneRClassifier import OneRClassifier\n",
    "from classification.NaiveBayesClassifier import NaiveBayesClassifier\n",
    "from classification.DecisionTreeClassifier import DecisionTreeClassifier\n",
    "from classification.KNeighborsClassifier import KNeighborsClassifier"
   ],
   "outputs": [],
   "execution_count": 1
  },
  {
   "cell_type": "markdown",
   "id": "5adade351cdd3c30",
   "metadata": {},
   "source": "### data_4x"
  },
  {
   "cell_type": "code",
   "id": "f1d2c882e1e6f0f8",
   "metadata": {
    "ExecuteTime": {
     "end_time": "2025-02-22T20:49:34.063867Z",
     "start_time": "2025-02-22T20:49:34.051943Z"
    }
   },
   "source": [
    "df = pd.read_csv('data/data_4x.csv')\n",
    "df.info()"
   ],
   "outputs": [
    {
     "name": "stdout",
     "output_type": "stream",
     "text": [
      "<class 'pandas.core.frame.DataFrame'>\n",
      "RangeIndex: 10 entries, 0 to 9\n",
      "Data columns (total 5 columns):\n",
      " #   Column  Non-Null Count  Dtype\n",
      "---  ------  --------------  -----\n",
      " 0   x0      10 non-null     int64\n",
      " 1   x1      10 non-null     int64\n",
      " 2   x2      10 non-null     int64\n",
      " 3   x3      10 non-null     int64\n",
      " 4   y       10 non-null     int64\n",
      "dtypes: int64(5)\n",
      "memory usage: 528.0 bytes\n"
     ]
    }
   ],
   "execution_count": 2
  },
  {
   "cell_type": "code",
   "id": "db81a109b0573614",
   "metadata": {
    "ExecuteTime": {
     "end_time": "2025-02-22T20:49:34.187810Z",
     "start_time": "2025-02-22T20:49:34.173686Z"
    }
   },
   "source": [
    "X, y = df.drop(columns='y'), df['y']\n",
    "X.shape, y.shape"
   ],
   "outputs": [
    {
     "data": {
      "text/plain": [
       "((10, 4), (10,))"
      ]
     },
     "execution_count": 3,
     "metadata": {},
     "output_type": "execute_result"
    }
   ],
   "execution_count": 3
  },
  {
   "cell_type": "code",
   "id": "383832b7ce424205",
   "metadata": {
    "ExecuteTime": {
     "end_time": "2025-02-22T20:49:34.220337Z",
     "start_time": "2025-02-22T20:49:34.204803Z"
    }
   },
   "source": [
    "y.replace(0, 'y0', inplace=True)\n",
    "y.replace(1, 'y1', inplace=True)\n",
    "y = list(y)"
   ],
   "outputs": [],
   "execution_count": 4
  },
  {
   "cell_type": "code",
   "id": "ccaeb1b950f68667",
   "metadata": {
    "ExecuteTime": {
     "end_time": "2025-02-22T20:49:34.251635Z",
     "start_time": "2025-02-22T20:49:34.236742Z"
    }
   },
   "source": "X_pred = pd.DataFrame({'x0': [2], 'x1': [1], 'x2': [1], 'x3': [1]})",
   "outputs": [],
   "execution_count": 5
  },
  {
   "cell_type": "markdown",
   "id": "771fb7d05d925e51",
   "metadata": {},
   "source": "#### OneRClassifier"
  },
  {
   "cell_type": "code",
   "id": "b24d64a57bb6053a",
   "metadata": {
    "ExecuteTime": {
     "end_time": "2025-02-22T20:49:34.281962Z",
     "start_time": "2025-02-22T20:49:34.268322Z"
    }
   },
   "source": [
    "clf = OneRClassifier()\n",
    "clf.fit(X, y);"
   ],
   "outputs": [],
   "execution_count": 6
  },
  {
   "cell_type": "code",
   "id": "3f6eef5fd803398f",
   "metadata": {
    "ExecuteTime": {
     "end_time": "2025-02-22T20:49:34.312791Z",
     "start_time": "2025-02-22T20:49:34.298835Z"
    }
   },
   "source": [
    "service.OneRClassifier_info(clf)"
   ],
   "outputs": [
    {
     "name": "stdout",
     "output_type": "stream",
     "text": [
      "x[3] == 0: y = y1\n",
      "x[3] == 1: y = y0\n"
     ]
    }
   ],
   "execution_count": 7
  },
  {
   "cell_type": "code",
   "id": "3eb2789f7796d84f",
   "metadata": {
    "ExecuteTime": {
     "end_time": "2025-02-22T20:49:34.343203Z",
     "start_time": "2025-02-22T20:49:34.328838Z"
    }
   },
   "source": [
    "clf.predict(X_pred)"
   ],
   "outputs": [
    {
     "data": {
      "text/plain": [
       "array(['y0'], dtype='<U2')"
      ]
     },
     "execution_count": 8,
     "metadata": {},
     "output_type": "execute_result"
    }
   ],
   "execution_count": 8
  },
  {
   "cell_type": "markdown",
   "id": "512d0ee0fb0fb702",
   "metadata": {},
   "source": "#### NaiveBayesClassifier"
  },
  {
   "cell_type": "code",
   "id": "df48f442ed1f4111",
   "metadata": {
    "ExecuteTime": {
     "end_time": "2025-02-22T20:49:34.373750Z",
     "start_time": "2025-02-22T20:49:34.359646Z"
    }
   },
   "source": [
    "clf = NaiveBayesClassifier()\n",
    "clf.fit(X, y);"
   ],
   "outputs": [],
   "execution_count": 9
  },
  {
   "cell_type": "code",
   "id": "19c3bc2bb46912cd",
   "metadata": {
    "ExecuteTime": {
     "end_time": "2025-02-22T20:49:34.404822Z",
     "start_time": "2025-02-22T20:49:34.390592Z"
    }
   },
   "source": [
    "service.NaiveBayesClassifier_info(clf)"
   ],
   "outputs": [
    {
     "name": "stdout",
     "output_type": "stream",
     "text": [
      "class_log_probs_:\n",
      "-0.916290731874155 -0.5108256237659907 \n",
      "\n",
      "feature_log_probs_:\n",
      "y  feat_v\n",
      "0  0        -0.559616\n",
      "   1        -1.252763\n",
      "1  2        -0.810930\n",
      "   0        -1.098612\n",
      "   1        -1.504077\n",
      "Name: count, dtype: float64 y  feat_v\n",
      "0  0        -0.693147\n",
      "   1        -0.693147\n",
      "1  0        -0.693147\n",
      "   1        -0.693147\n",
      "Name: count, dtype: float64 y  feat_v\n",
      "0  1        -0.405465\n",
      "   0        -1.098612\n",
      "1  0        -0.693147\n",
      "   1        -0.693147\n",
      "Name: count, dtype: float64 y  feat_v\n",
      "0  1        -0.405465\n",
      "   0        -1.098612\n",
      "1  0        -0.287682\n",
      "   1        -1.386294\n",
      "Name: count, dtype: float64 \n",
      "\n",
      "feature_missing_log_probs_:\n",
      "y\n",
      "0   -1.945910\n",
      "1   -2.197225\n",
      "Name: feat_v, dtype: float64 y\n",
      "0   -1.791759\n",
      "1   -2.079442\n",
      "Name: feat_v, dtype: float64 y\n",
      "0   -1.791759\n",
      "1   -2.079442\n",
      "Name: feat_v, dtype: float64 y\n",
      "0   -1.791759\n",
      "1   -2.079442\n",
      "Name: feat_v, dtype: float64 \n",
      "\n"
     ]
    }
   ],
   "execution_count": 10
  },
  {
   "cell_type": "code",
   "id": "e15feb35d520309c",
   "metadata": {
    "ExecuteTime": {
     "end_time": "2025-02-22T20:49:34.435966Z",
     "start_time": "2025-02-22T20:49:34.421644Z"
    }
   },
   "source": [
    "clf.predict(X_pred)"
   ],
   "outputs": [
    {
     "data": {
      "text/plain": [
       "array(['y1'], dtype='<U2')"
      ]
     },
     "execution_count": 11,
     "metadata": {},
     "output_type": "execute_result"
    }
   ],
   "execution_count": 11
  },
  {
   "cell_type": "markdown",
   "id": "b0e9cd8c255712dd",
   "metadata": {},
   "source": "Compare with similar scikit-learn model"
  },
  {
   "cell_type": "code",
   "id": "70b833e24743fae6",
   "metadata": {
    "ExecuteTime": {
     "end_time": "2025-02-22T20:49:34.467209Z",
     "start_time": "2025-02-22T20:49:34.452830Z"
    }
   },
   "source": [
    "sk_clf = sklearn.naive_bayes.CategoricalNB()\n",
    "sk_clf.fit(X, y);"
   ],
   "outputs": [],
   "execution_count": 12
  },
  {
   "cell_type": "code",
   "id": "755ed1927bb0ca71",
   "metadata": {
    "ExecuteTime": {
     "end_time": "2025-02-22T20:49:34.497704Z",
     "start_time": "2025-02-22T20:49:34.483933Z"
    }
   },
   "source": [
    "service.sklearn_CategoricalNB_info(sk_clf)"
   ],
   "outputs": [
    {
     "name": "stdout",
     "output_type": "stream",
     "text": [
      "class_log_prior_:\n",
      "-0.9162907318741553 -0.5108256237659909 \n",
      "\n",
      "feature_log_prob_:\n",
      "[[-0.55961579 -1.25276297 -1.94591015]\n",
      " [-1.09861229 -1.5040774  -0.81093022]] [[-0.69314718 -0.69314718]\n",
      " [-0.69314718 -0.69314718]] [[-1.09861229 -0.40546511]\n",
      " [-0.69314718 -0.69314718]] [[-1.09861229 -0.40546511]\n",
      " [-0.28768207 -1.38629436]] \n",
      "\n"
     ]
    }
   ],
   "execution_count": 13
  },
  {
   "cell_type": "code",
   "id": "6f4d5f5342731ec0",
   "metadata": {
    "ExecuteTime": {
     "end_time": "2025-02-22T20:49:34.529048Z",
     "start_time": "2025-02-22T20:49:34.514743Z"
    }
   },
   "source": [
    "sk_clf.predict(X_pred)"
   ],
   "outputs": [
    {
     "data": {
      "text/plain": [
       "array(['y1'], dtype='<U2')"
      ]
     },
     "execution_count": 14,
     "metadata": {},
     "output_type": "execute_result"
    }
   ],
   "execution_count": 14
  },
  {
   "cell_type": "markdown",
   "id": "392225109893aacf",
   "metadata": {},
   "source": "#### DecisionTreeClassifier"
  },
  {
   "cell_type": "code",
   "id": "121902b0a763da40",
   "metadata": {
    "ExecuteTime": {
     "end_time": "2025-02-22T20:49:34.559922Z",
     "start_time": "2025-02-22T20:49:34.545323Z"
    }
   },
   "source": [
    "clf = DecisionTreeClassifier()\n",
    "clf.fit(X, y);"
   ],
   "outputs": [],
   "execution_count": 15
  },
  {
   "metadata": {
    "ExecuteTime": {
     "end_time": "2025-02-22T20:49:34.590702Z",
     "start_time": "2025-02-22T20:49:34.576185Z"
    }
   },
   "cell_type": "code",
   "source": "service.DecisionTreeClassifier_info(clf)",
   "id": "ad5ca1083eb79c00",
   "outputs": [],
   "execution_count": 16
  },
  {
   "metadata": {
    "ExecuteTime": {
     "end_time": "2025-02-22T20:49:34.621219Z",
     "start_time": "2025-02-22T20:49:34.607295Z"
    }
   },
   "cell_type": "code",
   "source": "clf.predict(X_pred)",
   "id": "a616c019ad87b34c",
   "outputs": [
    {
     "data": {
      "text/plain": [
       "Ellipsis"
      ]
     },
     "execution_count": 17,
     "metadata": {},
     "output_type": "execute_result"
    }
   ],
   "execution_count": 17
  },
  {
   "cell_type": "markdown",
   "id": "b4e2317535c53e6f",
   "metadata": {},
   "source": "#### KNeighborsClassifier"
  },
  {
   "metadata": {
    "ExecuteTime": {
     "end_time": "2025-02-22T20:49:34.700932Z",
     "start_time": "2025-02-22T20:49:34.689309Z"
    }
   },
   "cell_type": "code",
   "source": "n_neighbors = 3",
   "id": "cacac7601c3e52f3",
   "outputs": [],
   "execution_count": 18
  },
  {
   "metadata": {},
   "cell_type": "markdown",
   "source": "##### weights='uniform'",
   "id": "6e167644fc89a42c"
  },
  {
   "cell_type": "code",
   "id": "52c90241a1a7077a",
   "metadata": {
    "ExecuteTime": {
     "end_time": "2025-02-22T20:49:34.732406Z",
     "start_time": "2025-02-22T20:49:34.717378Z"
    }
   },
   "source": [
    "clf = KNeighborsClassifier(n_neighbors=n_neighbors, weights='uniform')\n",
    "clf.fit(X, y);"
   ],
   "outputs": [],
   "execution_count": 19
  },
  {
   "cell_type": "code",
   "id": "1f936563b35c4f3b",
   "metadata": {
    "ExecuteTime": {
     "end_time": "2025-02-22T20:49:34.763844Z",
     "start_time": "2025-02-22T20:49:34.748841Z"
    }
   },
   "source": "service.KNeighborsClassifier_info(clf, X_pred)",
   "outputs": [
    {
     "name": "stdout",
     "output_type": "stream",
     "text": [
      "neighbors_dist:\n",
      "[1.         1.41421356 1.73205081] \n",
      "\n",
      "neighbors_indices:\n",
      "[8 2 1] \n",
      "\n"
     ]
    }
   ],
   "execution_count": 20
  },
  {
   "cell_type": "code",
   "id": "2dc08d385348f7b8",
   "metadata": {
    "ExecuteTime": {
     "end_time": "2025-02-22T20:49:34.795951Z",
     "start_time": "2025-02-22T20:49:34.780888Z"
    }
   },
   "source": [
    "clf.predict(X_pred)"
   ],
   "outputs": [
    {
     "data": {
      "text/plain": [
       "array(['y1'], dtype='<U2')"
      ]
     },
     "execution_count": 21,
     "metadata": {},
     "output_type": "execute_result"
    }
   ],
   "execution_count": 21
  },
  {
   "metadata": {},
   "cell_type": "markdown",
   "source": "##### weights='distance'",
   "id": "dc155a98d587af67"
  },
  {
   "metadata": {
    "ExecuteTime": {
     "end_time": "2025-02-22T20:49:34.826939Z",
     "start_time": "2025-02-22T20:49:34.812297Z"
    }
   },
   "cell_type": "code",
   "source": [
    "clf = KNeighborsClassifier(n_neighbors=n_neighbors, weights='distance')\n",
    "clf.fit(X, y);"
   ],
   "id": "2d2bdcef3d958db6",
   "outputs": [],
   "execution_count": 22
  },
  {
   "metadata": {
    "ExecuteTime": {
     "end_time": "2025-02-22T20:49:34.857292Z",
     "start_time": "2025-02-22T20:49:34.843152Z"
    }
   },
   "cell_type": "code",
   "source": "clf.predict(X_pred)",
   "id": "532c69e3dd3c800",
   "outputs": [
    {
     "data": {
      "text/plain": [
       "array(['y1'], dtype='<U2')"
      ]
     },
     "execution_count": 23,
     "metadata": {},
     "output_type": "execute_result"
    }
   ],
   "execution_count": 23
  },
  {
   "cell_type": "markdown",
   "id": "68214bb5feb6ac65",
   "metadata": {},
   "source": "Compare with similar scikit-learn model"
  },
  {
   "cell_type": "code",
   "id": "62a4c52cbd3a4170",
   "metadata": {
    "ExecuteTime": {
     "end_time": "2025-02-22T20:49:34.888400Z",
     "start_time": "2025-02-22T20:49:34.872895Z"
    }
   },
   "source": [
    "sk_clf = sklearn.neighbors.KNeighborsClassifier(n_neighbors=n_neighbors)\n",
    "sk_clf.fit(X, y);"
   ],
   "outputs": [],
   "execution_count": 24
  },
  {
   "cell_type": "code",
   "id": "f14d821e167bdcb2",
   "metadata": {
    "ExecuteTime": {
     "end_time": "2025-02-22T20:49:34.919869Z",
     "start_time": "2025-02-22T20:49:34.904857Z"
    }
   },
   "source": "service.sklearn_KNeighborsClassifier_info(sk_clf, X_pred)",
   "outputs": [
    {
     "name": "stdout",
     "output_type": "stream",
     "text": [
      "neighbors_dist:\n",
      "[1.         1.41421356 1.73205081] \n",
      "\n",
      "neighbors_indices:\n",
      "[8 2 1] \n",
      "\n"
     ]
    }
   ],
   "execution_count": 25
  },
  {
   "cell_type": "code",
   "id": "9fb3de8d77fbd4fd",
   "metadata": {
    "ExecuteTime": {
     "end_time": "2025-02-22T20:49:34.950685Z",
     "start_time": "2025-02-22T20:49:34.936230Z"
    }
   },
   "source": [
    "sk_clf.predict(X_pred)"
   ],
   "outputs": [
    {
     "data": {
      "text/plain": [
       "array(['y1'], dtype='<U2')"
      ]
     },
     "execution_count": 26,
     "metadata": {},
     "output_type": "execute_result"
    }
   ],
   "execution_count": 26
  },
  {
   "metadata": {},
   "cell_type": "markdown",
   "source": "##### weights='distance_squared'",
   "id": "543310b87e89067"
  },
  {
   "metadata": {
    "ExecuteTime": {
     "end_time": "2025-02-22T20:49:34.981774Z",
     "start_time": "2025-02-22T20:49:34.966628Z"
    }
   },
   "cell_type": "code",
   "source": [
    "clf = KNeighborsClassifier(n_neighbors=n_neighbors, weights='distance_squared')\n",
    "clf.fit(X, y);"
   ],
   "id": "8ee0e547c741fc80",
   "outputs": [],
   "execution_count": 27
  },
  {
   "metadata": {
    "ExecuteTime": {
     "end_time": "2025-02-22T20:49:35.011829Z",
     "start_time": "2025-02-22T20:49:34.997968Z"
    }
   },
   "cell_type": "code",
   "source": "clf.predict(X_pred)",
   "id": "aa67586dc88e5500",
   "outputs": [
    {
     "data": {
      "text/plain": [
       "array(['y1'], dtype='<U2')"
      ]
     },
     "execution_count": 28,
     "metadata": {},
     "output_type": "execute_result"
    }
   ],
   "execution_count": 28
  },
  {
   "cell_type": "markdown",
   "id": "7f0b9183e2a5f6fb",
   "metadata": {},
   "source": "### More datasets (data_3x)"
  },
  {
   "metadata": {
    "ExecuteTime": {
     "end_time": "2025-02-22T20:49:35.043150Z",
     "start_time": "2025-02-22T20:49:35.028055Z"
    }
   },
   "cell_type": "code",
   "source": [
    "classifiers = [\n",
    "    OneRClassifier(),\n",
    "    NaiveBayesClassifier(),\n",
    "    # DecisionTreeClassifier(),  # TODO\n",
    "    KNeighborsClassifier(weights='uniform'),\n",
    "    KNeighborsClassifier(weights='distance'),\n",
    "    KNeighborsClassifier(weights='distance_squared'),\n",
    "]  # TODO\n",
    "sk_classifiers = [\n",
    "    sklearn.naive_bayes.CategoricalNB(),\n",
    "    sklearn.neighbors.KNeighborsClassifier(weights='uniform'),\n",
    "    sklearn.neighbors.KNeighborsClassifier(weights='distance'),\n",
    "\n",
    "    sklearn.dummy.DummyClassifier(),\n",
    "]"
   ],
   "id": "59ae3bae6c6bb364",
   "outputs": [],
   "execution_count": 29
  },
  {
   "cell_type": "code",
   "id": "66c94c8c8a27a670",
   "metadata": {
    "ExecuteTime": {
     "end_time": "2025-02-22T20:49:35.073797Z",
     "start_time": "2025-02-22T20:49:35.059955Z"
    }
   },
   "source": [
    "df = pd.read_csv('data/data_3x.csv')\n",
    "df.info()"
   ],
   "outputs": [
    {
     "name": "stdout",
     "output_type": "stream",
     "text": [
      "<class 'pandas.core.frame.DataFrame'>\n",
      "RangeIndex: 40 entries, 0 to 39\n",
      "Data columns (total 5 columns):\n",
      " #   Column   Non-Null Count  Dtype\n",
      "---  ------   --------------  -----\n",
      " 0   dataset  40 non-null     int64\n",
      " 1   x0       40 non-null     int64\n",
      " 2   x1       40 non-null     int64\n",
      " 3   x2       40 non-null     int64\n",
      " 4   y        40 non-null     int64\n",
      "dtypes: int64(5)\n",
      "memory usage: 1.7 KB\n"
     ]
    }
   ],
   "execution_count": 30
  },
  {
   "cell_type": "code",
   "id": "260d58b6081d062e",
   "metadata": {
    "ExecuteTime": {
     "end_time": "2025-02-22T20:49:35.166859Z",
     "start_time": "2025-02-22T20:49:35.090956Z"
    }
   },
   "source": [
    "res_df = pd.DataFrame()\n",
    "X_pred = pd.DataFrame({'x0': [1], 'x1': [1], 'x2': [1]})\n",
    "for clf in classifiers:\n",
    "    for df_i, df_v in df.groupby('dataset'):\n",
    "        df_v = df_v.drop(columns=['dataset'])\n",
    "        X, y = df_v.drop(columns='y'), df_v['y']\n",
    "        clf.fit(X, y)\n",
    "        y_pred = clf.predict(X_pred)[0]\n",
    "        res_df.loc[str(clf), df_i] = y_pred\n",
    "\n",
    "res_df.astype(int)"
   ],
   "outputs": [
    {
     "data": {
      "text/plain": [
       "                                                  1  2  3  4\n",
       "OneRClassifier()                                  1  1  1  1\n",
       "NaiveBayesClassifier()                            0  1  0  1\n",
       "KNeighborsClassifier()                            1  1  0  1\n",
       "KNeighborsClassifier(weights='distance')          1  1  0  1\n",
       "KNeighborsClassifier(weights='distance_squared')  1  1  0  1"
      ],
      "text/html": [
       "<div>\n",
       "<style scoped>\n",
       "    .dataframe tbody tr th:only-of-type {\n",
       "        vertical-align: middle;\n",
       "    }\n",
       "\n",
       "    .dataframe tbody tr th {\n",
       "        vertical-align: top;\n",
       "    }\n",
       "\n",
       "    .dataframe thead th {\n",
       "        text-align: right;\n",
       "    }\n",
       "</style>\n",
       "<table border=\"1\" class=\"dataframe\">\n",
       "  <thead>\n",
       "    <tr style=\"text-align: right;\">\n",
       "      <th></th>\n",
       "      <th>1</th>\n",
       "      <th>2</th>\n",
       "      <th>3</th>\n",
       "      <th>4</th>\n",
       "    </tr>\n",
       "  </thead>\n",
       "  <tbody>\n",
       "    <tr>\n",
       "      <th>OneRClassifier()</th>\n",
       "      <td>1</td>\n",
       "      <td>1</td>\n",
       "      <td>1</td>\n",
       "      <td>1</td>\n",
       "    </tr>\n",
       "    <tr>\n",
       "      <th>NaiveBayesClassifier()</th>\n",
       "      <td>0</td>\n",
       "      <td>1</td>\n",
       "      <td>0</td>\n",
       "      <td>1</td>\n",
       "    </tr>\n",
       "    <tr>\n",
       "      <th>KNeighborsClassifier()</th>\n",
       "      <td>1</td>\n",
       "      <td>1</td>\n",
       "      <td>0</td>\n",
       "      <td>1</td>\n",
       "    </tr>\n",
       "    <tr>\n",
       "      <th>KNeighborsClassifier(weights='distance')</th>\n",
       "      <td>1</td>\n",
       "      <td>1</td>\n",
       "      <td>0</td>\n",
       "      <td>1</td>\n",
       "    </tr>\n",
       "    <tr>\n",
       "      <th>KNeighborsClassifier(weights='distance_squared')</th>\n",
       "      <td>1</td>\n",
       "      <td>1</td>\n",
       "      <td>0</td>\n",
       "      <td>1</td>\n",
       "    </tr>\n",
       "  </tbody>\n",
       "</table>\n",
       "</div>"
      ]
     },
     "execution_count": 31,
     "metadata": {},
     "output_type": "execute_result"
    }
   ],
   "execution_count": 31
  },
  {
   "metadata": {},
   "cell_type": "markdown",
   "source": "### Student performance",
   "id": "ad8855b271e1541e"
  },
  {
   "metadata": {
    "ExecuteTime": {
     "end_time": "2025-02-22T20:49:35.198005Z",
     "start_time": "2025-02-22T20:49:35.183808Z"
    }
   },
   "cell_type": "code",
   "source": [
    "df = pd.read_csv('data/student_performance.csv')\n",
    "df.info()"
   ],
   "id": "a3352e7919618284",
   "outputs": [
    {
     "name": "stdout",
     "output_type": "stream",
     "text": [
      "<class 'pandas.core.frame.DataFrame'>\n",
      "RangeIndex: 2392 entries, 0 to 2391\n",
      "Data columns (total 15 columns):\n",
      " #   Column             Non-Null Count  Dtype  \n",
      "---  ------             --------------  -----  \n",
      " 0   StudentID          2392 non-null   int64  \n",
      " 1   Age                2392 non-null   int64  \n",
      " 2   Gender             2392 non-null   int64  \n",
      " 3   Ethnicity          2392 non-null   int64  \n",
      " 4   ParentalEducation  2392 non-null   int64  \n",
      " 5   StudyTimeWeekly    2392 non-null   float64\n",
      " 6   Absences           2392 non-null   int64  \n",
      " 7   Tutoring           2392 non-null   int64  \n",
      " 8   ParentalSupport    2392 non-null   int64  \n",
      " 9   Extracurricular    2392 non-null   int64  \n",
      " 10  Sports             2392 non-null   int64  \n",
      " 11  Music              2392 non-null   int64  \n",
      " 12  Volunteering       2392 non-null   int64  \n",
      " 13  GPA                2392 non-null   float64\n",
      " 14  GradeClass         2392 non-null   float64\n",
      "dtypes: float64(3), int64(12)\n",
      "memory usage: 280.4 KB\n"
     ]
    }
   ],
   "execution_count": 32
  },
  {
   "metadata": {
    "ExecuteTime": {
     "end_time": "2025-02-22T20:49:35.213130Z",
     "start_time": "2025-02-22T20:49:35.200019Z"
    }
   },
   "cell_type": "code",
   "source": [
    "X = df[[\n",
    "    'Age', 'Gender', 'Ethnicity', 'ParentalEducation', 'Absences', 'Tutoring',\n",
    "    'ParentalSupport', 'Extracurricular', 'Sports', 'Music', 'Volunteering'\n",
    "]]\n",
    "y = df['GradeClass']\n",
    "X.shape, y.shape"
   ],
   "id": "db26912ddbbc5fdf",
   "outputs": [
    {
     "data": {
      "text/plain": [
       "((2392, 11), (2392,))"
      ]
     },
     "execution_count": 33,
     "metadata": {},
     "output_type": "execute_result"
    }
   ],
   "execution_count": 33
  },
  {
   "metadata": {
    "ExecuteTime": {
     "end_time": "2025-02-22T20:49:35.229182Z",
     "start_time": "2025-02-22T20:49:35.216488Z"
    }
   },
   "cell_type": "code",
   "source": [
    "from sklearn.model_selection import train_test_split\n",
    "\n",
    "test_size_ratio = 0.2\n",
    "X_train, X_test, y_train, y_test = train_test_split(\n",
    "    X, y,\n",
    "    test_size=test_size_ratio,\n",
    "    stratify=y,\n",
    "    random_state=42\n",
    ")\n",
    "\n",
    "print(f\"Train: X={X_train.shape} y={y_train.shape}\")\n",
    "print(f\"Test: X={X_test.shape} y={y_test.shape}\")"
   ],
   "id": "d5455ff90ebe33ce",
   "outputs": [
    {
     "name": "stdout",
     "output_type": "stream",
     "text": [
      "Train: X=(1913, 11) y=(1913,)\n",
      "Test: X=(479, 11) y=(479,)\n"
     ]
    }
   ],
   "execution_count": 34
  },
  {
   "metadata": {
    "ExecuteTime": {
     "end_time": "2025-02-22T20:49:35.245092Z",
     "start_time": "2025-02-22T20:49:35.231913Z"
    }
   },
   "cell_type": "code",
   "source": [
    "from sklearn.preprocessing import OrdinalEncoder\n",
    "\n",
    "encoder = OrdinalEncoder()\n",
    "X_train = encoder.fit_transform(X_train)\n",
    "X_test = encoder.transform(X_test)"
   ],
   "id": "74b8cd03d3cb2379",
   "outputs": [],
   "execution_count": 35
  },
  {
   "metadata": {
    "ExecuteTime": {
     "end_time": "2025-02-22T20:49:38.957307Z",
     "start_time": "2025-02-22T20:49:35.247559Z"
    }
   },
   "cell_type": "code",
   "source": [
    "from sklearn.metrics import accuracy_score\n",
    "\n",
    "res_df = pd.DataFrame()\n",
    "for i, clf in enumerate(classifiers + sk_classifiers):\n",
    "    res_df.loc[i, 'clf'] = str(clf)\n",
    "    res_df.loc[i, 'impl'] = 'custom' if i < len(classifiers) else 'sklearn'\n",
    "    clf.fit(X_train, y_train)\n",
    "    y_pred = clf.predict(X_test)\n",
    "    accuracy = accuracy_score(y_test, y_pred)\n",
    "    res_df.loc[i, 'accuracy'] = accuracy\n",
    "res_df.sort_values(by=['accuracy'], ascending=False, inplace=True)\n",
    "\n",
    "res_df"
   ],
   "id": "dfd23a91bedd6107",
   "outputs": [
    {
     "data": {
      "text/plain": [
       "                                                clf     impl  accuracy\n",
       "1                            NaiveBayesClassifier()   custom  0.680585\n",
       "5                                   CategoricalNB()  sklearn  0.680585\n",
       "2                            KNeighborsClassifier()   custom  0.665971\n",
       "6                            KNeighborsClassifier()  sklearn  0.661795\n",
       "3          KNeighborsClassifier(weights='distance')   custom  0.661795\n",
       "7          KNeighborsClassifier(weights='distance')  sklearn  0.659708\n",
       "4  KNeighborsClassifier(weights='distance_squared')   custom  0.659708\n",
       "0                                  OneRClassifier()   custom  0.640919\n",
       "8                                 DummyClassifier()  sklearn  0.507307"
      ],
      "text/html": [
       "<div>\n",
       "<style scoped>\n",
       "    .dataframe tbody tr th:only-of-type {\n",
       "        vertical-align: middle;\n",
       "    }\n",
       "\n",
       "    .dataframe tbody tr th {\n",
       "        vertical-align: top;\n",
       "    }\n",
       "\n",
       "    .dataframe thead th {\n",
       "        text-align: right;\n",
       "    }\n",
       "</style>\n",
       "<table border=\"1\" class=\"dataframe\">\n",
       "  <thead>\n",
       "    <tr style=\"text-align: right;\">\n",
       "      <th></th>\n",
       "      <th>clf</th>\n",
       "      <th>impl</th>\n",
       "      <th>accuracy</th>\n",
       "    </tr>\n",
       "  </thead>\n",
       "  <tbody>\n",
       "    <tr>\n",
       "      <th>1</th>\n",
       "      <td>NaiveBayesClassifier()</td>\n",
       "      <td>custom</td>\n",
       "      <td>0.680585</td>\n",
       "    </tr>\n",
       "    <tr>\n",
       "      <th>5</th>\n",
       "      <td>CategoricalNB()</td>\n",
       "      <td>sklearn</td>\n",
       "      <td>0.680585</td>\n",
       "    </tr>\n",
       "    <tr>\n",
       "      <th>2</th>\n",
       "      <td>KNeighborsClassifier()</td>\n",
       "      <td>custom</td>\n",
       "      <td>0.665971</td>\n",
       "    </tr>\n",
       "    <tr>\n",
       "      <th>6</th>\n",
       "      <td>KNeighborsClassifier()</td>\n",
       "      <td>sklearn</td>\n",
       "      <td>0.661795</td>\n",
       "    </tr>\n",
       "    <tr>\n",
       "      <th>3</th>\n",
       "      <td>KNeighborsClassifier(weights='distance')</td>\n",
       "      <td>custom</td>\n",
       "      <td>0.661795</td>\n",
       "    </tr>\n",
       "    <tr>\n",
       "      <th>7</th>\n",
       "      <td>KNeighborsClassifier(weights='distance')</td>\n",
       "      <td>sklearn</td>\n",
       "      <td>0.659708</td>\n",
       "    </tr>\n",
       "    <tr>\n",
       "      <th>4</th>\n",
       "      <td>KNeighborsClassifier(weights='distance_squared')</td>\n",
       "      <td>custom</td>\n",
       "      <td>0.659708</td>\n",
       "    </tr>\n",
       "    <tr>\n",
       "      <th>0</th>\n",
       "      <td>OneRClassifier()</td>\n",
       "      <td>custom</td>\n",
       "      <td>0.640919</td>\n",
       "    </tr>\n",
       "    <tr>\n",
       "      <th>8</th>\n",
       "      <td>DummyClassifier()</td>\n",
       "      <td>sklearn</td>\n",
       "      <td>0.507307</td>\n",
       "    </tr>\n",
       "  </tbody>\n",
       "</table>\n",
       "</div>"
      ]
     },
     "execution_count": 36,
     "metadata": {},
     "output_type": "execute_result"
    }
   ],
   "execution_count": 36
  },
  {
   "cell_type": "markdown",
   "id": "ce5a4a6d11ea0d32",
   "metadata": {},
   "source": "### Check classifiers (scikit-learn)"
  },
  {
   "metadata": {
    "ExecuteTime": {
     "end_time": "2025-02-22T20:49:38.972643Z",
     "start_time": "2025-02-22T20:49:38.960815Z"
    }
   },
   "cell_type": "code",
   "source": [
    "classifiers = [\n",
    "    OneRClassifier(),\n",
    "    NaiveBayesClassifier(),\n",
    "    # DecisionTreeClassifier(),  # TODO\n",
    "    KNeighborsClassifier(),\n",
    "]"
   ],
   "id": "32306e3be426182",
   "outputs": [],
   "execution_count": 37
  },
  {
   "cell_type": "code",
   "id": "33f10e80ae459b89",
   "metadata": {
    "ExecuteTime": {
     "end_time": "2025-02-22T20:49:43.659170Z",
     "start_time": "2025-02-22T20:49:38.975645Z"
    }
   },
   "source": [
    "from sklearn.utils.estimator_checks import estimator_checks_generator\n",
    "\n",
    "total_checks = 0\n",
    "skipped_checks = 0\n",
    "for clf in classifiers:\n",
    "    for (estimator, check) in estimator_checks_generator(clf):\n",
    "        total_checks += 1\n",
    "        try:\n",
    "            check(estimator)\n",
    "        except KeyError as e:\n",
    "            if \"encountered an unknown value\" in str(e):\n",
    "                skipped_checks += 1\n",
    "                continue\n",
    "            raise\n",
    "\n",
    "print(\"Complete.\")\n",
    "print(f\"Total checks: {total_checks}\")\n",
    "print(f\"Skipped checks: {skipped_checks} ({skipped_checks/total_checks*100:.2f}%)\")"
   ],
   "outputs": [
    {
     "name": "stdout",
     "output_type": "stream",
     "text": [
      "Complete.\n",
      "Total checks: 165\n",
      "Skipped checks: 4 (2.42%)\n"
     ]
    }
   ],
   "execution_count": 38
  }
 ],
 "metadata": {
  "kernelspec": {
   "display_name": "Python 3 (ipykernel)",
   "language": "python",
   "name": "python3"
  },
  "language_info": {
   "codemirror_mode": {
    "name": "ipython",
    "version": 3
   },
   "file_extension": ".py",
   "mimetype": "text/x-python",
   "name": "python",
   "nbconvert_exporter": "python",
   "pygments_lexer": "ipython3",
   "version": "3.9.13"
  }
 },
 "nbformat": 4,
 "nbformat_minor": 5
}
