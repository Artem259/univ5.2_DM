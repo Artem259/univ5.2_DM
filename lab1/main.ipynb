{
 "cells": [
  {
   "cell_type": "code",
   "id": "443b056ecc3e19fe",
   "metadata": {
    "ExecuteTime": {
     "end_time": "2025-02-09T20:35:29.550591Z",
     "start_time": "2025-02-09T20:35:28.879181Z"
    }
   },
   "source": [
    "import pandas as pd\n",
    "import sklearn\n",
    "\n",
    "import service\n",
    "from classification.OneRClassifier import OneRClassifier\n",
    "from classification.NaiveBayesClassifier import NaiveBayesClassifier"
   ],
   "outputs": [],
   "execution_count": 1
  },
  {
   "cell_type": "code",
   "id": "f5b1d3450b87fbb8",
   "metadata": {
    "ExecuteTime": {
     "end_time": "2025-02-09T20:35:29.565602Z",
     "start_time": "2025-02-09T20:35:29.553776Z"
    }
   },
   "source": [
    "classifiers = [OneRClassifier()]  # TODO"
   ],
   "outputs": [],
   "execution_count": 2
  },
  {
   "cell_type": "markdown",
   "id": "2b82917d5186e047",
   "metadata": {},
   "source": "#### Check classifiers (scikit-learn)"
  },
  {
   "cell_type": "code",
   "id": "5f12df1257f4ec3a",
   "metadata": {
    "ExecuteTime": {
     "end_time": "2025-02-09T20:35:31.173782Z",
     "start_time": "2025-02-09T20:35:29.674724Z"
    }
   },
   "source": [
    "import warnings\n",
    "from sklearn.utils.estimator_checks import estimator_checks_generator\n",
    "\n",
    "for clf in classifiers:\n",
    "    for (estimator, check) in estimator_checks_generator(clf):\n",
    "        try:\n",
    "            check(estimator)\n",
    "        except KeyError as e:\n",
    "            if \"encountered an unknown value\" in str(e):\n",
    "                continue\n",
    "            warnings.warn(str(e))"
   ],
   "outputs": [],
   "execution_count": 3
  },
  {
   "cell_type": "markdown",
   "id": "5adade351cdd3c30",
   "metadata": {
    "jp-MarkdownHeadingCollapsed": true
   },
   "source": [
    "#### data_4x"
   ]
  },
  {
   "cell_type": "code",
   "id": "f1d2c882e1e6f0f8",
   "metadata": {
    "ExecuteTime": {
     "end_time": "2025-02-09T20:35:31.204714Z",
     "start_time": "2025-02-09T20:35:31.190619Z"
    }
   },
   "source": [
    "df = pd.read_csv('data/data_4x.csv')\n",
    "df.head()"
   ],
   "outputs": [
    {
     "data": {
      "text/plain": [
       "   x0  x1  x2  x3  y\n",
       "0   0   0   1   0  0\n",
       "1   1   0   0   1  1\n",
       "2   2   0   1   0  1\n",
       "3   0   1   0   0  1\n",
       "4   0   1   1   0  1"
      ],
      "text/html": [
       "<div>\n",
       "<style scoped>\n",
       "    .dataframe tbody tr th:only-of-type {\n",
       "        vertical-align: middle;\n",
       "    }\n",
       "\n",
       "    .dataframe tbody tr th {\n",
       "        vertical-align: top;\n",
       "    }\n",
       "\n",
       "    .dataframe thead th {\n",
       "        text-align: right;\n",
       "    }\n",
       "</style>\n",
       "<table border=\"1\" class=\"dataframe\">\n",
       "  <thead>\n",
       "    <tr style=\"text-align: right;\">\n",
       "      <th></th>\n",
       "      <th>x0</th>\n",
       "      <th>x1</th>\n",
       "      <th>x2</th>\n",
       "      <th>x3</th>\n",
       "      <th>y</th>\n",
       "    </tr>\n",
       "  </thead>\n",
       "  <tbody>\n",
       "    <tr>\n",
       "      <th>0</th>\n",
       "      <td>0</td>\n",
       "      <td>0</td>\n",
       "      <td>1</td>\n",
       "      <td>0</td>\n",
       "      <td>0</td>\n",
       "    </tr>\n",
       "    <tr>\n",
       "      <th>1</th>\n",
       "      <td>1</td>\n",
       "      <td>0</td>\n",
       "      <td>0</td>\n",
       "      <td>1</td>\n",
       "      <td>1</td>\n",
       "    </tr>\n",
       "    <tr>\n",
       "      <th>2</th>\n",
       "      <td>2</td>\n",
       "      <td>0</td>\n",
       "      <td>1</td>\n",
       "      <td>0</td>\n",
       "      <td>1</td>\n",
       "    </tr>\n",
       "    <tr>\n",
       "      <th>3</th>\n",
       "      <td>0</td>\n",
       "      <td>1</td>\n",
       "      <td>0</td>\n",
       "      <td>0</td>\n",
       "      <td>1</td>\n",
       "    </tr>\n",
       "    <tr>\n",
       "      <th>4</th>\n",
       "      <td>0</td>\n",
       "      <td>1</td>\n",
       "      <td>1</td>\n",
       "      <td>0</td>\n",
       "      <td>1</td>\n",
       "    </tr>\n",
       "  </tbody>\n",
       "</table>\n",
       "</div>"
      ]
     },
     "execution_count": 4,
     "metadata": {},
     "output_type": "execute_result"
    }
   ],
   "execution_count": 4
  },
  {
   "cell_type": "code",
   "id": "db81a109b0573614",
   "metadata": {
    "ExecuteTime": {
     "end_time": "2025-02-09T20:35:31.312837Z",
     "start_time": "2025-02-09T20:35:31.298938Z"
    }
   },
   "source": [
    "X, y = df.drop(columns='y'), df['y']\n",
    "X.shape, y.shape"
   ],
   "outputs": [
    {
     "data": {
      "text/plain": [
       "((10, 4), (10,))"
      ]
     },
     "execution_count": 5,
     "metadata": {},
     "output_type": "execute_result"
    }
   ],
   "execution_count": 5
  },
  {
   "cell_type": "code",
   "id": "383832b7ce424205",
   "metadata": {
    "ExecuteTime": {
     "end_time": "2025-02-09T20:35:31.358288Z",
     "start_time": "2025-02-09T20:35:31.346771Z"
    }
   },
   "source": [
    "y.replace(0, 'y0', inplace=True)\n",
    "y.replace(1, 'y1', inplace=True)\n",
    "y = list(y)"
   ],
   "outputs": [],
   "execution_count": 6
  },
  {
   "metadata": {
    "ExecuteTime": {
     "end_time": "2025-02-09T20:35:31.436107Z",
     "start_time": "2025-02-09T20:35:31.422066Z"
    }
   },
   "cell_type": "code",
   "source": "X_pred = pd.DataFrame({'x0': [2], 'x1': [1], 'x2': [1], 'x3': [1]})",
   "id": "ccaeb1b950f68667",
   "outputs": [],
   "execution_count": 7
  },
  {
   "cell_type": "markdown",
   "id": "771fb7d05d925e51",
   "metadata": {},
   "source": [
    "##### OneRClassifier"
   ]
  },
  {
   "cell_type": "code",
   "id": "b24d64a57bb6053a",
   "metadata": {
    "ExecuteTime": {
     "end_time": "2025-02-09T20:35:31.467680Z",
     "start_time": "2025-02-09T20:35:31.453162Z"
    }
   },
   "source": [
    "clf = OneRClassifier()\n",
    "clf.fit(X, y);"
   ],
   "outputs": [],
   "execution_count": 8
  },
  {
   "metadata": {
    "ExecuteTime": {
     "end_time": "2025-02-09T20:35:31.498764Z",
     "start_time": "2025-02-09T20:35:31.484252Z"
    }
   },
   "cell_type": "code",
   "source": "service.OneRClassifier_info(clf)",
   "id": "3f6eef5fd803398f",
   "outputs": [
    {
     "name": "stdout",
     "output_type": "stream",
     "text": [
      "x[3] == 0: y = y1\n",
      "x[3] == 1: y = y0\n"
     ]
    }
   ],
   "execution_count": 9
  },
  {
   "metadata": {
    "ExecuteTime": {
     "end_time": "2025-02-09T20:35:31.529364Z",
     "start_time": "2025-02-09T20:35:31.516335Z"
    }
   },
   "cell_type": "code",
   "source": "clf.predict(X_pred)",
   "id": "3eb2789f7796d84f",
   "outputs": [
    {
     "data": {
      "text/plain": [
       "array(['y0'], dtype='<U2')"
      ]
     },
     "execution_count": 10,
     "metadata": {},
     "output_type": "execute_result"
    }
   ],
   "execution_count": 10
  },
  {
   "metadata": {},
   "cell_type": "markdown",
   "source": "Compare with similar scikit-learn model",
   "id": "4e69f6cf7a75402b"
  },
  {
   "metadata": {
    "ExecuteTime": {
     "end_time": "2025-02-09T20:35:31.559930Z",
     "start_time": "2025-02-09T20:35:31.545410Z"
    }
   },
   "cell_type": "code",
   "source": [
    "sk_clf = sklearn.tree.DecisionTreeClassifier(max_depth=1)\n",
    "sk_clf.fit(X, y);"
   ],
   "id": "9850633b536330d3",
   "outputs": [],
   "execution_count": 11
  },
  {
   "metadata": {
    "ExecuteTime": {
     "end_time": "2025-02-09T20:35:31.591630Z",
     "start_time": "2025-02-09T20:35:31.579342Z"
    }
   },
   "cell_type": "code",
   "source": "service.sklearn_DecisionTreeClassifier_info(sk_clf)",
   "id": "49414f85bb667d97",
   "outputs": [
    {
     "name": "stdout",
     "output_type": "stream",
     "text": [
      "x[3] <= 0.5: y = y1\n",
      "x[3] > 0.5: y = y0\n"
     ]
    }
   ],
   "execution_count": 12
  },
  {
   "metadata": {
    "ExecuteTime": {
     "end_time": "2025-02-09T20:35:31.621882Z",
     "start_time": "2025-02-09T20:35:31.611479Z"
    }
   },
   "cell_type": "code",
   "source": "sk_clf.predict(X_pred)",
   "id": "f64e4b1656655881",
   "outputs": [
    {
     "data": {
      "text/plain": [
       "array(['y0'], dtype='<U2')"
      ]
     },
     "execution_count": 13,
     "metadata": {},
     "output_type": "execute_result"
    }
   ],
   "execution_count": 13
  },
  {
   "cell_type": "markdown",
   "id": "512d0ee0fb0fb702",
   "metadata": {},
   "source": [
    "##### NaiveBayesClassifier"
   ]
  },
  {
   "cell_type": "code",
   "id": "df48f442ed1f4111",
   "metadata": {
    "ExecuteTime": {
     "end_time": "2025-02-09T20:35:31.669431Z",
     "start_time": "2025-02-09T20:35:31.646974Z"
    }
   },
   "source": [
    "clf = NaiveBayesClassifier()\n",
    "clf.fit(X, y);"
   ],
   "outputs": [],
   "execution_count": 14
  },
  {
   "metadata": {
    "ExecuteTime": {
     "end_time": "2025-02-09T20:35:31.699950Z",
     "start_time": "2025-02-09T20:35:31.685972Z"
    }
   },
   "cell_type": "code",
   "source": "service.NaiveBayesClassifier_info(clf)",
   "id": "19c3bc2bb46912cd",
   "outputs": [
    {
     "name": "stdout",
     "output_type": "stream",
     "text": [
      "y  y   \n",
      "0  0  0    0.571429\n",
      "      1    0.285714\n",
      "1  1  2    0.444444\n",
      "      0    0.333333\n",
      "      1    0.222222\n",
      "Name: attr, dtype: float64\n",
      "0  y  0\n",
      "0  0  0    0.428571\n",
      "   1  0    0.571429\n",
      "1  0  1    0.428571\n",
      "   1  1    0.571429\n",
      "Name: attr, dtype: float64\n",
      "y  y   \n",
      "0  0  1    0.666667\n",
      "      0    0.333333\n",
      "1  1  0    0.500000\n",
      "      1    0.500000\n",
      "Name: attr, dtype: float64\n",
      "y  y   \n",
      "0  0  1    0.666667\n",
      "      0    0.333333\n",
      "1  1  0    0.750000\n",
      "      1    0.250000\n",
      "Name: attr, dtype: float64\n",
      "0.3333333333333333\n",
      "0.5\n",
      "0.5\n",
      "0.5\n"
     ]
    }
   ],
   "execution_count": 15
  },
  {
   "cell_type": "code",
   "id": "e15feb35d520309c",
   "metadata": {
    "ExecuteTime": {
     "end_time": "2025-02-09T20:35:31.730928Z",
     "start_time": "2025-02-09T20:35:31.715814Z"
    }
   },
   "source": "clf.predict(X_pred)",
   "outputs": [
    {
     "data": {
      "text/plain": [
       "array(Ellipsis, dtype=object)"
      ]
     },
     "execution_count": 16,
     "metadata": {},
     "output_type": "execute_result"
    }
   ],
   "execution_count": 16
  },
  {
   "metadata": {},
   "cell_type": "markdown",
   "source": "Compare with similar scikit-learn model",
   "id": "b0e9cd8c255712dd"
  },
  {
   "metadata": {
    "ExecuteTime": {
     "end_time": "2025-02-09T20:35:31.761624Z",
     "start_time": "2025-02-09T20:35:31.747849Z"
    }
   },
   "cell_type": "code",
   "source": [
    "sk_clf = sklearn.naive_bayes.MultinomialNB()\n",
    "sk_clf.fit(X, y);"
   ],
   "id": "70b833e24743fae6",
   "outputs": [],
   "execution_count": 17
  },
  {
   "metadata": {
    "ExecuteTime": {
     "end_time": "2025-02-09T20:35:31.808211Z",
     "start_time": "2025-02-09T20:35:31.794123Z"
    }
   },
   "cell_type": "code",
   "source": "service.sklearn_MultinomialNB_info(sk_clf)",
   "id": "755ed1927bb0ca71",
   "outputs": [],
   "execution_count": 18
  },
  {
   "metadata": {
    "ExecuteTime": {
     "end_time": "2025-02-09T20:35:31.870878Z",
     "start_time": "2025-02-09T20:35:31.856279Z"
    }
   },
   "cell_type": "code",
   "source": "sk_clf.predict(X_pred)",
   "id": "6f4d5f5342731ec0",
   "outputs": [
    {
     "data": {
      "text/plain": [
       "array(['y1'], dtype='<U2')"
      ]
     },
     "execution_count": 19,
     "metadata": {},
     "output_type": "execute_result"
    }
   ],
   "execution_count": 19
  },
  {
   "cell_type": "markdown",
   "id": "b4e2317535c53e6f",
   "metadata": {},
   "source": [
    "##### DecisionTreeClassifier"
   ]
  },
  {
   "cell_type": "code",
   "id": "52c90241a1a7077a",
   "metadata": {
    "ExecuteTime": {
     "end_time": "2025-02-09T20:35:31.901339Z",
     "start_time": "2025-02-09T20:35:31.893840Z"
    }
   },
   "source": [
    "# TODO"
   ],
   "outputs": [],
   "execution_count": 20
  },
  {
   "cell_type": "markdown",
   "id": "72249da8e1afa44d",
   "metadata": {},
   "source": [
    "##### KNeighborsClassifier"
   ]
  },
  {
   "cell_type": "code",
   "id": "70324d732b5407a2",
   "metadata": {
    "ExecuteTime": {
     "end_time": "2025-02-09T20:35:31.933218Z",
     "start_time": "2025-02-09T20:35:31.920978Z"
    }
   },
   "source": [
    "# TODO"
   ],
   "outputs": [],
   "execution_count": 21
  },
  {
   "cell_type": "markdown",
   "id": "7f0b9183e2a5f6fb",
   "metadata": {},
   "source": [
    "#### data_3x"
   ]
  },
  {
   "cell_type": "code",
   "id": "66c94c8c8a27a670",
   "metadata": {
    "ExecuteTime": {
     "end_time": "2025-02-09T20:35:31.963825Z",
     "start_time": "2025-02-09T20:35:31.953455Z"
    }
   },
   "source": [
    "df = pd.read_csv('data/data_3x.csv')\n",
    "df.head()"
   ],
   "outputs": [
    {
     "data": {
      "text/plain": [
       "   dataset  x0  x1  x2  y\n",
       "0        1   0   1   2  1\n",
       "1        1   1   0   1  1\n",
       "2        1   0   1   1  0\n",
       "3        1   0   0   1  1\n",
       "4        1   0   0   2  1"
      ],
      "text/html": [
       "<div>\n",
       "<style scoped>\n",
       "    .dataframe tbody tr th:only-of-type {\n",
       "        vertical-align: middle;\n",
       "    }\n",
       "\n",
       "    .dataframe tbody tr th {\n",
       "        vertical-align: top;\n",
       "    }\n",
       "\n",
       "    .dataframe thead th {\n",
       "        text-align: right;\n",
       "    }\n",
       "</style>\n",
       "<table border=\"1\" class=\"dataframe\">\n",
       "  <thead>\n",
       "    <tr style=\"text-align: right;\">\n",
       "      <th></th>\n",
       "      <th>dataset</th>\n",
       "      <th>x0</th>\n",
       "      <th>x1</th>\n",
       "      <th>x2</th>\n",
       "      <th>y</th>\n",
       "    </tr>\n",
       "  </thead>\n",
       "  <tbody>\n",
       "    <tr>\n",
       "      <th>0</th>\n",
       "      <td>1</td>\n",
       "      <td>0</td>\n",
       "      <td>1</td>\n",
       "      <td>2</td>\n",
       "      <td>1</td>\n",
       "    </tr>\n",
       "    <tr>\n",
       "      <th>1</th>\n",
       "      <td>1</td>\n",
       "      <td>1</td>\n",
       "      <td>0</td>\n",
       "      <td>1</td>\n",
       "      <td>1</td>\n",
       "    </tr>\n",
       "    <tr>\n",
       "      <th>2</th>\n",
       "      <td>1</td>\n",
       "      <td>0</td>\n",
       "      <td>1</td>\n",
       "      <td>1</td>\n",
       "      <td>0</td>\n",
       "    </tr>\n",
       "    <tr>\n",
       "      <th>3</th>\n",
       "      <td>1</td>\n",
       "      <td>0</td>\n",
       "      <td>0</td>\n",
       "      <td>1</td>\n",
       "      <td>1</td>\n",
       "    </tr>\n",
       "    <tr>\n",
       "      <th>4</th>\n",
       "      <td>1</td>\n",
       "      <td>0</td>\n",
       "      <td>0</td>\n",
       "      <td>2</td>\n",
       "      <td>1</td>\n",
       "    </tr>\n",
       "  </tbody>\n",
       "</table>\n",
       "</div>"
      ]
     },
     "execution_count": 22,
     "metadata": {},
     "output_type": "execute_result"
    }
   ],
   "execution_count": 22
  },
  {
   "cell_type": "code",
   "id": "260d58b6081d062e",
   "metadata": {
    "ExecuteTime": {
     "end_time": "2025-02-09T20:35:32.041777Z",
     "start_time": "2025-02-09T20:35:32.011740Z"
    }
   },
   "source": [
    "res_df = pd.DataFrame(\n",
    "    index=[str(clf) for clf in classifiers],\n",
    "    columns=df['dataset'].unique()\n",
    ")\n",
    "\n",
    "X_pred = pd.DataFrame({'x0': [1], 'x1': [1], 'x2': [1]})\n",
    "for clf in classifiers:\n",
    "    for df_i, df_v in df.groupby('dataset'):\n",
    "        df_v = df_v.drop(columns=['dataset'])\n",
    "        X, y = df_v.drop(columns='y'), df_v['y']\n",
    "        clf.fit(X, y)\n",
    "        y_pred = clf.predict(X_pred)[0]\n",
    "        res_df.loc[str(clf), df_i] = y_pred\n",
    "\n",
    "res_df"
   ],
   "outputs": [
    {
     "data": {
      "text/plain": [
       "                  1  2  3  4\n",
       "OneRClassifier()  1  1  1  1"
      ],
      "text/html": [
       "<div>\n",
       "<style scoped>\n",
       "    .dataframe tbody tr th:only-of-type {\n",
       "        vertical-align: middle;\n",
       "    }\n",
       "\n",
       "    .dataframe tbody tr th {\n",
       "        vertical-align: top;\n",
       "    }\n",
       "\n",
       "    .dataframe thead th {\n",
       "        text-align: right;\n",
       "    }\n",
       "</style>\n",
       "<table border=\"1\" class=\"dataframe\">\n",
       "  <thead>\n",
       "    <tr style=\"text-align: right;\">\n",
       "      <th></th>\n",
       "      <th>1</th>\n",
       "      <th>2</th>\n",
       "      <th>3</th>\n",
       "      <th>4</th>\n",
       "    </tr>\n",
       "  </thead>\n",
       "  <tbody>\n",
       "    <tr>\n",
       "      <th>OneRClassifier()</th>\n",
       "      <td>1</td>\n",
       "      <td>1</td>\n",
       "      <td>1</td>\n",
       "      <td>1</td>\n",
       "    </tr>\n",
       "  </tbody>\n",
       "</table>\n",
       "</div>"
      ]
     },
     "execution_count": 23,
     "metadata": {},
     "output_type": "execute_result"
    }
   ],
   "execution_count": 23
  }
 ],
 "metadata": {
  "kernelspec": {
   "display_name": "Python 3 (ipykernel)",
   "language": "python",
   "name": "python3"
  },
  "language_info": {
   "codemirror_mode": {
    "name": "ipython",
    "version": 3
   },
   "file_extension": ".py",
   "mimetype": "text/x-python",
   "name": "python",
   "nbconvert_exporter": "python",
   "pygments_lexer": "ipython3",
   "version": "3.9.13"
  }
 },
 "nbformat": 4,
 "nbformat_minor": 5
}
