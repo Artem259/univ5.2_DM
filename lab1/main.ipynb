{
 "cells": [
  {
   "metadata": {
    "ExecuteTime": {
     "end_time": "2025-01-30T16:51:53.382253Z",
     "start_time": "2025-01-30T16:51:53.370955Z"
    }
   },
   "cell_type": "code",
   "source": [
    "import pandas as pd\n",
    "\n",
    "from classification.OneRClassifier import OneRClassifier"
   ],
   "id": "443b056ecc3e19fe",
   "outputs": [],
   "execution_count": 12
  },
  {
   "metadata": {
    "ExecuteTime": {
     "end_time": "2025-01-30T16:51:53.397439Z",
     "start_time": "2025-01-30T16:51:53.385572Z"
    }
   },
   "cell_type": "code",
   "source": "classifiers = [OneRClassifier()]  # TODO",
   "id": "f5b1d3450b87fbb8",
   "outputs": [],
   "execution_count": 13
  },
  {
   "metadata": {},
   "cell_type": "markdown",
   "source": "#### OneRClassifier",
   "id": "771fb7d05d925e51"
  },
  {
   "metadata": {
    "ExecuteTime": {
     "end_time": "2025-01-30T16:51:53.428156Z",
     "start_time": "2025-01-30T16:51:53.414252Z"
    }
   },
   "cell_type": "code",
   "source": [
    "df = pd.read_csv('data/data_4x.csv')\n",
    "df.head()"
   ],
   "id": "f1d2c882e1e6f0f8",
   "outputs": [
    {
     "data": {
      "text/plain": [
       "   x0  x1  x2  x3  y\n",
       "0   0   0   1   0  0\n",
       "1   1   0   0   1  1\n",
       "2   2   0   1   0  1\n",
       "3   0   1   0   0  1\n",
       "4   0   1   1   0  1"
      ],
      "text/html": [
       "<div>\n",
       "<style scoped>\n",
       "    .dataframe tbody tr th:only-of-type {\n",
       "        vertical-align: middle;\n",
       "    }\n",
       "\n",
       "    .dataframe tbody tr th {\n",
       "        vertical-align: top;\n",
       "    }\n",
       "\n",
       "    .dataframe thead th {\n",
       "        text-align: right;\n",
       "    }\n",
       "</style>\n",
       "<table border=\"1\" class=\"dataframe\">\n",
       "  <thead>\n",
       "    <tr style=\"text-align: right;\">\n",
       "      <th></th>\n",
       "      <th>x0</th>\n",
       "      <th>x1</th>\n",
       "      <th>x2</th>\n",
       "      <th>x3</th>\n",
       "      <th>y</th>\n",
       "    </tr>\n",
       "  </thead>\n",
       "  <tbody>\n",
       "    <tr>\n",
       "      <th>0</th>\n",
       "      <td>0</td>\n",
       "      <td>0</td>\n",
       "      <td>1</td>\n",
       "      <td>0</td>\n",
       "      <td>0</td>\n",
       "    </tr>\n",
       "    <tr>\n",
       "      <th>1</th>\n",
       "      <td>1</td>\n",
       "      <td>0</td>\n",
       "      <td>0</td>\n",
       "      <td>1</td>\n",
       "      <td>1</td>\n",
       "    </tr>\n",
       "    <tr>\n",
       "      <th>2</th>\n",
       "      <td>2</td>\n",
       "      <td>0</td>\n",
       "      <td>1</td>\n",
       "      <td>0</td>\n",
       "      <td>1</td>\n",
       "    </tr>\n",
       "    <tr>\n",
       "      <th>3</th>\n",
       "      <td>0</td>\n",
       "      <td>1</td>\n",
       "      <td>0</td>\n",
       "      <td>0</td>\n",
       "      <td>1</td>\n",
       "    </tr>\n",
       "    <tr>\n",
       "      <th>4</th>\n",
       "      <td>0</td>\n",
       "      <td>1</td>\n",
       "      <td>1</td>\n",
       "      <td>0</td>\n",
       "      <td>1</td>\n",
       "    </tr>\n",
       "  </tbody>\n",
       "</table>\n",
       "</div>"
      ]
     },
     "execution_count": 14,
     "metadata": {},
     "output_type": "execute_result"
    }
   ],
   "execution_count": 14
  },
  {
   "metadata": {
    "ExecuteTime": {
     "end_time": "2025-01-30T16:51:53.490582Z",
     "start_time": "2025-01-30T16:51:53.476664Z"
    }
   },
   "cell_type": "code",
   "source": [
    "X, y = df.drop(columns='y'), df['y']\n",
    "X.shape, y.shape"
   ],
   "id": "db81a109b0573614",
   "outputs": [
    {
     "data": {
      "text/plain": [
       "((10, 4), (10,))"
      ]
     },
     "execution_count": 15,
     "metadata": {},
     "output_type": "execute_result"
    }
   ],
   "execution_count": 15
  },
  {
   "metadata": {
    "ExecuteTime": {
     "end_time": "2025-01-30T16:51:53.567663Z",
     "start_time": "2025-01-30T16:51:53.562665Z"
    }
   },
   "cell_type": "code",
   "source": [
    "y.replace(0, 'class_0', inplace=True)\n",
    "y.replace(1, 'class_1', inplace=True)\n",
    "y = list(y)"
   ],
   "id": "383832b7ce424205",
   "outputs": [],
   "execution_count": 16
  },
  {
   "metadata": {
    "ExecuteTime": {
     "end_time": "2025-01-30T16:51:53.645026Z",
     "start_time": "2025-01-30T16:51:53.631025Z"
    }
   },
   "cell_type": "code",
   "source": [
    "model = OneRClassifier()\n",
    "model.fit(X, y);"
   ],
   "id": "b24d64a57bb6053a",
   "outputs": [],
   "execution_count": 17
  },
  {
   "metadata": {
    "ExecuteTime": {
     "end_time": "2025-01-30T16:51:53.659852Z",
     "start_time": "2025-01-30T16:51:53.651033Z"
    }
   },
   "cell_type": "code",
   "source": "model.predict(pd.DataFrame({'x0': [2], 'x1': [1], 'x2': [1], 'x3': [1]}))",
   "id": "e72fd2c428c20ede",
   "outputs": [
    {
     "data": {
      "text/plain": [
       "array(['class_0'], dtype='<U7')"
      ]
     },
     "execution_count": 18,
     "metadata": {},
     "output_type": "execute_result"
    }
   ],
   "execution_count": 18
  },
  {
   "metadata": {},
   "cell_type": "markdown",
   "source": "#### Check classifiers (Sklearn)",
   "id": "2b82917d5186e047"
  },
  {
   "metadata": {
    "ExecuteTime": {
     "end_time": "2025-01-30T16:51:55.197313Z",
     "start_time": "2025-01-30T16:51:53.727300Z"
    }
   },
   "cell_type": "code",
   "source": [
    "import warnings\n",
    "from sklearn.utils.estimator_checks import estimator_checks_generator\n",
    "\n",
    "for classifier in classifiers:\n",
    "    for (estimator, check) in estimator_checks_generator(classifier):\n",
    "        try:\n",
    "            check(estimator)\n",
    "        except KeyError as e:\n",
    "            if \"encountered an unknown value\" in str(e):\n",
    "                continue\n",
    "            warnings.warn(str(e))"
   ],
   "id": "5f12df1257f4ec3a",
   "outputs": [],
   "execution_count": 19
  },
  {
   "metadata": {},
   "cell_type": "markdown",
   "source": "#### data_3x",
   "id": "7f0b9183e2a5f6fb"
  },
  {
   "metadata": {
    "ExecuteTime": {
     "end_time": "2025-01-30T16:51:55.228377Z",
     "start_time": "2025-01-30T16:51:55.214157Z"
    }
   },
   "cell_type": "code",
   "source": [
    "df = pd.read_csv('data/data_3x.csv')\n",
    "df.head()"
   ],
   "id": "66c94c8c8a27a670",
   "outputs": [
    {
     "data": {
      "text/plain": [
       "   dataset  x0  x1  x2  y\n",
       "0        1   0   1   2  1\n",
       "1        1   1   0   1  1\n",
       "2        1   0   1   1  0\n",
       "3        1   0   0   1  1\n",
       "4        1   0   0   2  1"
      ],
      "text/html": [
       "<div>\n",
       "<style scoped>\n",
       "    .dataframe tbody tr th:only-of-type {\n",
       "        vertical-align: middle;\n",
       "    }\n",
       "\n",
       "    .dataframe tbody tr th {\n",
       "        vertical-align: top;\n",
       "    }\n",
       "\n",
       "    .dataframe thead th {\n",
       "        text-align: right;\n",
       "    }\n",
       "</style>\n",
       "<table border=\"1\" class=\"dataframe\">\n",
       "  <thead>\n",
       "    <tr style=\"text-align: right;\">\n",
       "      <th></th>\n",
       "      <th>dataset</th>\n",
       "      <th>x0</th>\n",
       "      <th>x1</th>\n",
       "      <th>x2</th>\n",
       "      <th>y</th>\n",
       "    </tr>\n",
       "  </thead>\n",
       "  <tbody>\n",
       "    <tr>\n",
       "      <th>0</th>\n",
       "      <td>1</td>\n",
       "      <td>0</td>\n",
       "      <td>1</td>\n",
       "      <td>2</td>\n",
       "      <td>1</td>\n",
       "    </tr>\n",
       "    <tr>\n",
       "      <th>1</th>\n",
       "      <td>1</td>\n",
       "      <td>1</td>\n",
       "      <td>0</td>\n",
       "      <td>1</td>\n",
       "      <td>1</td>\n",
       "    </tr>\n",
       "    <tr>\n",
       "      <th>2</th>\n",
       "      <td>1</td>\n",
       "      <td>0</td>\n",
       "      <td>1</td>\n",
       "      <td>1</td>\n",
       "      <td>0</td>\n",
       "    </tr>\n",
       "    <tr>\n",
       "      <th>3</th>\n",
       "      <td>1</td>\n",
       "      <td>0</td>\n",
       "      <td>0</td>\n",
       "      <td>1</td>\n",
       "      <td>1</td>\n",
       "    </tr>\n",
       "    <tr>\n",
       "      <th>4</th>\n",
       "      <td>1</td>\n",
       "      <td>0</td>\n",
       "      <td>0</td>\n",
       "      <td>2</td>\n",
       "      <td>1</td>\n",
       "    </tr>\n",
       "  </tbody>\n",
       "</table>\n",
       "</div>"
      ]
     },
     "execution_count": 20,
     "metadata": {},
     "output_type": "execute_result"
    }
   ],
   "execution_count": 20
  },
  {
   "metadata": {
    "ExecuteTime": {
     "end_time": "2025-01-30T16:51:55.291502Z",
     "start_time": "2025-01-30T16:51:55.276671Z"
    }
   },
   "cell_type": "code",
   "source": "",
   "id": "260d58b6081d062e",
   "outputs": [],
   "execution_count": null
  }
 ],
 "metadata": {
  "kernelspec": {
   "display_name": "Python 3",
   "language": "python",
   "name": "python3"
  },
  "language_info": {
   "codemirror_mode": {
    "name": "ipython",
    "version": 2
   },
   "file_extension": ".py",
   "mimetype": "text/x-python",
   "name": "python",
   "nbconvert_exporter": "python",
   "pygments_lexer": "ipython2",
   "version": "2.7.6"
  }
 },
 "nbformat": 4,
 "nbformat_minor": 5
}
